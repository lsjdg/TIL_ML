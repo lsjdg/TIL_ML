{
 "cells": [
  {
   "cell_type": "code",
   "execution_count": 13,
   "metadata": {},
   "outputs": [
    {
     "data": {
      "text/plain": [
       "'mps'"
      ]
     },
     "execution_count": 13,
     "metadata": {},
     "output_type": "execute_result"
    }
   ],
   "source": [
    "import torch\n",
    "\n",
    "if torch.backends.mps.is_available():\n",
    "    device = \"mps\"\n",
    "else:\n",
    "    device = \"cpu\"\n",
    "\n",
    "device"
   ]
  },
  {
   "cell_type": "code",
   "execution_count": 14,
   "metadata": {},
   "outputs": [],
   "source": [
    "from torchvision import datasets, transforms\n",
    "import torch\n",
    "\n",
    "train_ds = datasets.MNIST(\n",
    "    root=\"../../data\", train=True, transform=transforms.ToTensor(), download=True\n",
    ")\n",
    "test_ds = datasets.MNIST(\n",
    "    root=\"../../data\", train=False, transform=transforms.ToTensor(), download=True\n",
    ")\n",
    "\n",
    "train_dl = torch.utils.data.DataLoader(train_ds, batch_size=64, shuffle=True)\n",
    "test_dl = torch.utils.data.DataLoader(test_ds, batch_size=64, shuffle=True)"
   ]
  },
  {
   "cell_type": "markdown",
   "metadata": {},
   "source": [
    "## CNN classification model\n",
    "* Conv layer 를 이용한 feature extraction\n",
    "* feature extraction 이 완료된 feature map 을 이용해 추론하는 과정을 FCL 로 구현"
   ]
  },
  {
   "cell_type": "code",
   "execution_count": 15,
   "metadata": {},
   "outputs": [],
   "source": [
    "from torch import nn\n",
    "\n",
    "\n",
    "class MNIST_CNN(nn.Module):\n",
    "    def __init__(self):\n",
    "        super().__init__()\n",
    "\n",
    "        ########## Feature Extraction ##########\n",
    "        self.conv_1 = nn.Conv2d(\n",
    "            in_channels=1,  # gray scale image\n",
    "            out_channels=32,\n",
    "            kernel_size=3,  # filter shape : (32, 1, 3, 3)\n",
    "            padding=1,\n",
    "        )\n",
    "        self.relu_1 = nn.ReLU()\n",
    "\n",
    "        self.conv_2 = nn.Conv2d(\n",
    "            in_channels=32, out_channels=32, kernel_size=3, padding=1\n",
    "        )\n",
    "        self.relu_2 = nn.ReLU()\n",
    "\n",
    "        self.max_pool_1 = nn.MaxPool2d(kernel_size=2)\n",
    "\n",
    "        self.conv_3 = nn.Conv2d(\n",
    "            in_channels=32, out_channels=64, kernel_size=3, padding=1\n",
    "        )\n",
    "        self.relu_3 = nn.ReLU()\n",
    "\n",
    "        self.conv_4 = nn.Conv2d(\n",
    "            in_channels=64, out_channels=64, kernel_size=3, padding=1\n",
    "        )\n",
    "        self.relu_4 = nn.ReLU()\n",
    "\n",
    "        self.max_pool_2 = nn.MaxPool2d(kernel_size=2)\n",
    "\n",
    "        self.dropout = nn.Dropout(0.25)\n",
    "\n",
    "        ########## Fully Connected Layer ##########\n",
    "        self.flatten = nn.Flatten()  # (N, 64*7*7) after flattening\n",
    "\n",
    "        self.linear_1 = nn.Linear(7 * 7 * 64, out_features=256)\n",
    "        self.relu_5 = nn.ReLU()\n",
    "\n",
    "        self.linear_2 = nn.Linear(256, 128)\n",
    "        self.relu_6 = nn.ReLU()\n",
    "\n",
    "        # output layer\n",
    "        self.out_layer = nn.Linear(128, 10)\n",
    "\n",
    "    def forward(self, x):\n",
    "        # Feature Extraction\n",
    "        x = self.conv_1(x)\n",
    "        x = self.relu_1(x)\n",
    "\n",
    "        x = self.conv_2(x)\n",
    "        x = self.relu_2(x)\n",
    "\n",
    "        x = self.max_pool_1(x)\n",
    "\n",
    "        x = self.conv_3(x)\n",
    "        x = self.relu_3(x)\n",
    "\n",
    "        x = self.conv_4(x)\n",
    "        x = self.relu_4(x)\n",
    "\n",
    "        x = self.max_pool_2(x)\n",
    "\n",
    "        x = self.dropout(x)\n",
    "\n",
    "        # FCL\n",
    "        x = self.flatten(x)\n",
    "\n",
    "        x = self.linear_1(x)\n",
    "        x = self.relu_5(x)\n",
    "\n",
    "        x = self.linear_2(x)\n",
    "        x = self.relu_6(x)\n",
    "\n",
    "        y = self.out_layer(x)\n",
    "\n",
    "        return y"
   ]
  },
  {
   "cell_type": "code",
   "execution_count": 16,
   "metadata": {},
   "outputs": [
    {
     "data": {
      "text/plain": [
       "MNIST_CNN(\n",
       "  (conv_1): Conv2d(1, 32, kernel_size=(3, 3), stride=(1, 1), padding=(1, 1))\n",
       "  (relu_1): ReLU()\n",
       "  (conv_2): Conv2d(32, 32, kernel_size=(3, 3), stride=(1, 1), padding=(1, 1))\n",
       "  (relu_2): ReLU()\n",
       "  (max_pool_1): MaxPool2d(kernel_size=2, stride=2, padding=0, dilation=1, ceil_mode=False)\n",
       "  (conv_3): Conv2d(32, 64, kernel_size=(3, 3), stride=(1, 1), padding=(1, 1))\n",
       "  (relu_3): ReLU()\n",
       "  (conv_4): Conv2d(64, 64, kernel_size=(3, 3), stride=(1, 1), padding=(1, 1))\n",
       "  (relu_4): ReLU()\n",
       "  (max_pool_2): MaxPool2d(kernel_size=2, stride=2, padding=0, dilation=1, ceil_mode=False)\n",
       "  (dropout): Dropout(p=0.25, inplace=False)\n",
       "  (flatten): Flatten(start_dim=1, end_dim=-1)\n",
       "  (linear_1): Linear(in_features=3136, out_features=256, bias=True)\n",
       "  (relu_5): ReLU()\n",
       "  (linear_2): Linear(in_features=256, out_features=128, bias=True)\n",
       "  (relu_6): ReLU()\n",
       "  (out_layer): Linear(in_features=128, out_features=10, bias=True)\n",
       ")"
      ]
     },
     "execution_count": 16,
     "metadata": {},
     "output_type": "execute_result"
    }
   ],
   "source": [
    "model = MNIST_CNN()\n",
    "model.to(device)"
   ]
  },
  {
   "cell_type": "code",
   "execution_count": 17,
   "metadata": {},
   "outputs": [
    {
     "data": {
      "text/plain": [
       "==========================================================================================\n",
       "Layer (type:depth-idx)                   Output Shape              Param #\n",
       "==========================================================================================\n",
       "MNIST_CNN                                [64, 10]                  --\n",
       "├─Conv2d: 1-1                            [64, 32, 28, 28]          320\n",
       "├─ReLU: 1-2                              [64, 32, 28, 28]          --\n",
       "├─Conv2d: 1-3                            [64, 32, 28, 28]          9,248\n",
       "├─ReLU: 1-4                              [64, 32, 28, 28]          --\n",
       "├─MaxPool2d: 1-5                         [64, 32, 14, 14]          --\n",
       "├─Conv2d: 1-6                            [64, 64, 14, 14]          18,496\n",
       "├─ReLU: 1-7                              [64, 64, 14, 14]          --\n",
       "├─Conv2d: 1-8                            [64, 64, 14, 14]          36,928\n",
       "├─ReLU: 1-9                              [64, 64, 14, 14]          --\n",
       "├─MaxPool2d: 1-10                        [64, 64, 7, 7]            --\n",
       "├─Dropout: 1-11                          [64, 64, 7, 7]            --\n",
       "├─Flatten: 1-12                          [64, 3136]                --\n",
       "├─Linear: 1-13                           [64, 256]                 803,072\n",
       "├─ReLU: 1-14                             [64, 256]                 --\n",
       "├─Linear: 1-15                           [64, 128]                 32,896\n",
       "├─ReLU: 1-16                             [64, 128]                 --\n",
       "├─Linear: 1-17                           [64, 10]                  1,290\n",
       "==========================================================================================\n",
       "Total params: 902,250\n",
       "Trainable params: 902,250\n",
       "Non-trainable params: 0\n",
       "Total mult-adds (Units.GIGABYTES): 1.23\n",
       "==========================================================================================\n",
       "Input size (MB): 0.20\n",
       "Forward/backward pass size (MB): 38.74\n",
       "Params size (MB): 3.61\n",
       "Estimated Total Size (MB): 42.55\n",
       "=========================================================================================="
      ]
     },
     "execution_count": 17,
     "metadata": {},
     "output_type": "execute_result"
    }
   ],
   "source": [
    "from torchinfo import summary\n",
    "\n",
    "summary(model, input_size=(64, 1, 28, 28), device=\"mps\")"
   ]
  },
  {
   "cell_type": "markdown",
   "metadata": {},
   "source": [
    "## Training"
   ]
  },
  {
   "cell_type": "code",
   "execution_count": 19,
   "metadata": {},
   "outputs": [],
   "source": [
    "loss_fn = nn.CrossEntropyLoss()\n",
    "optimizer = torch.optim.Adam(model.parameters(), lr=0.0001)"
   ]
  },
  {
   "cell_type": "code",
   "execution_count": 20,
   "metadata": {},
   "outputs": [],
   "source": [
    "def train_loop(dataloader, model, loss_fn, optimizer):\n",
    "    size = len(dataloader.dataset)\n",
    "\n",
    "    model.train()\n",
    "\n",
    "    for batch, (X, y) in enumerate(dataloader):\n",
    "        X, y = X.to(device), y.to(device)\n",
    "\n",
    "        pred = model(X)\n",
    "        loss = loss_fn(pred, y)\n",
    "\n",
    "        optimizer.zero_grad()  # initialize gradients\n",
    "        loss.backward()  # back propagation\n",
    "        optimizer.step()  # update params\n",
    "\n",
    "        if batch % 100 == 0:\n",
    "            loss, current = loss.item(), batch * len(X)\n",
    "            print(f\"Train Loss : {loss:>7f} [ {current:>5d} / {size:>5d} ]\")"
   ]
  },
  {
   "cell_type": "code",
   "execution_count": 22,
   "metadata": {},
   "outputs": [],
   "source": [
    "def test_loop(dataloader, model, loss_fn):\n",
    "    size = len(dataloader.dataset)\n",
    "\n",
    "    test_loss, correct = 0, 0\n",
    "    model.eval()\n",
    "\n",
    "    # initialize : required_grad=False\n",
    "    with torch.no_grad():\n",
    "        for X, y in dataloader:\n",
    "            X, y = X.to(device), y.to(device)\n",
    "\n",
    "            pred = model(X)\n",
    "            test_loss += loss_fn(pred, y).item()\n",
    "            correct += (pred.argmax(1) == y).type(torch.float).sum().item()\n",
    "\n",
    "    num_batches = len(dataloader)\n",
    "\n",
    "    test_loss /= num_batches\n",
    "    correct /= size\n",
    "\n",
    "    print(\n",
    "        f\"Test Error : \\n Accuracy : {(100*correct):>0.1f}%, Avg Loss : {test_loss:>8f}\\n\"\n",
    "    )"
   ]
  },
  {
   "cell_type": "code",
   "execution_count": null,
   "metadata": {},
   "outputs": [],
   "source": [
    "epochs = 10\n",
    "for t in range(epochs):\n",
    "    print(f\"Epoch {t+1}\\n........................\")\n",
    "    train_loop(train_dl, model, loss_fn, optimizer)\n",
    "    test_loop(test_dl, model, loss_fn)\n",
    "\n",
    "print(\"Experiment Successful\")"
   ]
  }
 ],
 "metadata": {
  "kernelspec": {
   "display_name": "dl-env",
   "language": "python",
   "name": "python3"
  },
  "language_info": {
   "codemirror_mode": {
    "name": "ipython",
    "version": 3
   },
   "file_extension": ".py",
   "mimetype": "text/x-python",
   "name": "python",
   "nbconvert_exporter": "python",
   "pygments_lexer": "ipython3",
   "version": "3.11.0"
  }
 },
 "nbformat": 4,
 "nbformat_minor": 2
}
