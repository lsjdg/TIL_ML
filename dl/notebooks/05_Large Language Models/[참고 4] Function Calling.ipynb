{
 "cells": [
  {
   "cell_type": "markdown",
   "metadata": {},
   "source": [
    "# Function Calling\n",
    "Function Calling은 기본적으로 챗봇이 사용자에게 **어떤 기능(function)을 실행하기 위한 파라미터**를 계속 요청하는 기법을 뜻합니다.\n",
    "\n",
    "**예시**\n",
    "- 사용자에게 id를 입력 받아 주문 배송 일자를 리턴해주는 챗봇\n",
    "- 사용자에게 책상의 가로,세로,깊이를 입력 받아 상품을 추천해주는 챗봇\n",
    "\n",
    "사용자로부터 기능을 실행하기 위한 입력값을 받기 위해 챗봇은 끊임없이 질문을 던져야 합니다.\n",
    "\n",
    "이 때 주의해야 할 점은 챗봇이 직접 개발자가 원하는 함수를 호출하는 것이 아니라는 것입니다. **⭐️단순히 어떤 함수가 호출 될 준비가 되었다⭐️**라는 것만 알려줍니다. 즉 함수 호출은 개발자가 **직접**해야 한다는 것입니다."
   ]
  },
  {
   "cell_type": "code",
   "execution_count": 121,
   "metadata": {},
   "outputs": [],
   "source": [
    "import os\n",
    "import sys\n",
    "import json\n",
    "from datetime import datetime\n",
    "import openai\n",
    "\n",
    "sys.path.append(os.path.abspath(\"../../data/API_KEY\"))"
   ]
  },
  {
   "cell_type": "code",
   "execution_count": 122,
   "metadata": {},
   "outputs": [
    {
     "name": "stdout",
     "output_type": "stream",
     "text": [
      "1.51.2\n"
     ]
    }
   ],
   "source": [
    "from openai import OpenAI\n",
    "import OpenAI_API_Key\n",
    "\n",
    "\n",
    "API_KEY = OpenAI_API_Key.API_KEY\n",
    "\n",
    "client = OpenAI(api_key=API_KEY)\n",
    "\n",
    "print(openai.__version__)"
   ]
  },
  {
   "cell_type": "code",
   "execution_count": 123,
   "metadata": {},
   "outputs": [],
   "source": [
    "# get str type input from server, return type = datatime\n",
    "def get_delivery_date(order_id: str) -> datetime:\n",
    "    # code for DB access comes here\n",
    "    # return DB access result\n",
    "    return datetime.today().strftime(\"%Y-%m-%d\")"
   ]
  },
  {
   "cell_type": "code",
   "execution_count": 124,
   "metadata": {},
   "outputs": [],
   "source": [
    "def get_customer_name(c_name: str) -> str:\n",
    "    return c_name"
   ]
  },
  {
   "cell_type": "code",
   "execution_count": 125,
   "metadata": {},
   "outputs": [],
   "source": [
    "# LLM 에서 사용할 함수 tool 생성\n",
    "delivery_tool = {\n",
    "    \"type\": \"function\",  # 도구의 타입을 function 으로 설정해 함수 호출 기능 제공을 명시\n",
    "    \"function\": {\n",
    "        \"name\": \"get_delivery_date\",  # 함수의 이름 정의\n",
    "        # 챗봇이 명확하게 알 수 있도록 함수의 목적과 사용 사례 설명\n",
    "        \"description\": \"고객의 주문에 대한 배송 날짜를 확인합니다. 예를 들어, 고객이 '내 패키지가 어디에 있나요?'라고 물을 때 이 함수를 호출하세요.\",\n",
    "        \"parameters\": {\n",
    "            \"type\": \"object\",\n",
    "            \"properties\": {\n",
    "                \"order_id\": {\"type\": \"string\", \"description\": \"고객의 주문 id\"}\n",
    "            },\n",
    "            \"required\": [\"order_id\"],  # 함수 호출 시 반드시 제공되어야 하는 필수 인자\n",
    "            \"additionalProperties\": False,  # 추가적인 인자 허용 x\n",
    "        },\n",
    "    },\n",
    "}\n",
    "\n",
    "parse_name_tool = {\n",
    "    \"type\": \"function\",\n",
    "    \"function\": {\n",
    "        \"name\": \"get_customer_name\",\n",
    "        \"description\": \"고객의 이름을 확인합니다. 예를 들어, 고객이 '내 패키지가 어디에 있나요?'라고 물을 때 이 함수를 호출하세요. \",\n",
    "        \"parameters\": {\n",
    "            \"type\": \"object\",\n",
    "            \"properties\": {\"c_name\": {\"type\": \"string\", \"description\": \"고객의 이름\"}},\n",
    "            \"required\": [\"c_name\"],\n",
    "            \"additionalProperties\": False,\n",
    "        },\n",
    "    },\n",
    "}\n",
    "\n",
    "tools = [delivery_tool, parse_name_tool]"
   ]
  },
  {
   "cell_type": "code",
   "execution_count": 133,
   "metadata": {},
   "outputs": [
    {
     "data": {
      "text/plain": [
       "ChatCompletionMessage(content=None, refusal=None, role='assistant', function_call=None, tool_calls=[ChatCompletionMessageToolCall(id='call_QG13dtwEEGqK9ry8yONwKgvC', function=Function(arguments='{\"c_name\": \"John\"}', name='get_customer_name'), type='function'), ChatCompletionMessageToolCall(id='call_oUCpUmbtIhnH5qHPqWpy2VNR', function=Function(arguments='{\"order_id\": \"order12345\"}', name='get_delivery_date'), type='function')])"
      ]
     },
     "execution_count": 133,
     "metadata": {},
     "output_type": "execute_result"
    }
   ],
   "source": [
    "messages = []\n",
    "messages.append(\n",
    "    {\n",
    "        \"role\": \"system\",\n",
    "        \"content\": \"당신은 도움이 되는 고객 지원 어시스턴트입니다. 제공된 도구를 사용하여 사용자를 지원하세요.\",\n",
    "    }\n",
    ")\n",
    "messages.append(\n",
    "    {\n",
    "        \"role\": \"user\",\n",
    "        \"content\": \"안녕하세요, 제 이름은 John 입니다. 주문의 배송 날짜를 알려주실 수 있나요?\",\n",
    "    }\n",
    ")\n",
    "messages.append(\n",
    "    {\n",
    "        \"role\": \"assistant\",\n",
    "        \"content\": \"안녕하세요! 제가 도와드릴 수 있습니다. 주문 ID를 알려주시겠어요?\",\n",
    "    }\n",
    ")\n",
    "messages.append({\"role\": \"user\", \"content\": \"제 생각엔 order12345인 것 같아요\"})\n",
    "# messages.append({\"role\": \"user\", \"content\": \"쓸데없는 소리\"}) => 출력 확인해보자\n",
    "\n",
    "response = client.chat.completions.create(\n",
    "    model=\"gpt-4o-mini\", messages=messages, tools=tools  # 지원 도구 설정\n",
    ")\n",
    "\n",
    "response.choices[0].message"
   ]
  },
  {
   "cell_type": "code",
   "execution_count": 127,
   "metadata": {},
   "outputs": [
    {
     "name": "stdout",
     "output_type": "stream",
     "text": [
      "ChatCompletionMessageToolCall(id='call_ySLXiwJMoEGquexI7Tev04hk', function=Function(arguments='{\"c_name\": \"John\"}', name='get_customer_name'), type='function')\n"
     ]
    }
   ],
   "source": [
    "# get_delivery_date() 를 위한 매개변수 추출\n",
    "tool_call = response.choices[0].message.tool_calls\n",
    "\n",
    "if tool_call:\n",
    "    print(tool_call[0])\n",
    "else:\n",
    "    print(\n",
    "        \"함수를 호출하기 위한 작업이 마무리되지 않았습니다\"\n",
    "    )  # LLM 이 계속 재질문하기 때문에 필수 구현은 아님"
   ]
  },
  {
   "cell_type": "code",
   "execution_count": 128,
   "metadata": {},
   "outputs": [
    {
     "data": {
      "text/plain": [
       "[{'c_name': 'John'}, {'order_id': 'order12345'}]"
      ]
     },
     "execution_count": 128,
     "metadata": {},
     "output_type": "execute_result"
    }
   ],
   "source": [
    "arguments = []\n",
    "arguments.append(json.loads(tool_call[0].function.arguments))\n",
    "arguments.append(json.loads(tool_call[1].function.arguments))\n",
    "arguments"
   ]
  },
  {
   "cell_type": "code",
   "execution_count": 129,
   "metadata": {},
   "outputs": [
    {
     "data": {
      "text/plain": [
       "'John'"
      ]
     },
     "execution_count": 129,
     "metadata": {},
     "output_type": "execute_result"
    }
   ],
   "source": [
    "name = get_customer_name(**arguments[0])\n",
    "name"
   ]
  },
  {
   "cell_type": "code",
   "execution_count": 130,
   "metadata": {},
   "outputs": [
    {
     "data": {
      "text/plain": [
       "'2024-10-15'"
      ]
     },
     "execution_count": 130,
     "metadata": {},
     "output_type": "execute_result"
    }
   ],
   "source": [
    "date = get_delivery_date(**arguments[1])\n",
    "date"
   ]
  },
  {
   "cell_type": "code",
   "execution_count": 131,
   "metadata": {},
   "outputs": [
    {
     "name": "stdout",
     "output_type": "stream",
     "text": [
      "John ordered this product on 2024-10-15\n"
     ]
    }
   ],
   "source": [
    "print(f\"{name} ordered this product on {date}\")"
   ]
  },
  {
   "cell_type": "code",
   "execution_count": 132,
   "metadata": {},
   "outputs": [
    {
     "name": "stdout",
     "output_type": "stream",
     "text": [
      "2024-10-15\n"
     ]
    }
   ],
   "source": [
    "if response.choices[0].finish_reason == \"tool_calls\":\n",
    "    arguments = json.loads(response.choices[0].message.tool_calls[1].function.arguments)\n",
    "    delivery_date = get_delivery_date(**arguments)\n",
    "\n",
    "    print(delivery_date)  # 이 내용을 Web UI 같은걸로 보여줄 수 있도록 코딩합니다."
   ]
  },
  {
   "cell_type": "code",
   "execution_count": null,
   "metadata": {},
   "outputs": [],
   "source": []
  }
 ],
 "metadata": {
  "kernelspec": {
   "display_name": "dl-env",
   "language": "python",
   "name": "python3"
  },
  "language_info": {
   "codemirror_mode": {
    "name": "ipython",
    "version": 3
   },
   "file_extension": ".py",
   "mimetype": "text/x-python",
   "name": "python",
   "nbconvert_exporter": "python",
   "pygments_lexer": "ipython3",
   "version": "3.11.10"
  }
 },
 "nbformat": 4,
 "nbformat_minor": 2
}
