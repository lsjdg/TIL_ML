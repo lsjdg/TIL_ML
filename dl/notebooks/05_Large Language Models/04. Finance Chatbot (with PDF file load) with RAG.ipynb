{
 "cells": [
  {
   "cell_type": "code",
   "execution_count": 1,
   "metadata": {},
   "outputs": [],
   "source": [
    "import sys\n",
    "import os\n",
    "\n",
    "sys.path.append(os.path.abspath(\"../../data/API_KEY\"))"
   ]
  },
  {
   "cell_type": "code",
   "execution_count": 24,
   "metadata": {},
   "outputs": [
    {
     "data": {
      "text/plain": [
       "'1.51.2'"
      ]
     },
     "execution_count": 24,
     "metadata": {},
     "output_type": "execute_result"
    }
   ],
   "source": [
    "import openai\n",
    "import OpenAI_API_Key\n",
    "\n",
    "API_KEY = OpenAI_API_Key.API_KEY\n",
    "\n",
    "os.environ[\"OPENAI_API_KEY\"] = API_KEY\n",
    "\n",
    "openai.__version__"
   ]
  },
  {
   "cell_type": "code",
   "execution_count": 3,
   "metadata": {},
   "outputs": [
    {
     "name": "stderr",
     "output_type": "stream",
     "text": [
      "  % Total    % Received % Xferd  Average Speed   Time    Time     Time  Current\n",
      "                                 Dload  Upload   Total   Spent    Left  Speed\n",
      "100 5806k  100 5806k    0     0  1536k      0  0:00:03  0:00:03 --:--:-- 1536k\n"
     ]
    },
    {
     "data": {
      "text/plain": [
       "0"
      ]
     },
     "execution_count": 3,
     "metadata": {},
     "output_type": "execute_result"
    }
   ],
   "source": [
    "save_path = \"../../data/nlp/2020_경제금융용어 700선_게시.pdf\"\n",
    "os.system(\n",
    "    f'curl -o \"{save_path}\" https://raw.githubusercontent.com/chatgpt-kr/openai-api-tutorial/main/ch07/2020_%EA%B2%BD%EC%A0%9C%EA%B8%88%EC%9C%B5%EC%9A%A9%EC%96%B4%20700%EC%84%A0_%EA%B2%8C%EC%8B%9C.pdf'\n",
    ")"
   ]
  },
  {
   "cell_type": "code",
   "execution_count": 4,
   "metadata": {},
   "outputs": [],
   "source": [
    "import matplotlib.pyplot as plt\n",
    "from langchain.vectorstores import Chroma\n",
    "from langchain.embeddings import OpenAIEmbeddings\n",
    "from langchain_openai import ChatOpenAI\n",
    "from langchain.chains import RetrievalQA\n",
    "from langchain.callbacks.streaming_stdout import StreamingStdOutCallbackHandler"
   ]
  },
  {
   "cell_type": "markdown",
   "metadata": {},
   "source": [
    "# 데이터 확인"
   ]
  },
  {
   "cell_type": "code",
   "execution_count": 5,
   "metadata": {},
   "outputs": [
    {
     "name": "stdout",
     "output_type": "stream",
     "text": [
      "366\n"
     ]
    }
   ],
   "source": [
    "from langchain.document_loaders import PyPDFLoader\n",
    "\n",
    "loader = PyPDFLoader(save_path)\n",
    "texts = loader.load_and_split()\n",
    "\n",
    "print(len(texts))"
   ]
  },
  {
   "cell_type": "code",
   "execution_count": 6,
   "metadata": {},
   "outputs": [
    {
     "data": {
      "text/plain": [
       "Document(metadata={'source': '../../data/nlp/2020_경제금융용어 700선_게시.pdf', 'page': 19}, page_content='3ㄱ \\n신용을 모두 포괄하는 것으로 크게 가계대출과 판매신용으로 구분된다. 현재 가계신용통\\n계는 2002년 말 잔액부터 분기별로 제공되고 있다. 가계신용통계는 우리나라 가계부문의 \\n부채 규모 및 변동 등을 파악하는 데 널리 활용되고 있다 .\\n가계처분가능소득 \\n가계처분가능소득(PDI; Personal Disposable Income)은 가계가 맘대로 소비와 저축\\n으로 처분할 수 있는 소득을 의미한다. 흔히 국민들의 생활수준을 파악해 볼 수 있는 \\n지표로 1인당 GNI가 널리 쓰이고 있으나 국민총소득에는 가계 뿐 아니라 기업 금융기관 \\n정부가 벌어 들인 소득이 모두 포함되어 있다. 따라서 기업과 금융기관 등이 가계부문 \\n보다 더 많은 소득을 벌어 1인당 국민총소득(GNI)이 높아진 경우에는 가계가 느끼는 \\n체감경기는 전체 경기와 괴리가 있게 된다. 1인당 가계총처분가능소득(PGDI; Personal \\nGross Disposable Income)은 가계부문의 총처분가능소득을 연앙인구로 나누어 계산한 \\n지표로 가계의 구매력을 가장 정확히 가늠해 볼 수 있는 소득지표이다 . \\n 연관검색어 : 국민총소득 (GNI)\\n가교은행\\n청산 대상 금융기관의 자산, 부채를 임시로 넘겨받아 예금, 출금 등의 업무를 대행하고 \\n합병, 채권채무관계 조정 등 후속조치를 수행하는 은행을 말한다. 금융기관이 파산한 경우 \\n예금보험제도는 청산, 매각, 자산부채승계, 가교은행을 통한 인수 등의 수단을 통해 부실 \\n금융기관을 처리한다. 이 중 가교은행을 통한 인수방식은 파산은행의 처리에 상당한 시간이 \\n소요될 것으로 예상할 경우 사용되며 새로운 은행을 설립하여 자산, 부채를 포괄승계하도록 \\n하고, 인수 희망자를 물색하는 등의 조치를 취하게 된다. 가교은행을 이용한 처리방식은 \\n금융기관 파산에 따른 충격을 완화하고 시간적인 여유를 확보할 수 있는 것이 장점이다 . \\n임무를 마치면 정리대상 금융기관과 마찬가지로 없어지는 한시적 기관이다 .\\n가동률\\n생산능력 대비 생산실적의 백분율(생산실적/생산능력×100)로, 생산설비가 어느 정도 가동률 ∙')"
      ]
     },
     "execution_count": 6,
     "metadata": {},
     "output_type": "execute_result"
    }
   ],
   "source": [
    "texts[15]"
   ]
  },
  {
   "cell_type": "code",
   "execution_count": 7,
   "metadata": {},
   "outputs": [
    {
     "data": {
      "text/plain": [
       "'iii찾아보기\\n한국은행은 국민들이 경제 및 금융에 대한 이해도를 높이고 경제에 관한 합리적인 \\n의사결정 능력을 키울 수 있도록 현장 경제교육, 온라인 경제교육, 경제교육 콘텐츠 \\n개발 등 대국민 경제교육을 다양하게 수행해 오고 있습니다 . \\n이의 일환으로 2018년 \\n 경제금융용어 700선\\n 을 발간하였는데 그간 동 책자에 대한 \\n수요가 꾸준히 늘어남에 따라 이번에 추가로 발간하게 되었습니다 .\\n지난번 내용과 같이 통화정책, 실물경제, 금융안정, 지급결제 등 한국은행 주요 \\n업무를 이해하는데 필요한 전문 용어와 경제·금융 흐름을 이해하는데 도움이 되는 \\n시사 경제금융 용어들을 수록하였습니다. 용어해설은 개념과 도입 배경, 의미, 적용 \\n사례 등을 담아 쉽게 이해할 수 있도록 하였습니다. 또한 e-book으로도 제작하여 \\n독자들의 편의성과 가독성을 높였습니다 . \\n코로나 19로 이전에 경험하지 못한 경제위기를 겪으면서 경제·금융 현상에 대한 \\n일반인들의 관심도가 이전에 비해 높아졌습니다. 아무쪼록 이 책자가 한국은행의 주요 \\n정책과 국내외 경제를 이해하는 데 조금이나마 도움이 되기를 바라겠습니다. 끝으로 \\n경제금융용어 700선\\n  집필에 참여해주신 경제교육실 교수님들과 용어 집필에 좋은 \\n의견을 주신 관련부서 여러분께 감사드립니다 .\\n2020년 8월\\n한국은행 경제교육실장 박 철 원머 리 말'"
      ]
     },
     "execution_count": 7,
     "metadata": {},
     "output_type": "execute_result"
    }
   ],
   "source": [
    "texts[0].page_content"
   ]
  },
  {
   "cell_type": "code",
   "execution_count": 8,
   "metadata": {},
   "outputs": [
    {
     "data": {
      "text/plain": [
       "'vi경제금융용어 700선\\nㅂ\\n바이오인증 ・ ・ ・ ・ ・ ・ ・ ・ ・ ・ ・ ・ ・ ・ ・ ・ ・ ・ ・ ・ ・ ・ ・ ・ ・ ・ ・ ・ ・ ・ ・ ・ ・ ・ ・ ・ ・ ・ ・ ・ ・ ・ 118\\n바젤은행감독위원회 /\\n바젤위원회(BCBS) ・ ・ ・ ・ ・ ・ ・ ・ ・ ・ ・ ・ ・ ・ ・ ・ ・ ・ ・ ・ ・ ・ ・ ・ ・ ・ 118\\n발행시장 ・・・・・・・・・・・・・・・・・・・・・・・・・・・・・・・・・・・・・・・・・・・・・・ 119\\n발행중지화폐/유통정지화폐 ・・・・・・・・・・・・・・・ 120\\n방카슈랑스 ・ ・ ・ ・ ・ ・ ・ ・ ・ ・ ・ ・ ・ ・ ・ ・ ・ ・ ・ ・ ・ ・ ・ ・ ・ ・ ・ ・ ・ ・ ・ ・ ・ ・ ・ ・ ・ ・ ・ ・ ・ ・ 120\\n배당할인모형 ・ ・・・・・・・・・・・・・・・・・・・・・・・・・・・・・・・・・・・・・・ 121\\n밴드웨건효과 ・ ・・・・・・・・・・・・・・・・・・・・・・・・・・・・・・・・・・・・・・ 121\\n뱅 크 런 ・・・・・・・・・・・・・・・・・・・・・・・・・・・・・・・・・・・・・・・・・・・・・・・・・・ 122\\n범위의 경제 ・ ・ ・ ・ ・ ・ ・ ・ ・ ・ ・ ・ ・ ・ ・ ・ ・ ・ ・ ・ ・ ・ ・ ・ ・ ・ ・ ・ ・ ・ ・ ・ ・ ・ ・ ・ ・ ・ ・ ・ 122\\n법률리스크 ・ ・ ・ ・ ・ ・ ・ ・ ・ ・ ・ ・ ・ ・ ・ ・ ・ ・ ・ ・ ・ ・ ・ ・ ・ ・ ・ ・ ・ ・ ・ ・ ・ ・ ・ ・ ・ ・ ・ ・ ・ ・ 122\\n베블런효과 ・ ・ ・ ・ ・ ・ ・ ・ ・ ・ ・ ・ ・ ・ ・ ・ ・ ・ ・ ・ ・ ・ ・ ・ ・ ・ ・ ・ ・ ・ ・ ・ ・ ・ ・ ・ ・ ・ ・ ・ ・ ・ 123\\n변동금리 ・・・・・・・・・・・・・・・・・・・・・・・・・・・・・・・・・・・・・・・・・・・・・・ 123\\n변동금리부채권(FRN) ・ ・ ・ ・・・・・・・・・・・・・・・・・・・・・・ 123\\n보기화폐(견양화폐) ・ ・ ・ ・ ・ ・ ・ ・ ・ ・ ・ ・ ・ ・ ・ ・ ・ ・ ・ ・ ・ ・ ・ ・ ・ ・ ・ ・ ・ 124\\n보완자본(Tier 2) ・・・・・・・・・・・・・・・・・・・・・・・・・・・・・・・・ 124\\n보 완 재 ・・・・・・・・・・・・・・・・・・・・・・・・・・・・・・・・・・・・・・・・・・・・・・・・・・ 125\\n보통주자본\\n( C o m m o n  E q u i t y  T i e r  1 ) ・・・・・・・・・・・・ 125\\n보호무역주의 ・ ・・・・・・・・・・・・・・・・・・・・・・・・・・・・・・・・・・・・・・ 125\\n복수통화바스켓제도 ・ ・ ・・・・・・・・・・・・・・・・・・・・・・・・・・ 126\\n본원소득 ・・・・・・・・・・・・・・・・・・・・・・・・・・・・・・・・・・・・・・・・・・・・・・ 127\\n본원소득수지 ・ ・・・・・・・・・・・・・・・・・・・・・・・・・・・・・・・・・・・・・・ 127\\n본원통화 ・・・・・・・・・・・・・・・・・・・・・・・・・・・・・・・・・・・・・・・・・・・・・・ 127\\n볼 커 룰 ・・・・・・・・・・・・・・・・・・・・・・・・・・・・・・・・・・・・・・・・・・・・・・・・・・ 128\\n부가가치 ・・・・・・・・・・・・・・・・・・・・・・・・・・・・・・・・・・・・・・・・・・・・・・ 128\\n부가가치기준 무역(TiVA) ・ ・ ・ ・ ・ ・ ・ ・ ・ ・ ・ ・ ・ ・ ・ ・ ・ ・ ・ 129\\n부가가치유발계수/부가가치계수 ・ ・ ・・・・・・129\\n부동화/무권화 ・ ・ ・ ・ ・ ・ ・ ・ ・ ・ ・ ・ ・ ・ ・ ・ ・ ・ ・ ・ ・ ・ ・ ・ ・ ・ ・ ・ ・ ・ ・ ・ ・ ・ ・ ・ ・ 130\\n부실채권정리기금 ・ ・ ・ ・ ・・・・・・・・・・・・・・・・・・・・・・・・・・・ 130\\n부채담보부증권(CDO) ・ ・・・・・・・・・・・・・・・・・・・・・・・・ 130부채비율 ・・・・・・・・・・・・・・・・・・・・・・・・・・・・・・・・・・・・・・・・・・・・・・ 131\\n북미자유무역협정(NAFTA) ・ ・ ・ ・ ・ ・ ・ ・ ・ ・ ・ ・ ・ ・ ・ ・ ・ 131\\n분리결제 ・・・・・・・・・・・・・・・・・・・・・・・・・・・・・・・・・・・・・・・・・・・・・・ 132\\n분산원장기술 ・ ・ ・・・・・・・・・・・・・・・・・・・・・・・・・・・・・・・・・・・・・ 132\\n분수효과 ・・・・・・・・・・・・・・・・・・・・・・・・・・・・・・・・・・・・・・・・・・・・・・ 133\\n불완전경쟁시장 ・・・・・・・・・・・・・・・・・・・・・・・・・・・・・・・・・・・ 133\\n불태화정책 ・ ・ ・ ・ ・ ・ ・ ・ ・ ・ ・ ・ ・ ・ ・ ・ ・ ・ ・ ・ ・ ・ ・ ・ ・ ・ ・ ・ ・ ・ ・ ・ ・ ・ ・ ・ ・ ・ ・ ・ ・ ・ 134\\n브레튼우즈체제 ・・・・・・・・・・・・・・・・・・・・・・・・・・・・・・・・・・・ 134\\n브렉시트(Brexit) ・ ・ ・ ・ ・ ・ ・ ・ ・ ・ ・ ・ ・ ・ ・ ・ ・ ・ ・ ・ ・ ・ ・ ・ ・ ・ ・ ・ ・ ・ ・ ・ ・ 135\\n브 릭 스 ・・・・・・・・・・・・・・・・・・・・・・・・・・・・・・・・・・・・・・・・・・・・・・・・・・ 135\\n블록체인 ・・・・・・・・・・・・・・・・・・・・・・・・・・・・・・・・・・・・・・・・・・・・・・ 136\\n블록체인과 탈중앙화 ・・・・・・・・・・・・・・・・・・・・・・・・・・ 136\\n비관측경제(NOE) ・ ・ ・ ・ ・ ・ ・ ・ ・ ・ ・ ・ ・ ・ ・ ・ ・ ・ ・ ・ ・ ・ ・ ・ ・ ・ ・ ・ ・ ・ ・ ・ 137\\n비교우위 ・・・・・・・・・・・・・・・・・・・・・・・・・・・・・・・・・・・・・・・・・・・・・・ 138\\n비용인상 인플레이션 ・・・・・・・・・・・・・・・・・・・・・・・・・・ 138\\n비트코인 ・・・・・・・・・・・・・・・・・・・・・・・・・・・・・・・・・・・・・・・・・・・・・・ 139\\n빅데이터 ・・・・・・・・・・・・・・・・・・・・・・・・・・・・・・・・・・・・・・・・・・・・・・ 139\\n빅맥지수 ・・・・・・・・・・・・・・・・・・・・・・・・・・・・・・・・・・・・・・・・・・・・・・ 140\\nㅅ\\n사이버리스크 ・ ・ ・・・・・・・・・・・・・・・・・・・・・・・・・・・・・・・・・・・・・ 141\\n사전담보제 ・ ・ ・ ・ ・ ・ ・ ・ ・ ・ ・ ・ ・ ・ ・ ・ ・ ・ ・ ・ ・ ・ ・ ・ ・ ・ ・ ・ ・ ・ ・ ・ ・ ・ ・ ・ ・ ・ ・ ・ ・ ・ 141\\n사전적 정책방향 제시\\n( f o r w a r d  g u i d a n c e ) ・・・・・・・・・・・・・・・・・・・・・・ 142\\n4차 산업혁명 ・・・・・・・・・・・・・・・・・・・・・・・・・・・・・・・・・・・・・・ 143\\n사회보장제도 ・ ・ ・・・・・・・・・・・・・・・・・・・・・・・・・・・・・・・・・・・・・ 143\\n사회보험 ・・・・・・・・・・・・・・・・・・・・・・・・・・・・・・・・・・・・・・・・・・・・・・ 144\\n산업연관표(I/O Tables) ・ ・ ・ ・・・・・・・・・・・・・・・・・・ 144\\n삼불원칙 ・・・・・・・・・・・・・・・・・・・・・・・・・・・・・・・・・・・・・・・・・・・・・・ 145\\n상계관세 ・・・・・・・・・・・・・・・・・・・・・・・・・・・・・・・・・・・・・・・・・・・・・・ 145\\n상대적 빈곤율 ・・・・・・・・・・・・・・・・・・・・・・・・・・・・・・・・・・・・・ 146\\n상시감시제도/상시감시전담데스크 ・・ ・・ 146'"
      ]
     },
     "execution_count": 8,
     "metadata": {},
     "output_type": "execute_result"
    }
   ],
   "source": [
    "texts[5].page_content"
   ]
  },
  {
   "cell_type": "code",
   "execution_count": 9,
   "metadata": {},
   "outputs": [
    {
     "data": {
      "text/plain": [
       "\"1ㄱ \\nㄱ\\n가계부실위험지수(HDRI)\\n가구의 소득 흐름은 물론 금융 및 실물 자산까지 종합적으로 고려하여 가계부채의 \\n부실위험을 평가하는 지표로, 가계의 채무상환능력을 소득 측면에서 평가하는 원리금상\\n환비율(DSR; Debt Service Ratio)과 자산 측면에서 평가하는 부채/자산비율(DTA; Debt \\nTo Asset Ratio)을 결합하여 산출한 지수이다. 가계부실위험지수는 가구의 DSR과 DTA 가 \\n각각 40%, 100%일 때 100의 값을 갖도록 설정되어 있으며, 동 지수가 100을 초과하는 \\n가구를 ‘위험가구’로 분류한다. 위험가구는 소득 및 자산 측면에서 모두 취약한 ‘고위험가구’,  \\n자산 측면에서 취약한 ‘고DTA가구’, 소득 측면에서 취약한 ‘고DSR가구’로 구분할 수 있다 . \\n다만 위험 및 고위험 가구는 가구의 채무상환능력 취약성 정도를 평가하기 위한 것이며 \\n이들 가구가 당장 채무상환 불이행, 즉 임계상황에 직면한 것을 의미하지 않는다 .\\n 연관검색어 : 총부채원리금상환비율(DSR)\\n가계수지\\n가정에서 일정 기간의 수입(명목소득)과 지출을 비교해서 남았는지 모자랐는지를 \\n표시한 것을 가계수지(household's total income and expenditure)라 한다. 가계수지 가 가계수지 ∙\""
      ]
     },
     "execution_count": 9,
     "metadata": {},
     "output_type": "execute_result"
    }
   ],
   "source": [
    "texts[13].page_content"
   ]
  },
  {
   "cell_type": "code",
   "execution_count": 10,
   "metadata": {},
   "outputs": [
    {
     "data": {
      "text/plain": [
       "Document(metadata={'source': '../../data/nlp/2020_경제금융용어 700선_게시.pdf', 'page': 17}, page_content=\"1ㄱ \\nㄱ\\n가계부실위험지수(HDRI)\\n가구의 소득 흐름은 물론 금융 및 실물 자산까지 종합적으로 고려하여 가계부채의 \\n부실위험을 평가하는 지표로, 가계의 채무상환능력을 소득 측면에서 평가하는 원리금상\\n환비율(DSR; Debt Service Ratio)과 자산 측면에서 평가하는 부채/자산비율(DTA; Debt \\nTo Asset Ratio)을 결합하여 산출한 지수이다. 가계부실위험지수는 가구의 DSR과 DTA 가 \\n각각 40%, 100%일 때 100의 값을 갖도록 설정되어 있으며, 동 지수가 100을 초과하는 \\n가구를 ‘위험가구’로 분류한다. 위험가구는 소득 및 자산 측면에서 모두 취약한 ‘고위험가구’,  \\n자산 측면에서 취약한 ‘고DTA가구’, 소득 측면에서 취약한 ‘고DSR가구’로 구분할 수 있다 . \\n다만 위험 및 고위험 가구는 가구의 채무상환능력 취약성 정도를 평가하기 위한 것이며 \\n이들 가구가 당장 채무상환 불이행, 즉 임계상황에 직면한 것을 의미하지 않는다 .\\n 연관검색어 : 총부채원리금상환비율(DSR)\\n가계수지\\n가정에서 일정 기간의 수입(명목소득)과 지출을 비교해서 남았는지 모자랐는지를 \\n표시한 것을 가계수지(household's total income and expenditure)라 한다. 가계수지 가 가계수지 ∙\")"
      ]
     },
     "execution_count": 10,
     "metadata": {},
     "output_type": "execute_result"
    }
   ],
   "source": [
    "# 머릿말, 목차는 필요 없으니까(금융 용어에 대한 내용만 있으면 되니까) 제거\n",
    "texts = texts[13:]\n",
    "texts[0]"
   ]
  },
  {
   "cell_type": "code",
   "execution_count": 11,
   "metadata": {},
   "outputs": [
    {
     "data": {
      "text/plain": [
       "Document(metadata={'source': '../../data/nlp/2020_경제금융용어 700선_게시.pdf', 'page': 369}, page_content='경제금융용어 700선\\n발행인 이주열\\n편집인 박철원\\n발행처 한국은행(www.bok.or.kr)\\n서울특별시 중구 세종대로 67(태평로 2가)\\n발행일 2020년 8월 3일\\n인  쇄 ㈜제일프린테크 \\n 본 자료는 한국은행 홈페이지(http://www.bok.or.kr>경제교육>온라인학습>일반인) 에서 \\n다운로드 받으실 수 있습니다.\\n 이 책자에 대한 문의는 한국은행 경제교육실 경제교육기획팀(02-759-5618)으로 연락 \\n하여 주시기 바랍니다.\\n \\n경제금융용어 700선\\n 은 \\n① 정부간행물판매센터(☎ 02-734-6818, http://www.gpcb ooks.co.kr) \\n② 한국경제서적(☎ 02-737-7498)③ 경제서적(☎ 02-736-0640, http://kj-book.co.kr) 또는 주요 서점 등에서 매권당 \\n8,000원에 판매하고 있습니다.\\nISBN 979-11-5538-393-3 03320')"
      ]
     },
     "execution_count": 11,
     "metadata": {},
     "output_type": "execute_result"
    }
   ],
   "source": [
    "texts[-1]"
   ]
  },
  {
   "cell_type": "code",
   "execution_count": 12,
   "metadata": {},
   "outputs": [],
   "source": [
    "# 맺음말 부분도 제거\n",
    "texts = texts[:-1]"
   ]
  },
  {
   "cell_type": "markdown",
   "metadata": {},
   "source": [
    "# Vector Store 정의"
   ]
  },
  {
   "cell_type": "code",
   "execution_count": 13,
   "metadata": {},
   "outputs": [
    {
     "name": "stderr",
     "output_type": "stream",
     "text": [
      "/var/folders/h0/f86w2r851zn7yj1w80yw932h0000gn/T/ipykernel_28331/3709482107.py:1: LangChainDeprecationWarning: The class `OpenAIEmbeddings` was deprecated in LangChain 0.0.9 and will be removed in 1.0. An updated version of the class exists in the :class:`~langchain-openai package and should be used instead. To use it run `pip install -U :class:`~langchain-openai` and import as `from :class:`~langchain_openai import OpenAIEmbeddings``.\n",
      "  embedding = OpenAIEmbeddings()\n"
     ]
    }
   ],
   "source": [
    "embedding = OpenAIEmbeddings()\n",
    "\n",
    "vectordb = Chroma.from_documents(documents=texts, embedding=embedding)"
   ]
  },
  {
   "cell_type": "markdown",
   "metadata": {},
   "source": [
    "### _collection\n",
    "- 벡터 스토어제 저장된 실제 데이터에 접근하기 위한 방법"
   ]
  },
  {
   "cell_type": "code",
   "execution_count": 14,
   "metadata": {},
   "outputs": [
    {
     "data": {
      "text/plain": [
       "352"
      ]
     },
     "execution_count": 14,
     "metadata": {},
     "output_type": "execute_result"
    }
   ],
   "source": [
    "# vectordb에 저장된 문서의 개수 확인\n",
    "vectordb._collection.count()"
   ]
  },
  {
   "cell_type": "code",
   "execution_count": 15,
   "metadata": {},
   "outputs": [
    {
     "data": {
      "text/plain": [
       "dict_keys(['ids', 'embeddings', 'metadatas', 'documents', 'uris', 'data', 'included'])"
      ]
     },
     "execution_count": 15,
     "metadata": {},
     "output_type": "execute_result"
    }
   ],
   "source": [
    "# 사용 가능한 키 확인\n",
    "vectordb._collection.get().keys()"
   ]
  },
  {
   "cell_type": "code",
   "execution_count": 16,
   "metadata": {},
   "outputs": [
    {
     "data": {
      "text/plain": [
       "\"1ㄱ \\nㄱ\\n가계부실위험지수(HDRI)\\n가구의 소득 흐름은 물론 금융 및 실물 자산까지 종합적으로 고려하여 가계부채의 \\n부실위험을 평가하는 지표로, 가계의 채무상환능력을 소득 측면에서 평가하는 원리금상\\n환비율(DSR; Debt Service Ratio)과 자산 측면에서 평가하는 부채/자산비율(DTA; Debt \\nTo Asset Ratio)을 결합하여 산출한 지수이다. 가계부실위험지수는 가구의 DSR과 DTA 가 \\n각각 40%, 100%일 때 100의 값을 갖도록 설정되어 있으며, 동 지수가 100을 초과하는 \\n가구를 ‘위험가구’로 분류한다. 위험가구는 소득 및 자산 측면에서 모두 취약한 ‘고위험가구’,  \\n자산 측면에서 취약한 ‘고DTA가구’, 소득 측면에서 취약한 ‘고DSR가구’로 구분할 수 있다 . \\n다만 위험 및 고위험 가구는 가구의 채무상환능력 취약성 정도를 평가하기 위한 것이며 \\n이들 가구가 당장 채무상환 불이행, 즉 임계상황에 직면한 것을 의미하지 않는다 .\\n 연관검색어 : 총부채원리금상환비율(DSR)\\n가계수지\\n가정에서 일정 기간의 수입(명목소득)과 지출을 비교해서 남았는지 모자랐는지를 \\n표시한 것을 가계수지(household's total income and expenditure)라 한다. 가계수지 가 가계수지 ∙\""
      ]
     },
     "execution_count": 16,
     "metadata": {},
     "output_type": "execute_result"
    }
   ],
   "source": [
    "# 문서 로딩\n",
    "documents = vectordb._collection.get()[\"documents\"]\n",
    "documents[0]"
   ]
  },
  {
   "cell_type": "code",
   "execution_count": 17,
   "metadata": {},
   "outputs": [
    {
     "name": "stdout",
     "output_type": "stream",
     "text": [
      "None\n"
     ]
    }
   ],
   "source": [
    "# 임베딩 벡터 확인\n",
    "result = vectordb._collection.get()[\"embeddings\"]\n",
    "print(result)"
   ]
  },
  {
   "cell_type": "code",
   "execution_count": 18,
   "metadata": {},
   "outputs": [
    {
     "data": {
      "text/plain": [
       "array([-0.00693841, -0.00727077,  0.0133149 , ..., -0.01831056,\n",
       "       -0.00755174, -0.00942254])"
      ]
     },
     "execution_count": 18,
     "metadata": {},
     "output_type": "execute_result"
    }
   ],
   "source": [
    "result = vectordb._collection.get(include=[\"embeddings\"])[\"embeddings\"]\n",
    "result[0]"
   ]
  },
  {
   "cell_type": "code",
   "execution_count": 19,
   "metadata": {},
   "outputs": [
    {
     "data": {
      "text/plain": [
       "{'page': 17, 'source': '../../data/nlp/2020_경제금융용어 700선_게시.pdf'}"
      ]
     },
     "execution_count": 19,
     "metadata": {},
     "output_type": "execute_result"
    }
   ],
   "source": [
    "# 메타데이터 확인.\n",
    "metadatas = vectordb._collection.get()[\"metadatas\"]\n",
    "metadatas[0]  # 문서의 출처"
   ]
  },
  {
   "cell_type": "markdown",
   "metadata": {},
   "source": [
    "# Retriever 생성"
   ]
  },
  {
   "cell_type": "code",
   "execution_count": 20,
   "metadata": {},
   "outputs": [],
   "source": [
    "retriever = vectordb.as_retriever(search_kwargs={\"k\": 2})"
   ]
  },
  {
   "cell_type": "code",
   "execution_count": 22,
   "metadata": {},
   "outputs": [
    {
     "name": "stdout",
     "output_type": "stream",
     "text": [
      "page_content='139ㅂ \n",
      "비트코인\n",
      "비트코인(bitcoin)은 가상통화(암호통화)이자 디지털 지급시스템이다. 비트코인 시스템\n",
      "은 중앙 저장소 또는 단일 관리자가 없기 때문에 최초의 탈중앙화된 디지털통화라고 불린다 . \n",
      "이는 사토시 나카모토라는 사람(집단)에 의해 만들어져서 2009년 개방형 소프트웨어로 \n",
      "배포되었다. 이 시스템은 공유형(peer-to-peer)이며, 거래는 중개자 없이 블록체인 소프트\n",
      "웨어를 이용하는 참여자(nodes) 사이에 직접 이뤄진다. 이런 거래들은 공유(P2P) 네트워크\n",
      "상 참여자의 작업증명(proof-of-work)을 통해 검증되고 공개된 분산원장인 블록체인에 \n",
      "기록된다. 승인된 거래의 새 그룹인 한 블록은 대략 10분에 한 번씩 만들어져서 블록체인에 \n",
      "추가되고 신속하게 모든 참여자에게 보내어진다. 비트코인은 대규모 전기를 사용하는 \n",
      "컴퓨터 처리 능력(power)을 활용해서 이뤄지는 기록보관 서비스인 채굴(mining)에 대한 \n",
      "보상으로 발행되고 있으며 다른 통화 ･상품･용역 등과 교환되어가고 있다. 중앙은행이 \n",
      "발행한 법정화폐가 아닌 비트코인은 비트코인 플랫폼에서 거래되며 투자대상으로서도 \n",
      "관심을 받고 있다. 하지만 급등한 가격 및 심한 변동 폭으로 거품논란이 크다. 또한 익명성으\n",
      "로 자금세탁 등 불법거래에 악용될 소지가 많아 중국 등 일부 국가에서 비트코인 등 가상통\n",
      "화의 거래를 규제하고 있다. 일본의 경우 비트코인의 거래이익에 대해 세금을 부과한다 . \n",
      "비트코인은 추가되는 한 블록당 새로 12.5비트코인을 보상하는데(2016.7월 현재), 21 만개\n",
      "가 채굴될 때(대략 4년)마다 그 보상이 반으로 줄어든다. 비트코인의 총량은 21 백만개이며 \n",
      "2140년경 모두 채굴될 것으로 전망된다. 비트코인은 그 시스템의 설계시 그 수량을 한정시\n",
      "켜 놓았기 때문에 원칙적으로 인플레이션에 의해 가치가 떨어질 수 있는 화폐와 다른 \n",
      "속성을 지닌다. 한편 2017년 8월 1일 비트코인(classic bitcoin)에서 ‘비트코인캐시’(BCH)가 , \n",
      "10월 25일 ‘비트코인골드’(BTG)가 하드포크(hard-fork)되어 별도로 거래되고 있다 .\n",
      " 연관검색어 : 가상통화, 작업증명, 블록체인\n",
      "빅데이터\n",
      "빅데이터(big data)란 복잡하고 다양한 대규모 데이터세트 자체는 물론 이 데이터세트\n",
      "로부터 정보를 추출하고 결과를 분석하여 더 큰 가치를 창출하는 기술을 뜻한다. 수치 \n",
      "데이터 등 기존의 정형화된 정보뿐 아니라 텍스트 ･이미지 ･오디오 ･로그기록 등 여러 \n",
      "형태의 비정형 정보가 데이터로 활용된다. 최근 모바일기기와 SNS 이용 보편화, 사물인빅데이터 ∙' metadata={'page': 155, 'source': '../../data/nlp/2020_경제금융용어 700선_게시.pdf'}\n",
      "====================================================================================================\n",
      "page_content='136경제금융용어  700선\n",
      "간 대화의 깊이와 폭도 더욱 넓어지고 있다. 브릭스는 현재의 경제성장 속도와 앞으로의 \n",
      "발전 전망에 비추어 신흥 경제대국으로 발돋움할 가능성이 높은 나라들을 하나의 경제권으로 \n",
      "묶은 개념으로 볼 수 있는데, 실제로도 브릭스 국가들은 공통적으로 거대한 영토와 노동력 , \n",
      "풍부한 지하자원 등 경제대국으로 성장할 수 있는 잠재력을 갖춘 것으로 평가되고 있다 .\n",
      "블록체인\n",
      "블록체인(block chain)은 ① 일정 시간 동안 발생한 모든 거래정보를 블록 (block) \n",
      "단위로 기록하여 ② 모든 구성원들에게 전송하고 ③ 블록의 유효성이 확보될 경우 \n",
      "이 새 블록을 ④ 기존의 블록에 추가 연결(chain)하여 보관하는 방식의 알고리즘이다 . \n",
      "각 블록은 이전 블록에 대한 연결자인 해시포인터(a hash pointer, 위변조 점검 수단 ), \n",
      "시간표시 및 거래데이터를 포함한다. 블록체인은 효율적이고 검증 가능한 방식으로 \n",
      "거래를 기록할 수 있는 개방된 분산원장 즉, 데이터베이스 역할을 한다. 이는 참여자간 \n",
      "공유(peer to peer) 네트워크가 집단적으로 새 블록을 검증하기 위한 프로토콜에 따라 \n",
      "관리된다. 그래서 만약 누군가 거래기록을 조작하려면 참여자간 연결된 모든 블록을 \n",
      "새 블록 생성 이전에 조작해야한다. 즉 일정 시간 안에 수많은 블록을 모두 조작해야하는\n",
      "데, 이는 사실상 불가능하므로 보안성이 높은 것이다. 이 블록체인 덕분에 새로운 단위가\n",
      "치의 거래가 오직 한번만 이뤄짐으로써, 사기행위와 같은 이중 지급(double spending) \n",
      "문제를 해결할 수 있게 되었다. 또한 블록체인에서는 ‘제3의 기관’이 필요 없는 탈중앙화\n",
      "와 중개기관을 거치지 않는 탈중개화가 이뤄지기 때문에 거래비용이 획기적으로 낮아진\n",
      "다. 그래서 블록체인은 비트코인 ･이더리움(Etherium) 등 가상통화 운용의 기반이 될 \n",
      "뿐만 아니라 스마트계약, 증권 발행 및 거래, 해외송금 및 자금이체, 무역금융, 부동산 \n",
      "등기, 고가품(예: 다이아몬드)의 정품 인증, 디지털 ID 관리, 전자투표, 개인건강기록 \n",
      "관리 등 여러 분야에서 무한한 혁신 잠재력을 지니고 있다 . \n",
      " 연관검색어 : 분산원장기술, 스마트계약, 비트코인, 금융의 탈집중화, 금융의 탈중개화\n",
      "블록체인과 탈중앙화 \n",
      "블록체인은 공유 네트워크를 통해 데이터를 저장함으로써 데이터의 중앙 집중 보관에 \n",
      "따르는 리스크를 제거한다. 탈중앙화(decentralization)된 블록체인은 계획되지 않은' metadata={'page': 152, 'source': '../../data/nlp/2020_경제금융용어 700선_게시.pdf'}\n"
     ]
    }
   ],
   "source": [
    "docs = retriever.get_relevant_documents(\"비트코인에 대해 설명해줘\")\n",
    "\n",
    "print(docs[0])\n",
    "\n",
    "print(\"=\" * 100)\n",
    "\n",
    "print(docs[1])"
   ]
  },
  {
   "cell_type": "markdown",
   "metadata": {},
   "source": [
    "# 챗봇 만들기 with RAG\n",
    "\n",
    "이제 ChatGPT API와 이미 만들어진 Prompt를 통해서 간단히 챗봇을 구현해봅시다. RetrievalQA.from_chain_type()의 llm 매개변수의 값으로 초기에 임포트한 OpenAI()를 사용할 경우, 기본값으로 ChatGPT API를 사용합니다.chain_type의 매개변수의 값으로 \"stuff\"를 사용할 경우, 사용자의 눈에는 보이지 않지만 자동으로 아래의 프롬프트를 사용하여 챗봇을 구현합니다.  \n",
    "\n",
    "해석해보면 주어진 질문과 본문을 통해서 답변을 하되, 만약 답변할 수 없다면 답변을 임의로 하지말고 모른다고 하라는 내용입니다.\n",
    "```\n",
    "Use the following pieces of context to answer the users question.\n",
    "If you don't know the answer, just say that you don't know, don't try to make up an answer.\n",
    "----------------\n",
    "{텍스트}\n",
    "\n",
    "{질문}\n",
    "```\n",
    "\n",
    "{텍스트}에는 사용자의 질문으로부터 높은 유사도를 가진 텍스트가 들어가게 되고, {질문} 부분은 사용자의 질문이 들어가게 됩니다. retriever는 입력된 사용자의 질문으로부터 유사도를 계산하는 도구를 구현하여 매개변수의 값으로 넘겨주면 됩니다. 앞서 이미 Chroma를 통해 벡터 도구 객체로부터 구현한 retreiver를 사용합니다.  \n",
    "\n",
    "return_source_documents는 챗봇의 답변에 사용된 텍스트들의 출처를 표시할 것인지를 의미합니다. return_source_documents의 값을 False로 할 경우, 챗봇의 답변이 어떤 텍스트에 근거하였는지 알 수 없습니다. 여기서는 뒤에서 근거가 되는 텍스트의 출처를 확인할 것이므로 True를 사용합니다."
   ]
  },
  {
   "cell_type": "code",
   "execution_count": 26,
   "metadata": {},
   "outputs": [
    {
     "data": {
      "text/plain": [
       "PromptTemplate(input_variables=['context', 'question'], input_types={}, partial_variables={}, template='당신은 한국경제신문에서 만든 금융 용어를 설명해주는 챗봇입니다.\\n주어진 검색 결과를 바탕으로 답변하세요.\\n검색 결과에 없는 내용이라면, 답변할 수 없다고 하세요.\\n존댓말로 정중하게 대답해주세요.\\n{context}\\n\\nQuestion: {question}\\nAnswer:\\n')"
      ]
     },
     "execution_count": 26,
     "metadata": {},
     "output_type": "execute_result"
    }
   ],
   "source": [
    "from langchain import PromptTemplate\n",
    "\n",
    "# 챗봇이 어떻게 동작해야 할지에 대한 정보 제공\n",
    "template = \"\"\"당신은 한국경제신문에서 만든 금융 용어를 설명해주는 챗봇입니다.\n",
    "주어진 검색 결과를 바탕으로 답변하세요.\n",
    "검색 결과에 없는 내용이라면, 답변할 수 없다고 하세요.\n",
    "존댓말로 정중하게 대답해주세요.\n",
    "{context}\n",
    "\n",
    "Question: {question}\n",
    "Answer:\n",
    "\"\"\"\n",
    "\n",
    "prompt = PromptTemplate.from_template(template)\n",
    "prompt"
   ]
  },
  {
   "cell_type": "code",
   "execution_count": 27,
   "metadata": {},
   "outputs": [],
   "source": [
    "llm = ChatOpenAI(\n",
    "    model_name=\"gpt-4o-mini\",\n",
    "    streaming=True,\n",
    "    temperature=0,\n",
    "    callbacks=[StreamingStdOutCallbackHandler()],\n",
    ")"
   ]
  },
  {
   "cell_type": "code",
   "execution_count": 29,
   "metadata": {},
   "outputs": [],
   "source": [
    "# 기존의 ChatGPT 의 prompt 를 개발자가 작성한 것으로 대체\n",
    "# {context} 에 해당하는 조회 결과가 답변할 때 들어가도록 설정\n",
    "qa_chain = RetrievalQA.from_chain_type(\n",
    "    llm=llm,\n",
    "    chain_type_kwargs={\"prompt\": prompt},\n",
    "    retriever=retriever,  # 검색기의 조회 결과를 {context} 에 삽입\n",
    "    return_source_documents=True,\n",
    ")"
   ]
  },
  {
   "cell_type": "markdown",
   "metadata": {},
   "source": [
    "# 사용하기"
   ]
  },
  {
   "cell_type": "code",
   "execution_count": 31,
   "metadata": {},
   "outputs": [
    {
     "name": "stdout",
     "output_type": "stream",
     "text": [
      "비트코인(bitcoin)은 가상통화(암호통화)이자 디지털 지급시스템으로, 중앙 저장소나 단일 관리자가 없는 최초의 탈중앙화된 디지털 통화입니다. 비트코인은 사토시 나카모토라는 인물(또는 집단)에 의해 2009년에 개발되어 개방형 소프트웨어로 배포되었습니다.\n",
      "\n",
      "비트코인 시스템은 공유형(peer-to-peer) 구조를 가지고 있으며, 거래는 중개자 없이 블록체인 소프트웨어를 이용하는 참여자(nodes) 간에 직접 이루어집니다. 이러한 거래는 참여자들의 작업증명(proof-of-work)을 통해 검증되며, 공개된 분산원장인 블록체인에 기록됩니다. 새로운 거래가 승인되면, 대략 10분마다 새로운 블록이 생성되어 블록체인에 추가되고 모든 참여자에게 전송됩니다.\n",
      "\n",
      "비트코인은 채굴(mining)이라는 과정을 통해 발행되며, 이는 대규모 전기를 사용하는 컴퓨터 처리 능력을 활용하여 기록 보관 서비스를 제공합니다. 비트코인의 총량은 2100만 개로 한정되어 있으며, 2140년경에 모두 채굴될 것으로 예상됩니다. 비트코인은 법정화폐가 아니며, 비트코인 플랫폼에서 거래되며 투자 대상으로도 관심을 받고 있습니다. 그러나 가격의 급등과 심한 변동성으로 인해 거품 논란이 있으며, 익명성으로 인해 자금세탁 등 불법 거래에 악용될 소지가 있어 일부 국가에서는 규제를 시행하고 있습니다.\n",
      "\n",
      "또한, 비트코인은 하드포크(hard-fork)를 통해 비트코인캐시(BCH)와 비트코인골드(BTG)와 같은 다른 암호화폐로 분리되기도 했습니다. 비트코인은 인플레이션에 대한 저항력을 가지고 있으며, 그 설계에 따라 수량이 한정되어 있습니다."
     ]
    }
   ],
   "source": [
    "query = \"비트코인에 대해 설명해주세요.\"\n",
    "chatbot_response = qa_chain(query)"
   ]
  },
  {
   "cell_type": "markdown",
   "metadata": {},
   "source": [
    "# Gradio 를 통한 Chatbot 배포"
   ]
  },
  {
   "cell_type": "code",
   "execution_count": 32,
   "metadata": {},
   "outputs": [
    {
     "name": "stdout",
     "output_type": "stream",
     "text": [
      "Collecting gradio==3.50.2\n",
      "  Downloading gradio-3.50.2-py3-none-any.whl.metadata (17 kB)\n",
      "Collecting aiofiles<24.0,>=22.0 (from gradio==3.50.2)\n",
      "  Downloading aiofiles-23.2.1-py3-none-any.whl.metadata (9.7 kB)\n",
      "Collecting altair<6.0,>=4.2.0 (from gradio==3.50.2)\n",
      "  Using cached altair-5.4.1-py3-none-any.whl.metadata (9.4 kB)\n",
      "Requirement already satisfied: fastapi in /opt/anaconda3/envs/dl-env/lib/python3.11/site-packages (from gradio==3.50.2) (0.115.2)\n",
      "Collecting ffmpy (from gradio==3.50.2)\n",
      "  Downloading ffmpy-0.4.0-py3-none-any.whl.metadata (2.9 kB)\n",
      "Collecting gradio-client==0.6.1 (from gradio==3.50.2)\n",
      "  Downloading gradio_client-0.6.1-py3-none-any.whl.metadata (7.1 kB)\n",
      "Requirement already satisfied: httpx in /opt/anaconda3/envs/dl-env/lib/python3.11/site-packages (from gradio==3.50.2) (0.27.2)\n",
      "Requirement already satisfied: huggingface-hub>=0.14.0 in /opt/anaconda3/envs/dl-env/lib/python3.11/site-packages (from gradio==3.50.2) (0.25.2)\n",
      "Requirement already satisfied: importlib-resources<7.0,>=1.3 in /opt/anaconda3/envs/dl-env/lib/python3.11/site-packages (from gradio==3.50.2) (6.4.5)\n",
      "Requirement already satisfied: jinja2<4.0 in /opt/anaconda3/envs/dl-env/lib/python3.11/site-packages (from gradio==3.50.2) (3.1.4)\n",
      "Requirement already satisfied: markupsafe~=2.0 in /opt/anaconda3/envs/dl-env/lib/python3.11/site-packages (from gradio==3.50.2) (2.1.5)\n",
      "Requirement already satisfied: matplotlib~=3.0 in /opt/anaconda3/envs/dl-env/lib/python3.11/site-packages (from gradio==3.50.2) (3.9.2)\n",
      "Requirement already satisfied: numpy~=1.0 in /opt/anaconda3/envs/dl-env/lib/python3.11/site-packages (from gradio==3.50.2) (1.24.3)\n",
      "Requirement already satisfied: orjson~=3.0 in /opt/anaconda3/envs/dl-env/lib/python3.11/site-packages (from gradio==3.50.2) (3.10.7)\n",
      "Requirement already satisfied: packaging in /opt/anaconda3/envs/dl-env/lib/python3.11/site-packages (from gradio==3.50.2) (24.1)\n",
      "Requirement already satisfied: pandas<3.0,>=1.0 in /opt/anaconda3/envs/dl-env/lib/python3.11/site-packages (from gradio==3.50.2) (2.2.3)\n",
      "Requirement already satisfied: pillow<11.0,>=8.0 in /opt/anaconda3/envs/dl-env/lib/python3.11/site-packages (from gradio==3.50.2) (10.4.0)\n",
      "Requirement already satisfied: pydantic!=1.8,!=1.8.1,!=2.0.0,!=2.0.1,<3.0.0,>=1.7.4 in /opt/anaconda3/envs/dl-env/lib/python3.11/site-packages (from gradio==3.50.2) (2.9.2)\n",
      "Collecting pydub (from gradio==3.50.2)\n",
      "  Downloading pydub-0.25.1-py2.py3-none-any.whl.metadata (1.4 kB)\n",
      "Collecting python-multipart (from gradio==3.50.2)\n",
      "  Downloading python_multipart-0.0.12-py3-none-any.whl.metadata (1.9 kB)\n",
      "Requirement already satisfied: pyyaml<7.0,>=5.0 in /opt/anaconda3/envs/dl-env/lib/python3.11/site-packages (from gradio==3.50.2) (6.0.2)\n",
      "Requirement already satisfied: requests~=2.0 in /opt/anaconda3/envs/dl-env/lib/python3.11/site-packages (from gradio==3.50.2) (2.32.3)\n",
      "Collecting semantic-version~=2.0 (from gradio==3.50.2)\n",
      "  Downloading semantic_version-2.10.0-py2.py3-none-any.whl.metadata (9.7 kB)\n",
      "Requirement already satisfied: typing-extensions~=4.0 in /opt/anaconda3/envs/dl-env/lib/python3.11/site-packages (from gradio==3.50.2) (4.12.2)\n",
      "Requirement already satisfied: uvicorn>=0.14.0 in /opt/anaconda3/envs/dl-env/lib/python3.11/site-packages (from gradio==3.50.2) (0.31.1)\n",
      "Collecting websockets<12.0,>=10.0 (from gradio==3.50.2)\n",
      "  Downloading websockets-11.0.3-cp311-cp311-macosx_11_0_arm64.whl.metadata (6.6 kB)\n",
      "Requirement already satisfied: fsspec in /opt/anaconda3/envs/dl-env/lib/python3.11/site-packages (from gradio-client==0.6.1->gradio==3.50.2) (2024.9.0)\n",
      "Collecting jsonschema>=3.0 (from altair<6.0,>=4.2.0->gradio==3.50.2)\n",
      "  Using cached jsonschema-4.23.0-py3-none-any.whl.metadata (7.9 kB)\n",
      "Collecting narwhals>=1.5.2 (from altair<6.0,>=4.2.0->gradio==3.50.2)\n",
      "  Downloading narwhals-1.9.3-py3-none-any.whl.metadata (7.0 kB)\n",
      "Requirement already satisfied: filelock in /opt/anaconda3/envs/dl-env/lib/python3.11/site-packages (from huggingface-hub>=0.14.0->gradio==3.50.2) (3.16.1)\n",
      "Requirement already satisfied: tqdm>=4.42.1 in /opt/anaconda3/envs/dl-env/lib/python3.11/site-packages (from huggingface-hub>=0.14.0->gradio==3.50.2) (4.66.5)\n",
      "Requirement already satisfied: contourpy>=1.0.1 in /opt/anaconda3/envs/dl-env/lib/python3.11/site-packages (from matplotlib~=3.0->gradio==3.50.2) (1.3.0)\n",
      "Requirement already satisfied: cycler>=0.10 in /opt/anaconda3/envs/dl-env/lib/python3.11/site-packages (from matplotlib~=3.0->gradio==3.50.2) (0.12.1)\n",
      "Requirement already satisfied: fonttools>=4.22.0 in /opt/anaconda3/envs/dl-env/lib/python3.11/site-packages (from matplotlib~=3.0->gradio==3.50.2) (4.54.0)\n",
      "Requirement already satisfied: kiwisolver>=1.3.1 in /opt/anaconda3/envs/dl-env/lib/python3.11/site-packages (from matplotlib~=3.0->gradio==3.50.2) (1.4.7)\n",
      "Requirement already satisfied: pyparsing>=2.3.1 in /opt/anaconda3/envs/dl-env/lib/python3.11/site-packages (from matplotlib~=3.0->gradio==3.50.2) (3.1.4)\n",
      "Requirement already satisfied: python-dateutil>=2.7 in /opt/anaconda3/envs/dl-env/lib/python3.11/site-packages (from matplotlib~=3.0->gradio==3.50.2) (2.9.0)\n",
      "Requirement already satisfied: pytz>=2020.1 in /opt/anaconda3/envs/dl-env/lib/python3.11/site-packages (from pandas<3.0,>=1.0->gradio==3.50.2) (2024.2)\n",
      "Requirement already satisfied: tzdata>=2022.7 in /opt/anaconda3/envs/dl-env/lib/python3.11/site-packages (from pandas<3.0,>=1.0->gradio==3.50.2) (2024.2)\n",
      "Requirement already satisfied: annotated-types>=0.6.0 in /opt/anaconda3/envs/dl-env/lib/python3.11/site-packages (from pydantic!=1.8,!=1.8.1,!=2.0.0,!=2.0.1,<3.0.0,>=1.7.4->gradio==3.50.2) (0.7.0)\n",
      "Requirement already satisfied: pydantic-core==2.23.4 in /opt/anaconda3/envs/dl-env/lib/python3.11/site-packages (from pydantic!=1.8,!=1.8.1,!=2.0.0,!=2.0.1,<3.0.0,>=1.7.4->gradio==3.50.2) (2.23.4)\n",
      "Requirement already satisfied: charset-normalizer<4,>=2 in /opt/anaconda3/envs/dl-env/lib/python3.11/site-packages (from requests~=2.0->gradio==3.50.2) (3.4.0)\n",
      "Requirement already satisfied: idna<4,>=2.5 in /opt/anaconda3/envs/dl-env/lib/python3.11/site-packages (from requests~=2.0->gradio==3.50.2) (3.10)\n",
      "Requirement already satisfied: urllib3<3,>=1.21.1 in /opt/anaconda3/envs/dl-env/lib/python3.11/site-packages (from requests~=2.0->gradio==3.50.2) (2.2.3)\n",
      "Requirement already satisfied: certifi>=2017.4.17 in /opt/anaconda3/envs/dl-env/lib/python3.11/site-packages (from requests~=2.0->gradio==3.50.2) (2024.8.30)\n",
      "Requirement already satisfied: click>=7.0 in /opt/anaconda3/envs/dl-env/lib/python3.11/site-packages (from uvicorn>=0.14.0->gradio==3.50.2) (8.1.7)\n",
      "Requirement already satisfied: h11>=0.8 in /opt/anaconda3/envs/dl-env/lib/python3.11/site-packages (from uvicorn>=0.14.0->gradio==3.50.2) (0.14.0)\n",
      "Requirement already satisfied: starlette<0.41.0,>=0.37.2 in /opt/anaconda3/envs/dl-env/lib/python3.11/site-packages (from fastapi->gradio==3.50.2) (0.39.2)\n",
      "Requirement already satisfied: anyio in /opt/anaconda3/envs/dl-env/lib/python3.11/site-packages (from httpx->gradio==3.50.2) (4.6.0)\n",
      "Requirement already satisfied: httpcore==1.* in /opt/anaconda3/envs/dl-env/lib/python3.11/site-packages (from httpx->gradio==3.50.2) (1.0.6)\n",
      "Requirement already satisfied: sniffio in /opt/anaconda3/envs/dl-env/lib/python3.11/site-packages (from httpx->gradio==3.50.2) (1.3.1)\n",
      "Requirement already satisfied: attrs>=22.2.0 in /opt/anaconda3/envs/dl-env/lib/python3.11/site-packages (from jsonschema>=3.0->altair<6.0,>=4.2.0->gradio==3.50.2) (24.2.0)\n",
      "Collecting jsonschema-specifications>=2023.03.6 (from jsonschema>=3.0->altair<6.0,>=4.2.0->gradio==3.50.2)\n",
      "  Downloading jsonschema_specifications-2024.10.1-py3-none-any.whl.metadata (3.0 kB)\n",
      "Collecting referencing>=0.28.4 (from jsonschema>=3.0->altair<6.0,>=4.2.0->gradio==3.50.2)\n",
      "  Using cached referencing-0.35.1-py3-none-any.whl.metadata (2.8 kB)\n",
      "Collecting rpds-py>=0.7.1 (from jsonschema>=3.0->altair<6.0,>=4.2.0->gradio==3.50.2)\n",
      "  Using cached rpds_py-0.20.0-cp311-cp311-macosx_11_0_arm64.whl.metadata (4.2 kB)\n",
      "Requirement already satisfied: six>=1.5 in /opt/anaconda3/envs/dl-env/lib/python3.11/site-packages (from python-dateutil>=2.7->matplotlib~=3.0->gradio==3.50.2) (1.16.0)\n",
      "Downloading gradio-3.50.2-py3-none-any.whl (20.3 MB)\n",
      "\u001b[2K   \u001b[90m━━━━━━━━━━━━━━━━━━━━━━━━━━━━━━━━━━━━━━━━\u001b[0m \u001b[32m20.3/20.3 MB\u001b[0m \u001b[31m13.3 MB/s\u001b[0m eta \u001b[36m0:00:00\u001b[0ma \u001b[36m0:00:01\u001b[0m\n",
      "\u001b[?25hDownloading gradio_client-0.6.1-py3-none-any.whl (299 kB)\n",
      "Downloading aiofiles-23.2.1-py3-none-any.whl (15 kB)\n",
      "Using cached altair-5.4.1-py3-none-any.whl (658 kB)\n",
      "Downloading semantic_version-2.10.0-py2.py3-none-any.whl (15 kB)\n",
      "Downloading websockets-11.0.3-cp311-cp311-macosx_11_0_arm64.whl (121 kB)\n",
      "Downloading ffmpy-0.4.0-py3-none-any.whl (5.8 kB)\n",
      "Downloading pydub-0.25.1-py2.py3-none-any.whl (32 kB)\n",
      "Downloading python_multipart-0.0.12-py3-none-any.whl (23 kB)\n",
      "Using cached jsonschema-4.23.0-py3-none-any.whl (88 kB)\n",
      "Downloading narwhals-1.9.3-py3-none-any.whl (185 kB)\n",
      "Downloading jsonschema_specifications-2024.10.1-py3-none-any.whl (18 kB)\n",
      "Using cached referencing-0.35.1-py3-none-any.whl (26 kB)\n",
      "Using cached rpds_py-0.20.0-cp311-cp311-macosx_11_0_arm64.whl (311 kB)\n",
      "Installing collected packages: pydub, websockets, semantic-version, rpds-py, python-multipart, narwhals, ffmpy, aiofiles, referencing, jsonschema-specifications, gradio-client, jsonschema, altair, gradio\n",
      "  Attempting uninstall: websockets\n",
      "    Found existing installation: websockets 13.1\n",
      "    Uninstalling websockets-13.1:\n",
      "      Successfully uninstalled websockets-13.1\n",
      "Successfully installed aiofiles-23.2.1 altair-5.4.1 ffmpy-0.4.0 gradio-3.50.2 gradio-client-0.6.1 jsonschema-4.23.0 jsonschema-specifications-2024.10.1 narwhals-1.9.3 pydub-0.25.1 python-multipart-0.0.12 referencing-0.35.1 rpds-py-0.20.0 semantic-version-2.10.0 websockets-11.0.3\n",
      "Note: you may need to restart the kernel to use updated packages.\n"
     ]
    }
   ],
   "source": [
    "%pip install gradio==3.50.2"
   ]
  },
  {
   "cell_type": "code",
   "execution_count": 33,
   "metadata": {},
   "outputs": [
    {
     "name": "stderr",
     "output_type": "stream",
     "text": [
      "/opt/anaconda3/envs/dl-env/lib/python3.11/site-packages/tqdm/auto.py:21: TqdmWarning: IProgress not found. Please update jupyter and ipywidgets. See https://ipywidgets.readthedocs.io/en/stable/user_install.html\n",
      "  from .autonotebook import tqdm as notebook_tqdm\n"
     ]
    },
    {
     "name": "stdout",
     "output_type": "stream",
     "text": [
      "Running on local URL:  http://127.0.0.1:7860\n",
      "\n",
      "To create a public link, set `share=True` in `launch()`.\n"
     ]
    },
    {
     "data": {
      "text/html": [
       "<div><iframe src=\"http://127.0.0.1:7860/\" width=\"100%\" height=\"500\" allow=\"autoplay; camera; microphone; clipboard-read; clipboard-write;\" frameborder=\"0\" allowfullscreen></iframe></div>"
      ],
      "text/plain": [
       "<IPython.core.display.HTML object>"
      ]
     },
     "metadata": {},
     "output_type": "display_data"
    },
    {
     "name": "stdout",
     "output_type": "stream",
     "text": [
      "IMPORTANT: You are using gradio version 3.50.2, however version 5.0.1 is available, please upgrade.\n",
      "--------\n",
      "비트코인(bitcoin)은 가상통화(암호통화)이자 디지털 지급시스템으로, 중앙 저장소나 단일 관리자가 없는 최초의 탈중앙화된 디지털 통화입니다. 2009년 사토시 나카모토라는 인물(또는 집단)에 의해 만들어져 개방형 소프트웨어로 배포되었습니다. 비트코인은 공유형(peer-to-peer) 시스템을 기반으로 하며, 거래는 중개자 없이 참여자(nodes) 간에 직접 이루어집니다.\n",
      "\n",
      "비트코인의 거래는 작업증명(proof-of-work) 방식으로 검증되며, 모든 거래는 공개된 분산원장인 블록체인에 기록됩니다. 새로운 거래가 승인되면 약 10분마다 새로운 블록이 생성되어 블록체인에 추가됩니다. 비트코인은 채굴(mining)이라는 과정을 통해 발행되며, 이 과정에서 대규모 전기를 사용하는 컴퓨터 처리 능력이 필요합니다. 현재 한 블록당 12.5 비트코인이 보상으로 주어지며, 약 4년마다 이 보상은 반으로 줄어듭니다. 비트코인의 총량은 2100만 개로 한정되어 있으며, 2140년경에 모두 채굴될 것으로 예상됩니다.\n",
      "\n",
      "비트코인은 법정화폐가 아니며, 비트코인 플랫폼에서 거래됩니다. 투자 대상으로도 관심을 받고 있지만, 가격의 급등과 심한 변동성으로 인해 거품 논란이 존재합니다. 또한 익명성으로 인해 자금세탁 등 불법 거래에 악용될 가능성이 있어 일부 국가에서는 비트코인 거래를 규제하고 있습니다. 일본은 비트코인 거래 이익에 대해 세금을 부과하고 있습니다. \n",
      "\n",
      "비트코인은 2017년 8월 1일에 비트코인캐시(BCH)로 하드포크되었고, 10월 25일에는 비트코인골드(BTG)로 또 다른 하드포크가 발생했습니다.Keyboard interruption in main thread... closing server.\n"
     ]
    },
    {
     "data": {
      "text/plain": []
     },
     "execution_count": 33,
     "metadata": {},
     "output_type": "execute_result"
    }
   ],
   "source": [
    "import gradio as gr\n",
    "\n",
    "# 인터페이스를 생성.\n",
    "with gr.Blocks() as demo:\n",
    "    chatbot = gr.Chatbot(\n",
    "        label=\"경제금융용어 챗봇\"\n",
    "    )  # 경제금융용어 챗봇 레이블을 좌측 상단에 구성\n",
    "    msg = gr.Textbox(label=\"질문해주세요!\")  # 하단의 채팅창의 레이블\n",
    "    clear = gr.Button(\"대화 초기화\")  # 대화 초기화 버튼\n",
    "\n",
    "    # 챗봇의 답변을 처리하는 함수\n",
    "    def respond(message, chat_history):\n",
    "        result = qa_chain(message)\n",
    "        bot_message = result[\"result\"]\n",
    "\n",
    "        # 채팅 기록에 사용자의 메시지와 봇의 응답을 추가.\n",
    "        chat_history.append((message, bot_message))\n",
    "        return \"\", chat_history\n",
    "\n",
    "    # 사용자의 입력을 제출(submit)하면 respond 함수가 호출.\n",
    "    msg.submit(respond, [msg, chatbot], [msg, chatbot])\n",
    "\n",
    "    # '초기화' 버튼을 클릭하면 채팅 기록을 초기화.\n",
    "    clear.click(lambda: None, None, chatbot, queue=False)\n",
    "\n",
    "# 인터페이스 실행.\n",
    "demo.launch(debug=True)"
   ]
  },
  {
   "cell_type": "code",
   "execution_count": null,
   "metadata": {},
   "outputs": [],
   "source": []
  }
 ],
 "metadata": {
  "kernelspec": {
   "display_name": "dl-env",
   "language": "python",
   "name": "python3"
  },
  "language_info": {
   "codemirror_mode": {
    "name": "ipython",
    "version": 3
   },
   "file_extension": ".py",
   "mimetype": "text/x-python",
   "name": "python",
   "nbconvert_exporter": "python",
   "pygments_lexer": "ipython3",
   "version": "3.11.0"
  }
 },
 "nbformat": 4,
 "nbformat_minor": 2
}
