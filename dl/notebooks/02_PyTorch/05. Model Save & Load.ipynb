{
 "cells": [
  {
   "cell_type": "markdown",
   "metadata": {},
   "source": [
    "## FashionMNIST DataSet & DataLoader"
   ]
  },
  {
   "cell_type": "code",
   "execution_count": 1,
   "metadata": {},
   "outputs": [],
   "source": [
    "from torch.utils.data import DataLoader\n",
    "from torchvision import datasets\n",
    "from torchvision.transforms import ToTensor"
   ]
  },
  {
   "cell_type": "code",
   "execution_count": 2,
   "metadata": {},
   "outputs": [],
   "source": [
    "train_data = datasets.FashionMNIST(\n",
    "    root=\"../../data\", train=True, download=True, transform=ToTensor()\n",
    ")\n",
    "\n",
    "test_data = datasets.FashionMNIST(\n",
    "    root=\"../../data\", train=False, download=True, transform=ToTensor()\n",
    ")"
   ]
  },
  {
   "cell_type": "code",
   "execution_count": 3,
   "metadata": {},
   "outputs": [],
   "source": [
    "train_dataloader = DataLoader(train_data, batch_size=64, shuffle=True)\n",
    "test_dataloader = DataLoader(test_data, batch_size=64, shuffle=False)"
   ]
  },
  {
   "cell_type": "markdown",
   "metadata": {},
   "source": [
    "## Modeling"
   ]
  },
  {
   "cell_type": "code",
   "execution_count": 4,
   "metadata": {},
   "outputs": [],
   "source": [
    "from torch import nn\n",
    "\n",
    "\n",
    "class NeuralNetwork(nn.Module):\n",
    "    def __init__(self):\n",
    "        # nn.Module 생성\n",
    "        super(NeuralNetwork, self).__init__()\n",
    "\n",
    "        # 레이어 정의\n",
    "        self.flatten = nn.Flatten()\n",
    "\n",
    "        self.linear_relu_stack = nn.Sequential(\n",
    "            nn.Linear(28 * 28, 128), nn.ReLU(), nn.Linear(128, 10)\n",
    "        )\n",
    "\n",
    "    def forward(self, x):\n",
    "        x = self.flatten(x)\n",
    "        y = self.linear_relu_stack(x)\n",
    "\n",
    "        return y"
   ]
  },
  {
   "cell_type": "markdown",
   "metadata": {},
   "source": [
    "## 모델 생성"
   ]
  },
  {
   "cell_type": "code",
   "execution_count": 5,
   "metadata": {},
   "outputs": [
    {
     "name": "stdout",
     "output_type": "stream",
     "text": [
      "cpu\n"
     ]
    }
   ],
   "source": [
    "import torch\n",
    "\n",
    "if torch.backends.mps.is_available():\n",
    "    device = \"mps\"\n",
    "else:\n",
    "    device = \"cpu\"\n",
    "\n",
    "device = \"cpu\"\n",
    "\n",
    "print(device)"
   ]
  },
  {
   "cell_type": "code",
   "execution_count": 6,
   "metadata": {},
   "outputs": [
    {
     "name": "stdout",
     "output_type": "stream",
     "text": [
      "NeuralNetwork(\n",
      "  (flatten): Flatten(start_dim=1, end_dim=-1)\n",
      "  (linear_relu_stack): Sequential(\n",
      "    (0): Linear(in_features=784, out_features=128, bias=True)\n",
      "    (1): ReLU()\n",
      "    (2): Linear(in_features=128, out_features=10, bias=True)\n",
      "  )\n",
      ")\n"
     ]
    }
   ],
   "source": [
    "model = NeuralNetwork().to(device)\n",
    "print(model)"
   ]
  },
  {
   "cell_type": "markdown",
   "metadata": {},
   "source": [
    "## Train Model"
   ]
  },
  {
   "cell_type": "code",
   "execution_count": 7,
   "metadata": {},
   "outputs": [],
   "source": [
    "loss_fn = nn.CrossEntropyLoss()  # 이미 여기에 소프트맥스 함수가 포함되어 있다.\n",
    "optimizer = torch.optim.Adam(model.parameters(), lr=0.0001)"
   ]
  },
  {
   "cell_type": "code",
   "execution_count": 8,
   "metadata": {},
   "outputs": [],
   "source": [
    "def train_loop(dataloader, model, loss_fn, optimizer):\n",
    "    size = len(dataloader.dataset)\n",
    "\n",
    "    model.train()\n",
    "\n",
    "    for batch, (X, y) in enumerate(dataloader):\n",
    "        # DataLoader 에 들어있는 tensor 들을 모델과 같은 위치에 두기\n",
    "        X, y = X.to(device), y.to(device)\n",
    "        pred = model(X)\n",
    "        loss = loss_fn(pred, y)\n",
    "\n",
    "        optimizer.zero_grad()  # 이전 배치의 기울기 제거\n",
    "        loss.backward()\n",
    "        optimizer.step()\n",
    "\n",
    "        # 배치가 100번 돌 때마다 화면에 출력\n",
    "        if batch % 100 == 0:\n",
    "            loss, current = loss.item(), batch * len(X)\n",
    "            print(f\"Train Loss : {loss:>7f} [ {current:>5d} / {size:>5d} ]\")"
   ]
  },
  {
   "cell_type": "code",
   "execution_count": 9,
   "metadata": {},
   "outputs": [],
   "source": [
    "def test_loop(dataloader, model, loss_fn):\n",
    "    size = len(dataloader.dataset)\n",
    "\n",
    "    # loss는 배치 별로 계산, correct는 전체 데이터 세트에 대한 평균 정확도\n",
    "    test_loss, correct = 0, 0\n",
    "\n",
    "    # 모델을 추론 모드로 바꿔준다.\n",
    "    model.eval()\n",
    "\n",
    "    # 추론 과정에서는 기울기를 구할 필요 없음\n",
    "    with torch.no_grad():\n",
    "        for X, y in dataloader:\n",
    "            X, y = X.to(device), y.to(device)\n",
    "            pred = model(X)\n",
    "\n",
    "            test_loss += loss_fn(pred, y).item()\n",
    "\n",
    "            # 10개의 예측값 중 가장 큰 곳의 인덱스를 argmax 로 찾고, target 과 일치하는지 확인\n",
    "            correct += (pred.argmax(1) == y).type(torch.float).sum().item()\n",
    "\n",
    "    num_batches = len(dataloader)\n",
    "    test_loss /= num_batches\n",
    "    correct /= size\n",
    "\n",
    "    print(\n",
    "        f\"Test Error : \\n Accuracy : {(100*correct):>0.1f}%, Avg Loss : {test_loss:>8f}\\n\"\n",
    "    )"
   ]
  },
  {
   "cell_type": "code",
   "execution_count": 10,
   "metadata": {},
   "outputs": [
    {
     "name": "stdout",
     "output_type": "stream",
     "text": [
      "Epoch 1\n",
      "........................\n",
      "Train Loss : 2.257907 [     0 / 60000 ]\n",
      "Train Loss : 1.466735 [  6400 / 60000 ]\n",
      "Train Loss : 1.011678 [ 12800 / 60000 ]\n",
      "Train Loss : 0.863554 [ 19200 / 60000 ]\n",
      "Train Loss : 0.933581 [ 25600 / 60000 ]\n",
      "Train Loss : 0.746833 [ 32000 / 60000 ]\n",
      "Train Loss : 0.528999 [ 38400 / 60000 ]\n",
      "Train Loss : 0.758681 [ 44800 / 60000 ]\n",
      "Train Loss : 0.686812 [ 51200 / 60000 ]\n",
      "Train Loss : 0.543049 [ 57600 / 60000 ]\n",
      "Test Error : \n",
      " Accuracy : 78.5%, Avg Loss : 0.632650\n",
      "\n",
      "Epoch 2\n",
      "........................\n",
      "Train Loss : 0.638636 [     0 / 60000 ]\n",
      "Train Loss : 0.600570 [  6400 / 60000 ]\n",
      "Train Loss : 0.402481 [ 12800 / 60000 ]\n",
      "Train Loss : 0.750936 [ 19200 / 60000 ]\n",
      "Train Loss : 0.476849 [ 25600 / 60000 ]\n",
      "Train Loss : 0.574864 [ 32000 / 60000 ]\n",
      "Train Loss : 0.721517 [ 38400 / 60000 ]\n",
      "Train Loss : 0.388411 [ 44800 / 60000 ]\n",
      "Train Loss : 0.499579 [ 51200 / 60000 ]\n",
      "Train Loss : 0.497415 [ 57600 / 60000 ]\n",
      "Test Error : \n",
      " Accuracy : 81.2%, Avg Loss : 0.545108\n",
      "\n",
      "Epoch 3\n",
      "........................\n",
      "Train Loss : 0.382758 [     0 / 60000 ]\n",
      "Train Loss : 0.697549 [  6400 / 60000 ]\n",
      "Train Loss : 0.586023 [ 12800 / 60000 ]\n",
      "Train Loss : 0.439018 [ 19200 / 60000 ]\n",
      "Train Loss : 0.444176 [ 25600 / 60000 ]\n",
      "Train Loss : 0.584034 [ 32000 / 60000 ]\n",
      "Train Loss : 0.623830 [ 38400 / 60000 ]\n",
      "Train Loss : 0.502614 [ 44800 / 60000 ]\n",
      "Train Loss : 0.507401 [ 51200 / 60000 ]\n",
      "Train Loss : 0.490278 [ 57600 / 60000 ]\n",
      "Test Error : \n",
      " Accuracy : 82.3%, Avg Loss : 0.507494\n",
      "\n",
      "Epoch 4\n",
      "........................\n",
      "Train Loss : 0.439483 [     0 / 60000 ]\n",
      "Train Loss : 0.471092 [  6400 / 60000 ]\n",
      "Train Loss : 0.586881 [ 12800 / 60000 ]\n",
      "Train Loss : 0.537284 [ 19200 / 60000 ]\n",
      "Train Loss : 0.544664 [ 25600 / 60000 ]\n",
      "Train Loss : 0.442856 [ 32000 / 60000 ]\n",
      "Train Loss : 0.468603 [ 38400 / 60000 ]\n",
      "Train Loss : 0.381124 [ 44800 / 60000 ]\n",
      "Train Loss : 0.492508 [ 51200 / 60000 ]\n",
      "Train Loss : 0.445350 [ 57600 / 60000 ]\n",
      "Test Error : \n",
      " Accuracy : 83.0%, Avg Loss : 0.486530\n",
      "\n",
      "Epoch 5\n",
      "........................\n",
      "Train Loss : 0.422773 [     0 / 60000 ]\n",
      "Train Loss : 0.573861 [  6400 / 60000 ]\n",
      "Train Loss : 0.643480 [ 12800 / 60000 ]\n",
      "Train Loss : 0.832077 [ 19200 / 60000 ]\n",
      "Train Loss : 0.494507 [ 25600 / 60000 ]\n",
      "Train Loss : 0.651035 [ 32000 / 60000 ]\n",
      "Train Loss : 0.507030 [ 38400 / 60000 ]\n",
      "Train Loss : 0.471495 [ 44800 / 60000 ]\n",
      "Train Loss : 0.294327 [ 51200 / 60000 ]\n",
      "Train Loss : 0.441626 [ 57600 / 60000 ]\n",
      "Test Error : \n",
      " Accuracy : 83.8%, Avg Loss : 0.461251\n",
      "\n",
      "Epoch 6\n",
      "........................\n",
      "Train Loss : 0.354306 [     0 / 60000 ]\n",
      "Train Loss : 0.337579 [  6400 / 60000 ]\n",
      "Train Loss : 0.383925 [ 12800 / 60000 ]\n",
      "Train Loss : 0.593494 [ 19200 / 60000 ]\n",
      "Train Loss : 0.576020 [ 25600 / 60000 ]\n",
      "Train Loss : 0.424075 [ 32000 / 60000 ]\n",
      "Train Loss : 0.365045 [ 38400 / 60000 ]\n",
      "Train Loss : 0.474236 [ 44800 / 60000 ]\n",
      "Train Loss : 0.409551 [ 51200 / 60000 ]\n",
      "Train Loss : 0.349205 [ 57600 / 60000 ]\n",
      "Test Error : \n",
      " Accuracy : 84.4%, Avg Loss : 0.451044\n",
      "\n",
      "Epoch 7\n",
      "........................\n",
      "Train Loss : 0.327923 [     0 / 60000 ]\n",
      "Train Loss : 0.526535 [  6400 / 60000 ]\n",
      "Train Loss : 0.406499 [ 12800 / 60000 ]\n",
      "Train Loss : 0.307681 [ 19200 / 60000 ]\n",
      "Train Loss : 0.392414 [ 25600 / 60000 ]\n",
      "Train Loss : 0.353644 [ 32000 / 60000 ]\n",
      "Train Loss : 0.399348 [ 38400 / 60000 ]\n",
      "Train Loss : 0.265237 [ 44800 / 60000 ]\n",
      "Train Loss : 0.446541 [ 51200 / 60000 ]\n",
      "Train Loss : 0.529869 [ 57600 / 60000 ]\n",
      "Test Error : \n",
      " Accuracy : 84.4%, Avg Loss : 0.439040\n",
      "\n",
      "Epoch 8\n",
      "........................\n",
      "Train Loss : 0.417296 [     0 / 60000 ]\n",
      "Train Loss : 0.446623 [  6400 / 60000 ]\n",
      "Train Loss : 0.320873 [ 12800 / 60000 ]\n",
      "Train Loss : 0.356494 [ 19200 / 60000 ]\n",
      "Train Loss : 0.447960 [ 25600 / 60000 ]\n",
      "Train Loss : 0.243392 [ 32000 / 60000 ]\n",
      "Train Loss : 0.324883 [ 38400 / 60000 ]\n",
      "Train Loss : 0.318839 [ 44800 / 60000 ]\n",
      "Train Loss : 0.307283 [ 51200 / 60000 ]\n",
      "Train Loss : 0.308628 [ 57600 / 60000 ]\n",
      "Test Error : \n",
      " Accuracy : 84.9%, Avg Loss : 0.429138\n",
      "\n",
      "Epoch 9\n",
      "........................\n",
      "Train Loss : 0.473880 [     0 / 60000 ]\n",
      "Train Loss : 0.450850 [  6400 / 60000 ]\n",
      "Train Loss : 0.405582 [ 12800 / 60000 ]\n",
      "Train Loss : 0.235317 [ 19200 / 60000 ]\n",
      "Train Loss : 0.589477 [ 25600 / 60000 ]\n",
      "Train Loss : 0.432439 [ 32000 / 60000 ]\n",
      "Train Loss : 0.604506 [ 38400 / 60000 ]\n",
      "Train Loss : 0.460812 [ 44800 / 60000 ]\n",
      "Train Loss : 0.273455 [ 51200 / 60000 ]\n",
      "Train Loss : 0.243845 [ 57600 / 60000 ]\n",
      "Test Error : \n",
      " Accuracy : 84.8%, Avg Loss : 0.426718\n",
      "\n",
      "Epoch 10\n",
      "........................\n",
      "Train Loss : 0.578197 [     0 / 60000 ]\n",
      "Train Loss : 0.294285 [  6400 / 60000 ]\n",
      "Train Loss : 0.517607 [ 12800 / 60000 ]\n",
      "Train Loss : 0.420056 [ 19200 / 60000 ]\n",
      "Train Loss : 0.347649 [ 25600 / 60000 ]\n",
      "Train Loss : 0.425614 [ 32000 / 60000 ]\n",
      "Train Loss : 0.332286 [ 38400 / 60000 ]\n",
      "Train Loss : 0.453751 [ 44800 / 60000 ]\n",
      "Train Loss : 0.425391 [ 51200 / 60000 ]\n",
      "Train Loss : 0.308055 [ 57600 / 60000 ]\n",
      "Test Error : \n",
      " Accuracy : 85.4%, Avg Loss : 0.416799\n",
      "\n",
      "Experiment Successful\n"
     ]
    }
   ],
   "source": [
    "epochs = 10\n",
    "\n",
    "for i in range(epochs):\n",
    "    print(f\"Epoch {i+1}\\n........................\")\n",
    "    train_loop(train_dataloader, model, loss_fn, optimizer)\n",
    "    test_loop(test_dataloader, model, loss_fn)\n",
    "\n",
    "print(\"Experiment Successful\")"
   ]
  },
  {
   "cell_type": "markdown",
   "metadata": {},
   "source": [
    "## 훈련된 모델의 가중치를 저장 / 불러오기\n",
    "\n",
    "불러올 곳에서 모델의 구조를 알고 있는 경우 가중치만 저장하면 적은 용량으로 저장하고 불러오는 것이 가능하다\n",
    "* 단점 : 모델 class 가 없으면 사용할 수 없다"
   ]
  },
  {
   "cell_type": "code",
   "execution_count": 11,
   "metadata": {},
   "outputs": [],
   "source": [
    "# model.state_dict() : 모델 내에 있는 레이어 별 가중치를 들고 있는 딕셔너리\n",
    "torch.save(model.state_dict(), \"../../data/saved_models/model_weights.pth\")"
   ]
  },
  {
   "cell_type": "code",
   "execution_count": 12,
   "metadata": {},
   "outputs": [
    {
     "data": {
      "text/plain": [
       "OrderedDict([('linear_relu_stack.0.weight',\n",
       "              tensor([[-3.6391e-03,  7.6025e-03, -2.3236e-02,  ..., -4.1066e-02,\n",
       "                       -5.4370e-03,  2.6251e-02],\n",
       "                      [ 4.5918e-02,  1.8733e-02,  6.4198e-02,  ..., -3.1635e-02,\n",
       "                        1.1356e-02,  2.5222e-03],\n",
       "                      [-1.9674e-02, -2.3116e-02, -1.5752e-03,  ...,  9.0471e-03,\n",
       "                       -4.9617e-05,  9.2110e-03],\n",
       "                      ...,\n",
       "                      [-2.5583e-02, -5.0421e-02,  3.3750e-02,  ...,  2.7883e-03,\n",
       "                        1.5956e-02,  2.6494e-02],\n",
       "                      [ 2.0904e-02,  5.5900e-02,  3.5611e-02,  ...,  1.2542e-02,\n",
       "                       -2.2144e-03, -5.2213e-03],\n",
       "                      [ 3.9552e-03, -3.5959e-02, -5.5057e-02,  ...,  6.2795e-02,\n",
       "                        5.6173e-02,  5.1584e-02]])),\n",
       "             ('linear_relu_stack.0.bias',\n",
       "              tensor([-0.0919, -0.0604, -0.0392,  0.2245, -0.1185, -0.0476,  0.1126, -0.0785,\n",
       "                       0.0841,  0.1441,  0.2142,  0.0019, -0.2603,  0.0271,  0.1551, -0.0263,\n",
       "                      -0.0933,  0.1043,  0.0101, -0.1132,  0.1742,  0.0603,  0.0297,  0.1795,\n",
       "                      -0.0769,  0.0485,  0.1697,  0.2111, -0.1151,  0.2371, -0.1912,  0.1561,\n",
       "                       0.0701, -0.0049,  0.2337,  0.0039,  0.1125,  0.0166,  0.2031,  0.2042,\n",
       "                      -0.0092, -0.0750,  0.0075,  0.0060, -0.0443,  0.1959, -0.2596,  0.2253,\n",
       "                      -0.0365, -0.0157,  0.0406,  0.0366, -0.0418,  0.0869, -0.0021,  0.0511,\n",
       "                      -0.0253, -0.1175,  0.1856,  0.1330,  0.0240, -0.0980,  0.1442, -0.1445,\n",
       "                       0.1150, -0.0401,  0.1690, -0.0005,  0.1071,  0.1672, -0.1380,  0.2531,\n",
       "                       0.1514,  0.0014,  0.1353,  0.1435,  0.0872,  0.2207, -0.0046,  0.2199,\n",
       "                      -0.0972,  0.1115,  0.1045, -0.0350,  0.1155,  0.0742, -0.0626,  0.0194,\n",
       "                      -0.0983, -0.2026,  0.2632, -0.1341, -0.0666,  0.0989, -0.0020, -0.0653,\n",
       "                      -0.0991,  0.0175, -0.1776, -0.1060, -0.0761, -0.1386,  0.0958,  0.0923,\n",
       "                       0.0193,  0.1975, -0.0054, -0.0049, -0.1629,  0.0058, -0.0546, -0.1404,\n",
       "                       0.0802,  0.1040, -0.0754, -0.0008,  0.1455, -0.1046,  0.2294,  0.1424,\n",
       "                      -0.1479,  0.0812,  0.1910,  0.1406,  0.0295, -0.1413,  0.0958, -0.0180])),\n",
       "             ('linear_relu_stack.2.weight',\n",
       "              tensor([[-0.0081,  0.1108, -0.0408,  ...,  0.0117, -0.0101, -0.1828],\n",
       "                      [ 0.1663, -0.1400,  0.0845,  ..., -0.1734,  0.0040, -0.1159],\n",
       "                      [-0.0643,  0.0689, -0.0301,  ...,  0.0353,  0.0669,  0.0982],\n",
       "                      ...,\n",
       "                      [ 0.1582,  0.1459, -0.0723,  ..., -0.1463, -0.1643, -0.0816],\n",
       "                      [-0.0722, -0.0383,  0.0674,  ...,  0.0414, -0.0298, -0.1774],\n",
       "                      [ 0.0899,  0.0414, -0.0538,  ..., -0.0877,  0.0424,  0.1263]])),\n",
       "             ('linear_relu_stack.2.bias',\n",
       "              tensor([ 0.0993, -0.0410, -0.0620, -0.0231, -0.1192,  0.2811,  0.0480, -0.0470,\n",
       "                      -0.0640, -0.1887]))])"
      ]
     },
     "execution_count": 12,
     "metadata": {},
     "output_type": "execute_result"
    }
   ],
   "source": [
    "model.state_dict()"
   ]
  },
  {
   "cell_type": "code",
   "execution_count": 13,
   "metadata": {},
   "outputs": [
    {
     "name": "stdout",
     "output_type": "stream",
     "text": [
      "NeuralNetwork(\n",
      "  (flatten): Flatten(start_dim=1, end_dim=-1)\n",
      "  (linear_relu_stack): Sequential(\n",
      "    (0): Linear(in_features=784, out_features=128, bias=True)\n",
      "    (1): ReLU()\n",
      "    (2): Linear(in_features=128, out_features=10, bias=True)\n",
      "  )\n",
      ")\n"
     ]
    }
   ],
   "source": [
    "# 저장된 가중치 파일(pth) 불러오기\n",
    "new_model = NeuralNetwork().to(device)\n",
    "print(new_model)"
   ]
  },
  {
   "cell_type": "code",
   "execution_count": 14,
   "metadata": {},
   "outputs": [
    {
     "name": "stdout",
     "output_type": "stream",
     "text": [
      "Test Error : \n",
      " Accuracy : 9.7%, Avg Loss : 2.296109\n",
      "\n"
     ]
    }
   ],
   "source": [
    "# 훈련되지 않은 모델로 예측\n",
    "test_loop(test_dataloader, new_model, loss_fn)"
   ]
  },
  {
   "cell_type": "code",
   "execution_count": 15,
   "metadata": {},
   "outputs": [
    {
     "name": "stderr",
     "output_type": "stream",
     "text": [
      "/var/folders/h0/f86w2r851zn7yj1w80yw932h0000gn/T/ipykernel_519/3047005004.py:2: FutureWarning: You are using `torch.load` with `weights_only=False` (the current default value), which uses the default pickle module implicitly. It is possible to construct malicious pickle data which will execute arbitrary code during unpickling (See https://github.com/pytorch/pytorch/blob/main/SECURITY.md#untrusted-models for more details). In a future release, the default value for `weights_only` will be flipped to `True`. This limits the functions that could be executed during unpickling. Arbitrary objects will no longer be allowed to be loaded via this mode unless they are explicitly allowlisted by the user via `torch.serialization.add_safe_globals`. We recommend you start setting `weights_only=True` for any use case where you don't have full control of the loaded file. Please open an issue on GitHub for any issues related to this experimental feature.\n",
      "  new_model.load_state_dict(torch.load(\"../../data/saved_models/model_weights.pth\"))\n"
     ]
    },
    {
     "name": "stdout",
     "output_type": "stream",
     "text": [
      "Test Error : \n",
      " Accuracy : 85.4%, Avg Loss : 0.416799\n",
      "\n"
     ]
    }
   ],
   "source": [
    "# 이전에 훈련된 가중치를 불러와 새로운 모델에 load\n",
    "new_model.load_state_dict(torch.load(\"../../data/saved_models/model_weights.pth\"))\n",
    "test_loop(test_dataloader, new_model, loss_fn)"
   ]
  },
  {
   "cell_type": "markdown",
   "metadata": {},
   "source": [
    "## 훈련된 모델 자체를 저장 / 불러오기\n",
    "\n",
    "* 모델의 구조를 몰라도 사용 가능\n",
    "* 용량은 많이 필요하다"
   ]
  },
  {
   "cell_type": "code",
   "execution_count": 16,
   "metadata": {},
   "outputs": [],
   "source": [
    "torch.save(model, \"../../data/saved_models/model.pth\")"
   ]
  },
  {
   "cell_type": "code",
   "execution_count": 18,
   "metadata": {},
   "outputs": [
    {
     "name": "stderr",
     "output_type": "stream",
     "text": [
      "/var/folders/h0/f86w2r851zn7yj1w80yw932h0000gn/T/ipykernel_519/2093080944.py:1: FutureWarning: You are using `torch.load` with `weights_only=False` (the current default value), which uses the default pickle module implicitly. It is possible to construct malicious pickle data which will execute arbitrary code during unpickling (See https://github.com/pytorch/pytorch/blob/main/SECURITY.md#untrusted-models for more details). In a future release, the default value for `weights_only` will be flipped to `True`. This limits the functions that could be executed during unpickling. Arbitrary objects will no longer be allowed to be loaded via this mode unless they are explicitly allowlisted by the user via `torch.serialization.add_safe_globals`. We recommend you start setting `weights_only=True` for any use case where you don't have full control of the loaded file. Please open an issue on GitHub for any issues related to this experimental feature.\n",
      "  new_model = torch.load(\"../../data/saved_models/model.pth\")\n"
     ]
    },
    {
     "name": "stdout",
     "output_type": "stream",
     "text": [
      "Test Error : \n",
      " Accuracy : 85.4%, Avg Loss : 0.416799\n",
      "\n"
     ]
    }
   ],
   "source": [
    "new_model = torch.load(\"../../data/saved_models/model.pth\")\n",
    "test_loop(test_dataloader, new_model, loss_fn)"
   ]
  },
  {
   "cell_type": "code",
   "execution_count": null,
   "metadata": {},
   "outputs": [],
   "source": []
  }
 ],
 "metadata": {
  "kernelspec": {
   "display_name": "dl-env",
   "language": "python",
   "name": "python3"
  },
  "language_info": {
   "codemirror_mode": {
    "name": "ipython",
    "version": 3
   },
   "file_extension": ".py",
   "mimetype": "text/x-python",
   "name": "python",
   "nbconvert_exporter": "python",
   "pygments_lexer": "ipython3",
   "version": "3.11.0"
  }
 },
 "nbformat": 4,
 "nbformat_minor": 2
}
