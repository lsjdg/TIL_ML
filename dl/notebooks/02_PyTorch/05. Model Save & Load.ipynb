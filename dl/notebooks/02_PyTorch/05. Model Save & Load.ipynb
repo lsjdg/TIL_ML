{
 "cells": [
  {
   "cell_type": "markdown",
   "metadata": {},
   "source": [
    "## FashionMNIST DataSet & DataLoader"
   ]
  },
  {
   "cell_type": "code",
   "execution_count": 59,
   "metadata": {},
   "outputs": [],
   "source": [
    "from torch.utils.data import DataLoader\n",
    "from torchvision import datasets\n",
    "from torchvision.transforms import ToTensor"
   ]
  },
  {
   "cell_type": "code",
   "execution_count": 60,
   "metadata": {},
   "outputs": [],
   "source": [
    "train_data = datasets.FashionMNIST(\n",
    "    root=\"../../data\", train=True, download=True, transform=ToTensor()\n",
    ")\n",
    "\n",
    "test_data = datasets.FashionMNIST(\n",
    "    root=\"../../data\", train=False, download=True, transform=ToTensor()\n",
    ")"
   ]
  },
  {
   "cell_type": "code",
   "execution_count": 61,
   "metadata": {},
   "outputs": [],
   "source": [
    "train_dataloader = DataLoader(train_data, batch_size=64, shuffle=True)\n",
    "test_dataloader = DataLoader(test_data, batch_size=64, shuffle=False)"
   ]
  },
  {
   "cell_type": "markdown",
   "metadata": {},
   "source": [
    "## Modeling"
   ]
  },
  {
   "cell_type": "code",
   "execution_count": 62,
   "metadata": {},
   "outputs": [],
   "source": [
    "from torch import nn\n",
    "\n",
    "\n",
    "class NeuralNetwork(nn.Module):\n",
    "    def __init__(self):\n",
    "        # nn.Module 생성\n",
    "        super(NeuralNetwork, self).__init__()\n",
    "\n",
    "        # 레이어 정의\n",
    "        self.flatten = nn.Flatten()\n",
    "\n",
    "        self.linear_relu_stack = nn.Sequential(\n",
    "            nn.Linear(28 * 28, 128), nn.ReLU(), nn.Linear(128, 10)\n",
    "        )\n",
    "\n",
    "    def forward(self, x):\n",
    "        x = self.flatten(x)\n",
    "        y = self.linear_relu_stack(x)\n",
    "\n",
    "        return y"
   ]
  },
  {
   "cell_type": "markdown",
   "metadata": {},
   "source": [
    "## 모델 생성"
   ]
  },
  {
   "cell_type": "code",
   "execution_count": 63,
   "metadata": {},
   "outputs": [
    {
     "name": "stdout",
     "output_type": "stream",
     "text": [
      "cpu\n"
     ]
    }
   ],
   "source": [
    "import torch\n",
    "\n",
    "if torch.backends.mps.is_available():\n",
    "    device = \"mps\"\n",
    "else:\n",
    "    device = \"cpu\"\n",
    "\n",
    "device = \"cpu\"\n",
    "\n",
    "print(device)"
   ]
  },
  {
   "cell_type": "code",
   "execution_count": 64,
   "metadata": {},
   "outputs": [
    {
     "name": "stdout",
     "output_type": "stream",
     "text": [
      "NeuralNetwork(\n",
      "  (flatten): Flatten(start_dim=1, end_dim=-1)\n",
      "  (linear_relu_stack): Sequential(\n",
      "    (0): Linear(in_features=784, out_features=128, bias=True)\n",
      "    (1): ReLU()\n",
      "    (2): Linear(in_features=128, out_features=10, bias=True)\n",
      "  )\n",
      ")\n"
     ]
    }
   ],
   "source": [
    "model = NeuralNetwork().to(device)\n",
    "print(model)"
   ]
  },
  {
   "cell_type": "markdown",
   "metadata": {},
   "source": [
    "## Train Model"
   ]
  },
  {
   "cell_type": "code",
   "execution_count": 65,
   "metadata": {},
   "outputs": [],
   "source": [
    "loss_fn = nn.CrossEntropyLoss()  # 이미 여기에 소프트맥스 함수가 포함되어 있다.\n",
    "optimizer = torch.optim.Adam(model.parameters(), lr=0.0001)"
   ]
  },
  {
   "cell_type": "code",
   "execution_count": 66,
   "metadata": {},
   "outputs": [],
   "source": [
    "def train_loop(dataloader, model, loss_fn, optimizer):\n",
    "    size = len(dataloader.dataset)\n",
    "\n",
    "    model.train()\n",
    "\n",
    "    for batch, (X, y) in enumerate(dataloader):\n",
    "        # DataLoader 에 들어있는 tensor 들을 모델과 같은 위치에 두기\n",
    "        X, y = X.to(device), y.to(device)\n",
    "        pred = model(X)\n",
    "        loss = loss_fn(pred, y)\n",
    "\n",
    "        optimizer.zero_grad()  # 이전 배치의 기울기 제거\n",
    "        loss.backward()\n",
    "        optimizer.step()\n",
    "\n",
    "        # 배치가 100번 돌 때마다 화면에 출력\n",
    "        if batch % 100 == 0:\n",
    "            loss, current = loss.item(), batch * len(X)\n",
    "            print(f\"Train Loss : {loss:>7f} [ {current:>5d} / {size:>5d} ]\")"
   ]
  },
  {
   "cell_type": "code",
   "execution_count": 67,
   "metadata": {},
   "outputs": [],
   "source": [
    "def test_loop(dataloader, model, loss_fn):\n",
    "    size = len(dataloader.dataset)\n",
    "\n",
    "    # loss는 배치 별로 계산, correct는 전체 데이터 세트에 대한 평균 정확도\n",
    "    test_loss, correct = 0, 0\n",
    "\n",
    "    # 모델을 추론 모드로 바꿔준다.\n",
    "    model.eval()\n",
    "\n",
    "    # 추론 과정에서는 기울기를 구할 필요 없음\n",
    "    with torch.no_grad():\n",
    "        for X, y in dataloader:\n",
    "            X, y = X.to(device), y.to(device)\n",
    "            pred = model(X)\n",
    "\n",
    "            test_loss += loss_fn(pred, y).item()\n",
    "\n",
    "            # 10개의 예측값 중 가장 큰 곳의 인덱스를 argmax 로 찾고, target 과 일치하는지 확인\n",
    "            correct += (pred.argmax(1) == y).type(torch.float).sum().item()\n",
    "\n",
    "    num_batches = len(dataloader)\n",
    "    test_loss /= num_batches\n",
    "    correct /= size\n",
    "\n",
    "    print(\n",
    "        f\"Test Error : \\n Accuracy : {(100*correct):>0.1f}%, Avg Loss : {test_loss:>8f}\\n\"\n",
    "    )"
   ]
  },
  {
   "cell_type": "code",
   "execution_count": 68,
   "metadata": {},
   "outputs": [
    {
     "name": "stdout",
     "output_type": "stream",
     "text": [
      "Epoch 1\n",
      "........................\n",
      "Train Loss : 2.297895 [     0 / 60000 ]\n",
      "Train Loss : 1.478404 [  6400 / 60000 ]\n",
      "Train Loss : 1.130491 [ 12800 / 60000 ]\n",
      "Train Loss : 0.929421 [ 19200 / 60000 ]\n",
      "Train Loss : 0.704111 [ 25600 / 60000 ]\n",
      "Train Loss : 0.659142 [ 32000 / 60000 ]\n",
      "Train Loss : 0.603530 [ 38400 / 60000 ]\n",
      "Train Loss : 0.589859 [ 44800 / 60000 ]\n",
      "Train Loss : 0.773566 [ 51200 / 60000 ]\n",
      "Train Loss : 0.721782 [ 57600 / 60000 ]\n",
      "Test Error : \n",
      " Accuracy : 79.0%, Avg Loss : 0.622938\n",
      "\n",
      "Epoch 2\n",
      "........................\n",
      "Train Loss : 0.687222 [     0 / 60000 ]\n",
      "Train Loss : 0.608836 [  6400 / 60000 ]\n",
      "Train Loss : 0.506180 [ 12800 / 60000 ]\n",
      "Train Loss : 0.580014 [ 19200 / 60000 ]\n",
      "Train Loss : 0.606995 [ 25600 / 60000 ]\n",
      "Train Loss : 0.436001 [ 32000 / 60000 ]\n",
      "Train Loss : 0.490737 [ 38400 / 60000 ]\n",
      "Train Loss : 0.566170 [ 44800 / 60000 ]\n",
      "Train Loss : 0.741702 [ 51200 / 60000 ]\n",
      "Train Loss : 0.549720 [ 57600 / 60000 ]\n",
      "Test Error : \n",
      " Accuracy : 81.9%, Avg Loss : 0.530969\n",
      "\n",
      "Epoch 3\n",
      "........................\n",
      "Train Loss : 0.492455 [     0 / 60000 ]\n",
      "Train Loss : 0.592469 [  6400 / 60000 ]\n",
      "Train Loss : 0.523380 [ 12800 / 60000 ]\n",
      "Train Loss : 0.328476 [ 19200 / 60000 ]\n",
      "Train Loss : 0.343185 [ 25600 / 60000 ]\n",
      "Train Loss : 0.349032 [ 32000 / 60000 ]\n",
      "Train Loss : 0.273792 [ 38400 / 60000 ]\n",
      "Train Loss : 0.435276 [ 44800 / 60000 ]\n",
      "Train Loss : 0.394672 [ 51200 / 60000 ]\n",
      "Train Loss : 0.757848 [ 57600 / 60000 ]\n",
      "Test Error : \n",
      " Accuracy : 83.0%, Avg Loss : 0.495819\n",
      "\n",
      "Epoch 4\n",
      "........................\n",
      "Train Loss : 0.406322 [     0 / 60000 ]\n",
      "Train Loss : 0.460853 [  6400 / 60000 ]\n",
      "Train Loss : 0.477161 [ 12800 / 60000 ]\n",
      "Train Loss : 0.252513 [ 19200 / 60000 ]\n",
      "Train Loss : 0.438700 [ 25600 / 60000 ]\n",
      "Train Loss : 0.560341 [ 32000 / 60000 ]\n",
      "Train Loss : 0.378753 [ 38400 / 60000 ]\n",
      "Train Loss : 0.366572 [ 44800 / 60000 ]\n",
      "Train Loss : 0.429914 [ 51200 / 60000 ]\n",
      "Train Loss : 0.285007 [ 57600 / 60000 ]\n",
      "Test Error : \n",
      " Accuracy : 83.4%, Avg Loss : 0.475975\n",
      "\n",
      "Epoch 5\n",
      "........................\n",
      "Train Loss : 0.395418 [     0 / 60000 ]\n",
      "Train Loss : 0.512573 [  6400 / 60000 ]\n",
      "Train Loss : 0.475812 [ 12800 / 60000 ]\n",
      "Train Loss : 0.445417 [ 19200 / 60000 ]\n",
      "Train Loss : 0.301351 [ 25600 / 60000 ]\n",
      "Train Loss : 0.352617 [ 32000 / 60000 ]\n",
      "Train Loss : 0.425448 [ 38400 / 60000 ]\n",
      "Train Loss : 0.392051 [ 44800 / 60000 ]\n",
      "Train Loss : 0.457843 [ 51200 / 60000 ]\n",
      "Train Loss : 0.384598 [ 57600 / 60000 ]\n",
      "Test Error : \n",
      " Accuracy : 83.9%, Avg Loss : 0.461611\n",
      "\n",
      "Epoch 6\n",
      "........................\n",
      "Train Loss : 0.432314 [     0 / 60000 ]\n",
      "Train Loss : 0.579256 [  6400 / 60000 ]\n",
      "Train Loss : 0.660766 [ 12800 / 60000 ]\n",
      "Train Loss : 0.353961 [ 19200 / 60000 ]\n",
      "Train Loss : 0.365547 [ 25600 / 60000 ]\n",
      "Train Loss : 0.368241 [ 32000 / 60000 ]\n",
      "Train Loss : 0.352136 [ 38400 / 60000 ]\n",
      "Train Loss : 0.533630 [ 44800 / 60000 ]\n",
      "Train Loss : 0.492905 [ 51200 / 60000 ]\n",
      "Train Loss : 0.319883 [ 57600 / 60000 ]\n",
      "Test Error : \n",
      " Accuracy : 84.1%, Avg Loss : 0.446190\n",
      "\n",
      "Epoch 7\n",
      "........................\n",
      "Train Loss : 0.400255 [     0 / 60000 ]\n",
      "Train Loss : 0.430283 [  6400 / 60000 ]\n",
      "Train Loss : 0.483980 [ 12800 / 60000 ]\n",
      "Train Loss : 0.371972 [ 19200 / 60000 ]\n",
      "Train Loss : 0.369998 [ 25600 / 60000 ]\n",
      "Train Loss : 0.444326 [ 32000 / 60000 ]\n",
      "Train Loss : 0.375579 [ 38400 / 60000 ]\n",
      "Train Loss : 0.296494 [ 44800 / 60000 ]\n",
      "Train Loss : 0.483683 [ 51200 / 60000 ]\n",
      "Train Loss : 0.260259 [ 57600 / 60000 ]\n",
      "Test Error : \n",
      " Accuracy : 84.6%, Avg Loss : 0.436999\n",
      "\n",
      "Epoch 8\n",
      "........................\n",
      "Train Loss : 0.406125 [     0 / 60000 ]\n",
      "Train Loss : 0.417836 [  6400 / 60000 ]\n",
      "Train Loss : 0.434166 [ 12800 / 60000 ]\n",
      "Train Loss : 0.464832 [ 19200 / 60000 ]\n",
      "Train Loss : 0.339709 [ 25600 / 60000 ]\n",
      "Train Loss : 0.625038 [ 32000 / 60000 ]\n",
      "Train Loss : 0.305862 [ 38400 / 60000 ]\n",
      "Train Loss : 0.456244 [ 44800 / 60000 ]\n",
      "Train Loss : 0.379116 [ 51200 / 60000 ]\n",
      "Train Loss : 0.480669 [ 57600 / 60000 ]\n",
      "Test Error : \n",
      " Accuracy : 84.9%, Avg Loss : 0.428409\n",
      "\n",
      "Epoch 9\n",
      "........................\n",
      "Train Loss : 0.555970 [     0 / 60000 ]\n",
      "Train Loss : 0.406210 [  6400 / 60000 ]\n",
      "Train Loss : 0.349224 [ 12800 / 60000 ]\n",
      "Train Loss : 0.331664 [ 19200 / 60000 ]\n",
      "Train Loss : 0.471382 [ 25600 / 60000 ]\n",
      "Train Loss : 0.613884 [ 32000 / 60000 ]\n",
      "Train Loss : 0.262710 [ 38400 / 60000 ]\n",
      "Train Loss : 0.380027 [ 44800 / 60000 ]\n",
      "Train Loss : 0.500737 [ 51200 / 60000 ]\n",
      "Train Loss : 0.335697 [ 57600 / 60000 ]\n",
      "Test Error : \n",
      " Accuracy : 85.4%, Avg Loss : 0.419600\n",
      "\n",
      "Epoch 10\n",
      "........................\n",
      "Train Loss : 0.379620 [     0 / 60000 ]\n",
      "Train Loss : 0.394215 [  6400 / 60000 ]\n",
      "Train Loss : 0.338960 [ 12800 / 60000 ]\n",
      "Train Loss : 0.261737 [ 19200 / 60000 ]\n",
      "Train Loss : 0.469677 [ 25600 / 60000 ]\n",
      "Train Loss : 0.314382 [ 32000 / 60000 ]\n",
      "Train Loss : 0.350637 [ 38400 / 60000 ]\n",
      "Train Loss : 0.329873 [ 44800 / 60000 ]\n",
      "Train Loss : 0.292916 [ 51200 / 60000 ]\n",
      "Train Loss : 0.304091 [ 57600 / 60000 ]\n",
      "Test Error : \n",
      " Accuracy : 85.2%, Avg Loss : 0.415099\n",
      "\n",
      "Experiment Successful\n"
     ]
    }
   ],
   "source": [
    "epochs = 10\n",
    "\n",
    "for i in range(epochs):\n",
    "    print(f\"Epoch {i+1}\\n........................\")\n",
    "    train_loop(train_dataloader, model, loss_fn, optimizer)\n",
    "    test_loop(test_dataloader, model, loss_fn)\n",
    "\n",
    "print(\"Experiment Successful\")"
   ]
  },
  {
   "cell_type": "markdown",
   "metadata": {},
   "source": [
    "## 훈련된 모델의 가중치를 저장 / 불러오기\n",
    "\n",
    "불러올 곳에서 모델의 구조를 알고 있는 경우 가중치만 저장하면 적은 용량으로 저장하고 불러오는 것이 가능하다\n",
    "* 단점 : 모델 class 가 없으면 사용할 수 없다"
   ]
  },
  {
   "cell_type": "code",
   "execution_count": 69,
   "metadata": {},
   "outputs": [],
   "source": [
    "# model.state_dict() : 모델 내에 있는 레이어 별 가중치를 들고 있는 딕셔너리\n",
    "torch.save(model.state_dict(), \"../../data/saved_models/model_weights.pth\")"
   ]
  },
  {
   "cell_type": "code",
   "execution_count": 70,
   "metadata": {},
   "outputs": [
    {
     "data": {
      "text/plain": [
       "OrderedDict([('linear_relu_stack.0.weight',\n",
       "              tensor([[-0.0355,  0.0576,  0.0760,  ...,  0.0381, -0.0149, -0.0047],\n",
       "                      [ 0.0018,  0.0540,  0.0017,  ..., -0.0242, -0.0169, -0.0443],\n",
       "                      [-0.0125,  0.0359,  0.0855,  ...,  0.0512,  0.0311,  0.0280],\n",
       "                      ...,\n",
       "                      [ 0.0023, -0.0212,  0.0302,  ...,  0.0632,  0.0274,  0.0362],\n",
       "                      [ 0.0112,  0.0137, -0.0035,  ..., -0.0926, -0.0960, -0.0515],\n",
       "                      [-0.0097, -0.0538, -0.0091,  ...,  0.0126, -0.0013, -0.0419]])),\n",
       "             ('linear_relu_stack.0.bias',\n",
       "              tensor([ 0.1641,  0.1191,  0.1945,  0.1843,  0.1274,  0.0384,  0.1799,  0.1182,\n",
       "                      -0.0395,  0.1323, -0.0072,  0.0969, -0.1272,  0.2525,  0.0588,  0.0718,\n",
       "                       0.1901,  0.0257,  0.1544,  0.0404,  0.0228,  0.0440, -0.0922,  0.0752,\n",
       "                      -0.0298,  0.0786, -0.0384,  0.0220,  0.0576,  0.1186,  0.1308,  0.0792,\n",
       "                      -0.0784, -0.0949, -0.1472, -0.0203,  0.0309,  0.1693, -0.1198,  0.0364,\n",
       "                       0.1406,  0.0808,  0.0527,  0.1497,  0.2801,  0.1230, -0.1651, -0.0485,\n",
       "                      -0.1273, -0.1470,  0.1185,  0.1127,  0.1151, -0.1583,  0.0300, -0.0044,\n",
       "                      -0.2005, -0.1782, -0.0785, -0.1950, -0.0541, -0.1007,  0.2201, -0.0864,\n",
       "                       0.1485, -0.1462,  0.0209, -0.0743,  0.1695, -0.0358,  0.0232,  0.0568,\n",
       "                      -0.0527, -0.1989, -0.0274,  0.0578,  0.1405,  0.0402, -0.1157,  0.1032,\n",
       "                      -0.0226, -0.1813, -0.0350,  0.1515, -0.0563, -0.0401, -0.0969,  0.0267,\n",
       "                      -0.1762,  0.2726, -0.0690, -0.0075,  0.1173,  0.0332,  0.1135,  0.1039,\n",
       "                      -0.0142,  0.0466,  0.0347, -0.1483, -0.1015,  0.2505,  0.1201,  0.0267,\n",
       "                       0.1583,  0.1955,  0.0080,  0.0559, -0.0345,  0.1430,  0.0925,  0.1415,\n",
       "                       0.0555,  0.2097,  0.0425,  0.1503,  0.1088,  0.0139,  0.0604, -0.0004,\n",
       "                       0.0941,  0.0547, -0.1418, -0.0237,  0.1107,  0.2519, -0.0055,  0.0476])),\n",
       "             ('linear_relu_stack.2.weight',\n",
       "              tensor([[ 0.1020,  0.1247, -0.0182,  ..., -0.0843, -0.0964, -0.0870],\n",
       "                      [-0.2408, -0.2137, -0.1217,  ..., -0.3618, -0.0587,  0.0722],\n",
       "                      [ 0.0053, -0.0131,  0.0309,  ..., -0.1521, -0.1077, -0.0331],\n",
       "                      ...,\n",
       "                      [-0.1143,  0.0736,  0.0577,  ..., -0.2888,  0.1182, -0.2021],\n",
       "                      [-0.1237, -0.0212, -0.0496,  ..., -0.1398,  0.1193,  0.0603],\n",
       "                      [ 0.0559,  0.1352,  0.0497,  ..., -0.3325, -0.0428, -0.1709]])),\n",
       "             ('linear_relu_stack.2.bias',\n",
       "              tensor([ 0.0494, -0.1620, -0.0206,  0.1238, -0.1297,  0.2903,  0.0812, -0.0457,\n",
       "                      -0.0196, -0.2454]))])"
      ]
     },
     "execution_count": 70,
     "metadata": {},
     "output_type": "execute_result"
    }
   ],
   "source": [
    "model.state_dict()"
   ]
  },
  {
   "cell_type": "code",
   "execution_count": 71,
   "metadata": {},
   "outputs": [
    {
     "name": "stdout",
     "output_type": "stream",
     "text": [
      "NeuralNetwork(\n",
      "  (flatten): Flatten(start_dim=1, end_dim=-1)\n",
      "  (linear_relu_stack): Sequential(\n",
      "    (0): Linear(in_features=784, out_features=128, bias=True)\n",
      "    (1): ReLU()\n",
      "    (2): Linear(in_features=128, out_features=10, bias=True)\n",
      "  )\n",
      ")\n"
     ]
    }
   ],
   "source": [
    "# 저장된 가중치 파일(pth) 불러오기\n",
    "new_model = NeuralNetwork().to(device)\n",
    "print(new_model)"
   ]
  },
  {
   "cell_type": "code",
   "execution_count": 72,
   "metadata": {},
   "outputs": [
    {
     "name": "stdout",
     "output_type": "stream",
     "text": [
      "Test Error : \n",
      " Accuracy : 11.4%, Avg Loss : 2.314730\n",
      "\n"
     ]
    }
   ],
   "source": [
    "# 훈련되지 않은 모델로 예측\n",
    "test_loop(test_dataloader, new_model, loss_fn)"
   ]
  },
  {
   "cell_type": "code",
   "execution_count": 73,
   "metadata": {},
   "outputs": [
    {
     "name": "stderr",
     "output_type": "stream",
     "text": [
      "/var/folders/h0/f86w2r851zn7yj1w80yw932h0000gn/T/ipykernel_98219/3047005004.py:2: FutureWarning: You are using `torch.load` with `weights_only=False` (the current default value), which uses the default pickle module implicitly. It is possible to construct malicious pickle data which will execute arbitrary code during unpickling (See https://github.com/pytorch/pytorch/blob/main/SECURITY.md#untrusted-models for more details). In a future release, the default value for `weights_only` will be flipped to `True`. This limits the functions that could be executed during unpickling. Arbitrary objects will no longer be allowed to be loaded via this mode unless they are explicitly allowlisted by the user via `torch.serialization.add_safe_globals`. We recommend you start setting `weights_only=True` for any use case where you don't have full control of the loaded file. Please open an issue on GitHub for any issues related to this experimental feature.\n",
      "  new_model.load_state_dict(torch.load(\"../../data/saved_models/model_weights.pth\"))\n"
     ]
    },
    {
     "name": "stdout",
     "output_type": "stream",
     "text": [
      "Test Error : \n",
      " Accuracy : 85.2%, Avg Loss : 0.415099\n",
      "\n"
     ]
    }
   ],
   "source": [
    "# 이전에 훈련된 가중치를 불러와 새로운 모델에 load\n",
    "new_model.load_state_dict(torch.load(\"../../data/saved_models/model_weights.pth\"))\n",
    "test_loop(test_dataloader, new_model, loss_fn)"
   ]
  },
  {
   "cell_type": "markdown",
   "metadata": {},
   "source": [
    "## 훈련된 모델 자체를 저장 / 불러오기\n",
    "\n",
    "* 모델의 구조를 몰라도 사용 가능\n",
    "* 용량은 많이 필요하다"
   ]
  },
  {
   "cell_type": "code",
   "execution_count": 74,
   "metadata": {},
   "outputs": [],
   "source": [
    "torch.save(model, \"../../data/saved_models/model.pth\")"
   ]
  },
  {
   "cell_type": "code",
   "execution_count": 75,
   "metadata": {},
   "outputs": [],
   "source": [
    "!ls -al | grep pth"
   ]
  },
  {
   "cell_type": "code",
   "execution_count": 76,
   "metadata": {},
   "outputs": [
    {
     "name": "stderr",
     "output_type": "stream",
     "text": [
      "/var/folders/h0/f86w2r851zn7yj1w80yw932h0000gn/T/ipykernel_98219/2093080944.py:1: FutureWarning: You are using `torch.load` with `weights_only=False` (the current default value), which uses the default pickle module implicitly. It is possible to construct malicious pickle data which will execute arbitrary code during unpickling (See https://github.com/pytorch/pytorch/blob/main/SECURITY.md#untrusted-models for more details). In a future release, the default value for `weights_only` will be flipped to `True`. This limits the functions that could be executed during unpickling. Arbitrary objects will no longer be allowed to be loaded via this mode unless they are explicitly allowlisted by the user via `torch.serialization.add_safe_globals`. We recommend you start setting `weights_only=True` for any use case where you don't have full control of the loaded file. Please open an issue on GitHub for any issues related to this experimental feature.\n",
      "  new_model = torch.load(\"../../data/saved_models/model.pth\")\n"
     ]
    },
    {
     "name": "stdout",
     "output_type": "stream",
     "text": [
      "Test Error : \n",
      " Accuracy : 85.2%, Avg Loss : 0.415099\n",
      "\n"
     ]
    }
   ],
   "source": [
    "new_model = torch.load(\"../../data/saved_models/model.pth\")\n",
    "test_loop(test_dataloader, new_model, loss_fn)"
   ]
  },
  {
   "cell_type": "code",
   "execution_count": null,
   "metadata": {},
   "outputs": [],
   "source": []
  }
 ],
 "metadata": {
  "kernelspec": {
   "display_name": "dl-env",
   "language": "python",
   "name": "python3"
  },
  "language_info": {
   "codemirror_mode": {
    "name": "ipython",
    "version": 3
   },
   "file_extension": ".py",
   "mimetype": "text/x-python",
   "name": "python",
   "nbconvert_exporter": "python",
   "pygments_lexer": "ipython3",
   "version": "3.9.19"
  }
 },
 "nbformat": 4,
 "nbformat_minor": 2
}
