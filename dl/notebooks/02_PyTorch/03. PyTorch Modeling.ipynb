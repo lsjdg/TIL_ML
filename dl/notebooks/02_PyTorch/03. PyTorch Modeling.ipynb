{
 "cells": [
  {
   "cell_type": "code",
   "execution_count": 2,
   "metadata": {},
   "outputs": [],
   "source": [
    "from torch.utils.data import DataLoader\n",
    "from torchvision import datasets\n",
    "from torchvision.transforms import ToTensor\n",
    "\n",
    "train_data = datasets.FashionMNIST(\n",
    "    root=\"../../data\",  # 데이터를 저장할 root 디렉토리\n",
    "    train=True,  # 훈련용 데이터 설정\n",
    "    download=True,  # 다운로드\n",
    "    transform=ToTensor(),  # 이미지 변환. 여기서는 TorchTesnor로 변환시킵니다.\n",
    ")\n",
    "\n",
    "test_data = datasets.FashionMNIST(\n",
    "    root=\"../../data\", train=False, download=True, transform=ToTensor()\n",
    ")"
   ]
  },
  {
   "cell_type": "code",
   "execution_count": 3,
   "metadata": {},
   "outputs": [],
   "source": [
    "train_dataloader = DataLoader(train_data, batch_size=64, shuffle=True)\n",
    "test_dataloader = DataLoader(test_data, batch_size=64, shuffle=False)"
   ]
  },
  {
   "cell_type": "markdown",
   "metadata": {},
   "source": [
    "# PyTorch Modeling\n",
    "* PyTorch 는 대부분 클래스 기반 모델링을 수행\n",
    "* `torch.nn.Module` 클래스를 상속 받아 만들게 됨\n",
    "* 필수적으로 오버라이딩 => `__init__`, `forawrd`"
   ]
  },
  {
   "cell_type": "markdown",
   "metadata": {},
   "source": [
    "* base class 는 원본, subclass 는 확장판이라고 생각하면 편하다\n",
    "* subclass 는 base class 생성의 책임을 진다"
   ]
  },
  {
   "cell_type": "code",
   "execution_count": 5,
   "metadata": {},
   "outputs": [],
   "source": [
    "from torch import nn\n",
    "\n",
    "\n",
    "class NeuralNetwork(nn.Module):\n",
    "    def __init__(self):\n",
    "        # subclass 인 neural network 의 생성자\n",
    "        # 상위 클래스인 nn.Module 의 생성에 대한 책임을 져야 한다. => super 를 통해 상위 클래스의 생성자 호출\n",
    "        super(NeuralNetwork, self).__init__()\n",
    "\n",
    "        # 생성자에는 항상 레이어의 구성을 정의\n",
    "        self.flatten = (\n",
    "            nn.Flatten()\n",
    "        )  # Flatten 클래스를 이용해 입력되는 3차원 데이터를 평탄화\n",
    "\n",
    "        # nn.Sequential 을 이용해 연속되는 레이어의 구조를 구성\n",
    "        self.linear_relu_stack = nn.Sequential(\n",
    "            # 1층의 구조\n",
    "            nn.Linear(28 * 28, 128),  # 28*28 을 받는 128개의 뉴런\n",
    "            nn.ReLU(),\n",
    "            # 2층(출력층) 구조\n",
    "            nn.Linear(128, 10),\n",
    "            # Softmax 는 나중에 실제 모델에서 확률값을 기반한 훈련 시 사용해도 됨\n",
    "        )\n",
    "\n",
    "    def forward(self, x):\n",
    "        # forward 에는 gray scale 입력 데이터 x 가 들어옴 => x 의 shape 은 (N, 28, 28)\n",
    "        x = self.flatten(x)\n",
    "        y = self.linear_relu_stack(x)\n",
    "\n",
    "        return y"
   ]
  },
  {
   "cell_type": "code",
   "execution_count": 13,
   "metadata": {},
   "outputs": [
    {
     "name": "stdout",
     "output_type": "stream",
     "text": [
      "MPS 가속을 사용합니다.\n"
     ]
    },
    {
     "data": {
      "text/plain": [
       "'mps'"
      ]
     },
     "execution_count": 13,
     "metadata": {},
     "output_type": "execute_result"
    }
   ],
   "source": [
    "import torch\n",
    "\n",
    "if torch.backends.mps.is_available():\n",
    "    device = \"mps\"\n",
    "    print(\"MPS 가속을 사용합니다.\")\n",
    "else:\n",
    "    device = torch.device(\"cpu\")\n",
    "    print(\"MPS 가속을 사용할 수 없습니다. CPU를 사용합니다.\")\n",
    "\n",
    "device"
   ]
  },
  {
   "cell_type": "code",
   "execution_count": 15,
   "metadata": {},
   "outputs": [
    {
     "name": "stdout",
     "output_type": "stream",
     "text": [
      "NeuralNetwork(\n",
      "  (flatten): Flatten(start_dim=1, end_dim=-1)\n",
      "  (linear_relu_stack): Sequential(\n",
      "    (0): Linear(in_features=784, out_features=128, bias=True)\n",
      "    (1): ReLU()\n",
      "    (2): Linear(in_features=128, out_features=10, bias=True)\n",
      "  )\n",
      ")\n"
     ]
    }
   ],
   "source": [
    "model = NeuralNetwork().to(device)\n",
    "print(model)"
   ]
  },
  {
   "cell_type": "code",
   "execution_count": null,
   "metadata": {},
   "outputs": [],
   "source": []
  }
 ],
 "metadata": {
  "kernelspec": {
   "display_name": "dl-env",
   "language": "python",
   "name": "python3"
  },
  "language_info": {
   "codemirror_mode": {
    "name": "ipython",
    "version": 3
   },
   "file_extension": ".py",
   "mimetype": "text/x-python",
   "name": "python",
   "nbconvert_exporter": "python",
   "pygments_lexer": "ipython3",
   "version": "3.11.0"
  }
 },
 "nbformat": 4,
 "nbformat_minor": 2
}
