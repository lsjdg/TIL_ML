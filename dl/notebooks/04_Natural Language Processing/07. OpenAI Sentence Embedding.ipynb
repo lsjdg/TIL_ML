{
 "cells": [
  {
   "cell_type": "markdown",
   "metadata": {},
   "source": [
    "## OpenAI Embedding\n",
    "* api 키를 발급받아 사용"
   ]
  },
  {
   "cell_type": "code",
   "execution_count": 4,
   "metadata": {},
   "outputs": [],
   "source": [
    "import sys\n",
    "import os\n",
    "\n",
    "sys.path.append(os.path.abspath(\"../../data/API_KEY\"))"
   ]
  },
  {
   "cell_type": "code",
   "execution_count": 5,
   "metadata": {},
   "outputs": [],
   "source": [
    "from openai import OpenAI\n",
    "import OpenAI_API_Key\n",
    "\n",
    "API_KEY = OpenAI_API_Key.API_KEY\n",
    "\n",
    "client = OpenAI(api_key=API_KEY)"
   ]
  },
  {
   "cell_type": "code",
   "execution_count": 15,
   "metadata": {},
   "outputs": [
    {
     "data": {
      "text/plain": [
       "1536"
      ]
     },
     "execution_count": 15,
     "metadata": {},
     "output_type": "execute_result"
    }
   ],
   "source": [
    "embedding = client.embeddings.create(\n",
    "    model=\"text-embedding-ada-002\",\n",
    "    input=[\"야 저기 차 온다!\", \"저건 어디로 가는 버스야?\"],\n",
    ")\n",
    "\n",
    "len(embedding.data[0].embedding)"
   ]
  },
  {
   "cell_type": "code",
   "execution_count": 7,
   "metadata": {},
   "outputs": [
    {
     "name": "stdout",
     "output_type": "stream",
     "text": [
      "<class 'openai.types.create_embedding_response.CreateEmbeddingResponse'>\n",
      "<class 'openai.types.embedding.Embedding'>\n",
      "<class 'list'>\n"
     ]
    }
   ],
   "source": [
    "print(type(embedding))  # OpenAI API의 임베딩 요청에 대한 응답\n",
    "print(type(embedding.data[0]))  # 각 문장의 임베딩 벡터에 대한 정보를 담은 객체\n",
    "print(type(embedding.data[0].embedding))  # 임베딩 벡터 (list)"
   ]
  },
  {
   "cell_type": "code",
   "execution_count": 17,
   "metadata": {},
   "outputs": [
    {
     "data": {
      "text/html": [
       "<div>\n",
       "<style scoped>\n",
       "    .dataframe tbody tr th:only-of-type {\n",
       "        vertical-align: middle;\n",
       "    }\n",
       "\n",
       "    .dataframe tbody tr th {\n",
       "        vertical-align: top;\n",
       "    }\n",
       "\n",
       "    .dataframe thead th {\n",
       "        text-align: right;\n",
       "    }\n",
       "</style>\n",
       "<table border=\"1\" class=\"dataframe\">\n",
       "  <thead>\n",
       "    <tr style=\"text-align: right;\">\n",
       "      <th></th>\n",
       "      <th>text</th>\n",
       "    </tr>\n",
       "  </thead>\n",
       "  <tbody>\n",
       "    <tr>\n",
       "      <th>0</th>\n",
       "      <td>내일 차 타고 놀러가자</td>\n",
       "    </tr>\n",
       "    <tr>\n",
       "      <th>1</th>\n",
       "      <td>지금 오는 버스는 어디서 오는 버스야?</td>\n",
       "    </tr>\n",
       "    <tr>\n",
       "      <th>2</th>\n",
       "      <td>차 한잔 하면서 이야기 하시죠</td>\n",
       "    </tr>\n",
       "    <tr>\n",
       "      <th>3</th>\n",
       "      <td>5차 공동구매! 오늘만 세일!</td>\n",
       "    </tr>\n",
       "    <tr>\n",
       "      <th>4</th>\n",
       "      <td>홍차 녹차 중에 어떤 차가 좋으세요?</td>\n",
       "    </tr>\n",
       "  </tbody>\n",
       "</table>\n",
       "</div>"
      ],
      "text/plain": [
       "                    text\n",
       "0           내일 차 타고 놀러가자\n",
       "1  지금 오는 버스는 어디서 오는 버스야?\n",
       "2       차 한잔 하면서 이야기 하시죠\n",
       "3       5차 공동구매! 오늘만 세일!\n",
       "4   홍차 녹차 중에 어떤 차가 좋으세요?"
      ]
     },
     "execution_count": 17,
     "metadata": {},
     "output_type": "execute_result"
    }
   ],
   "source": [
    "import pandas as pd\n",
    "\n",
    "data = [\n",
    "    \"내일 차 타고 놀러가자\",\n",
    "    \"지금 오는 버스는 어디서 오는 버스야?\",\n",
    "    \"차 한잔 하면서 이야기 하시죠\",\n",
    "    \"5차 공동구매! 오늘만 세일!\",\n",
    "    \"홍차 녹차 중에 어떤 차가 좋으세요?\",\n",
    "]\n",
    "\n",
    "df = pd.DataFrame(data, columns=[\"text\"])\n",
    "df"
   ]
  },
  {
   "cell_type": "code",
   "execution_count": 18,
   "metadata": {},
   "outputs": [],
   "source": [
    "def get_embedding(text):\n",
    "    response = client.embeddings.create(input=text, model=\"text-embedding-ada-002\")\n",
    "    return response.data[0].embedding"
   ]
  },
  {
   "cell_type": "code",
   "execution_count": 19,
   "metadata": {},
   "outputs": [
    {
     "data": {
      "text/html": [
       "<div>\n",
       "<style scoped>\n",
       "    .dataframe tbody tr th:only-of-type {\n",
       "        vertical-align: middle;\n",
       "    }\n",
       "\n",
       "    .dataframe tbody tr th {\n",
       "        vertical-align: top;\n",
       "    }\n",
       "\n",
       "    .dataframe thead th {\n",
       "        text-align: right;\n",
       "    }\n",
       "</style>\n",
       "<table border=\"1\" class=\"dataframe\">\n",
       "  <thead>\n",
       "    <tr style=\"text-align: right;\">\n",
       "      <th></th>\n",
       "      <th>text</th>\n",
       "      <th>embedding</th>\n",
       "    </tr>\n",
       "  </thead>\n",
       "  <tbody>\n",
       "    <tr>\n",
       "      <th>0</th>\n",
       "      <td>내일 차 타고 놀러가자</td>\n",
       "      <td>[0.015895135700702667, -0.011393633671104908, ...</td>\n",
       "    </tr>\n",
       "    <tr>\n",
       "      <th>1</th>\n",
       "      <td>지금 오는 버스는 어디서 오는 버스야?</td>\n",
       "      <td>[0.008037855848670006, -0.011817412450909615, ...</td>\n",
       "    </tr>\n",
       "    <tr>\n",
       "      <th>2</th>\n",
       "      <td>차 한잔 하면서 이야기 하시죠</td>\n",
       "      <td>[0.016478225588798523, -0.02388259395956993, 0...</td>\n",
       "    </tr>\n",
       "    <tr>\n",
       "      <th>3</th>\n",
       "      <td>5차 공동구매! 오늘만 세일!</td>\n",
       "      <td>[-0.017510101199150085, -0.002525998977944255,...</td>\n",
       "    </tr>\n",
       "    <tr>\n",
       "      <th>4</th>\n",
       "      <td>홍차 녹차 중에 어떤 차가 좋으세요?</td>\n",
       "      <td>[0.005494758952409029, -0.011675575748085976, ...</td>\n",
       "    </tr>\n",
       "  </tbody>\n",
       "</table>\n",
       "</div>"
      ],
      "text/plain": [
       "                    text                                          embedding\n",
       "0           내일 차 타고 놀러가자  [0.015895135700702667, -0.011393633671104908, ...\n",
       "1  지금 오는 버스는 어디서 오는 버스야?  [0.008037855848670006, -0.011817412450909615, ...\n",
       "2       차 한잔 하면서 이야기 하시죠  [0.016478225588798523, -0.02388259395956993, 0...\n",
       "3       5차 공동구매! 오늘만 세일!  [-0.017510101199150085, -0.002525998977944255,...\n",
       "4   홍차 녹차 중에 어떤 차가 좋으세요?  [0.005494758952409029, -0.011675575748085976, ..."
      ]
     },
     "execution_count": 19,
     "metadata": {},
     "output_type": "execute_result"
    }
   ],
   "source": [
    "df[\"embedding\"] = [get_embedding(text) for text in df[\"text\"]]\n",
    "df"
   ]
  },
  {
   "cell_type": "markdown",
   "metadata": {},
   "source": [
    "## 유사도 구하기"
   ]
  },
  {
   "cell_type": "code",
   "execution_count": 27,
   "metadata": {},
   "outputs": [],
   "source": [
    "import numpy as np\n",
    "\n",
    "\n",
    "def cos_sim(A, B):\n",
    "    return A @ B / (np.linalg.norm(A) * np.linalg.norm(B))\n",
    "\n",
    "\n",
    "def return_answer_candidate(df, query):\n",
    "    \"\"\"\n",
    "    df : 문장과 임베딩 벡터가 들어있는 데이터 프레임\n",
    "    query : 질의할 문장\n",
    "    \"\"\"\n",
    "    query_embedding = get_embedding(query)\n",
    "\n",
    "    df[\"similarity\"] = [\n",
    "        cos_sim(np.array(emb_vec), np.array(query_embedding))\n",
    "        for emb_vec in df[\"embedding\"]\n",
    "    ]\n",
    "\n",
    "    results_co = df.sort_values(\"similarity\", ascending=False, ignore_index=True)\n",
    "    return results_co.head(3)"
   ]
  },
  {
   "cell_type": "code",
   "execution_count": 28,
   "metadata": {},
   "outputs": [
    {
     "data": {
      "text/html": [
       "<div>\n",
       "<style scoped>\n",
       "    .dataframe tbody tr th:only-of-type {\n",
       "        vertical-align: middle;\n",
       "    }\n",
       "\n",
       "    .dataframe tbody tr th {\n",
       "        vertical-align: top;\n",
       "    }\n",
       "\n",
       "    .dataframe thead th {\n",
       "        text-align: right;\n",
       "    }\n",
       "</style>\n",
       "<table border=\"1\" class=\"dataframe\">\n",
       "  <thead>\n",
       "    <tr style=\"text-align: right;\">\n",
       "      <th></th>\n",
       "      <th>text</th>\n",
       "      <th>embedding</th>\n",
       "      <th>similarity</th>\n",
       "    </tr>\n",
       "  </thead>\n",
       "  <tbody>\n",
       "    <tr>\n",
       "      <th>0</th>\n",
       "      <td>내일 차 타고 놀러가자</td>\n",
       "      <td>[0.015895135700702667, -0.011393633671104908, ...</td>\n",
       "      <td>0.896481</td>\n",
       "    </tr>\n",
       "    <tr>\n",
       "      <th>1</th>\n",
       "      <td>차 한잔 하면서 이야기 하시죠</td>\n",
       "      <td>[0.016478225588798523, -0.02388259395956993, 0...</td>\n",
       "      <td>0.875385</td>\n",
       "    </tr>\n",
       "    <tr>\n",
       "      <th>2</th>\n",
       "      <td>지금 오는 버스는 어디서 오는 버스야?</td>\n",
       "      <td>[0.008037855848670006, -0.011817412450909615, ...</td>\n",
       "      <td>0.848097</td>\n",
       "    </tr>\n",
       "  </tbody>\n",
       "</table>\n",
       "</div>"
      ],
      "text/plain": [
       "                    text                                          embedding  \\\n",
       "0           내일 차 타고 놀러가자  [0.015895135700702667, -0.011393633671104908, ...   \n",
       "1       차 한잔 하면서 이야기 하시죠  [0.016478225588798523, -0.02388259395956993, 0...   \n",
       "2  지금 오는 버스는 어디서 오는 버스야?  [0.008037855848670006, -0.011817412450909615, ...   \n",
       "\n",
       "   similarity  \n",
       "0    0.896481  \n",
       "1    0.875385  \n",
       "2    0.848097  "
      ]
     },
     "execution_count": 28,
     "metadata": {},
     "output_type": "execute_result"
    }
   ],
   "source": [
    "sim_result = return_answer_candidate(df, \"야 저기 차 온다\")\n",
    "sim_result"
   ]
  },
  {
   "cell_type": "code",
   "execution_count": 29,
   "metadata": {},
   "outputs": [
    {
     "data": {
      "text/html": [
       "<div>\n",
       "<style scoped>\n",
       "    .dataframe tbody tr th:only-of-type {\n",
       "        vertical-align: middle;\n",
       "    }\n",
       "\n",
       "    .dataframe tbody tr th {\n",
       "        vertical-align: top;\n",
       "    }\n",
       "\n",
       "    .dataframe thead th {\n",
       "        text-align: right;\n",
       "    }\n",
       "</style>\n",
       "<table border=\"1\" class=\"dataframe\">\n",
       "  <thead>\n",
       "    <tr style=\"text-align: right;\">\n",
       "      <th></th>\n",
       "      <th>text</th>\n",
       "      <th>embedding</th>\n",
       "      <th>similarity</th>\n",
       "    </tr>\n",
       "  </thead>\n",
       "  <tbody>\n",
       "    <tr>\n",
       "      <th>0</th>\n",
       "      <td>내일 차 타고 놀러가자</td>\n",
       "      <td>[0.015895135700702667, -0.011393633671104908, ...</td>\n",
       "      <td>0.822717</td>\n",
       "    </tr>\n",
       "    <tr>\n",
       "      <th>1</th>\n",
       "      <td>차 한잔 하면서 이야기 하시죠</td>\n",
       "      <td>[0.016478225588798523, -0.02388259395956993, 0...</td>\n",
       "      <td>0.812945</td>\n",
       "    </tr>\n",
       "    <tr>\n",
       "      <th>2</th>\n",
       "      <td>홍차 녹차 중에 어떤 차가 좋으세요?</td>\n",
       "      <td>[0.005494758952409029, -0.011675575748085976, ...</td>\n",
       "      <td>0.812300</td>\n",
       "    </tr>\n",
       "  </tbody>\n",
       "</table>\n",
       "</div>"
      ],
      "text/plain": [
       "                   text                                          embedding  \\\n",
       "0          내일 차 타고 놀러가자  [0.015895135700702667, -0.011393633671104908, ...   \n",
       "1      차 한잔 하면서 이야기 하시죠  [0.016478225588798523, -0.02388259395956993, 0...   \n",
       "2  홍차 녹차 중에 어떤 차가 좋으세요?  [0.005494758952409029, -0.011675575748085976, ...   \n",
       "\n",
       "   similarity  \n",
       "0    0.822717  \n",
       "1    0.812945  \n",
       "2    0.812300  "
      ]
     },
     "execution_count": 29,
     "metadata": {},
     "output_type": "execute_result"
    }
   ],
   "source": [
    "sim_result = return_answer_candidate(df, \"예쁜 카페가고 싶어\")\n",
    "sim_result"
   ]
  }
 ],
 "metadata": {
  "kernelspec": {
   "display_name": "dl-env",
   "language": "python",
   "name": "python3"
  },
  "language_info": {
   "codemirror_mode": {
    "name": "ipython",
    "version": 3
   },
   "file_extension": ".py",
   "mimetype": "text/x-python",
   "name": "python",
   "nbconvert_exporter": "python",
   "pygments_lexer": "ipython3",
   "version": "3.11.0"
  }
 },
 "nbformat": 4,
 "nbformat_minor": 2
}
