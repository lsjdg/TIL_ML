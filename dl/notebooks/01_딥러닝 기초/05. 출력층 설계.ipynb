{
 "cells": [
  {
   "cell_type": "markdown",
   "metadata": {
    "id": "BaYywHDJcqtZ"
   },
   "source": [
    "# 신경망의 사용처\n",
    "* 신경망은 분류, 회귀 모두 사용하다.\n",
    "  * 출력층의 **활성화 함수**에 따라서 목적(사용처)이 달라진다. ( 분류를 할지, 회귀를 할지 )\n",
    "  * 회귀에서는 항등 함수를 사용하면 회귀가 된다.\n",
    "* 소프트맥스나 시그모이드 함수를 활용하면 분류\n",
    "  * 시그모이드는 사용처가 정해져 있음\n",
    "    * 결괏값을 **확률**로 표현하고 싶을 때 사용한다.\n",
    "    * 예를 들면 89.12% 확률로 부정적인 리뷰 입니다.\n",
    "  * 소프트맥스 함수를 주로 분류용 활성화 함수로 사용한다."
   ]
  },
  {
   "cell_type": "markdown",
   "metadata": {
    "id": "UYRkWX8Oc0fk"
   },
   "source": [
    "# 소프트맥스 함수 구현하기\n",
    "$$\n",
    "y_k = \\frac{e^{z_k}}{\\sum_{i=0}^{n-1} e^{z_i}}\n",
    "$$\n",
    "\n",
    "* $k$ : $k$번째 출력 ( 클래스 번호 ) 0, 1, 2 ....\n",
    "* $z$ : 출력층에 있는 뉴런의 $WX+b$ 연산\n",
    "* $n$ : 전체 클래스의 개수"
   ]
  },
  {
   "cell_type": "code",
   "execution_count": 1,
   "metadata": {
    "executionInfo": {
     "elapsed": 435,
     "status": "ok",
     "timestamp": 1725846286874,
     "user": {
      "displayName": "소민호",
      "userId": "13788803923072454204"
     },
     "user_tz": -540
    },
    "id": "yoBhJ9rdc-Ae"
   },
   "outputs": [],
   "source": [
    "import numpy as np"
   ]
  },
  {
   "cell_type": "code",
   "execution_count": 2,
   "metadata": {
    "colab": {
     "base_uri": "https://localhost:8080/"
    },
    "executionInfo": {
     "elapsed": 382,
     "status": "ok",
     "timestamp": 1725846449731,
     "user": {
      "displayName": "소민호",
      "userId": "13788803923072454204"
     },
     "user_tz": -540
    },
    "id": "Vldd6SzsdExY",
    "outputId": "2151f9c3-2cab-4158-ad64-cd14d9604e39"
   },
   "outputs": [
    {
     "data": {
      "text/plain": [
       "array([0.01821127, 0.24519181, 0.73659691])"
      ]
     },
     "execution_count": 2,
     "metadata": {},
     "output_type": "execute_result"
    }
   ],
   "source": [
    "# 출력층의 WX+b를 z라고 가정\n",
    "z = np.array([0.3, 2.9, 4.0])\n",
    "\n",
    "# 분자 부분 계산\n",
    "exp_z = np.exp(z)\n",
    "\n",
    "# 분모 부분 계산\n",
    "sum_exp_z = np.sum(exp_z)\n",
    "\n",
    "pred_y = exp_z / sum_exp_z\n",
    "pred_y # 소프트맥스 결과"
   ]
  },
  {
   "cell_type": "code",
   "execution_count": 3,
   "metadata": {
    "colab": {
     "base_uri": "https://localhost:8080/"
    },
    "executionInfo": {
     "elapsed": 2,
     "status": "ok",
     "timestamp": 1725846534632,
     "user": {
      "displayName": "소민호",
      "userId": "13788803923072454204"
     },
     "user_tz": -540
    },
    "id": "8S7BZ4mRdurE",
    "outputId": "b5de7eb1-d189-4497-d9d3-eaf3ed707114"
   },
   "outputs": [
    {
     "data": {
      "text/plain": [
       "1.0"
      ]
     },
     "execution_count": 3,
     "metadata": {},
     "output_type": "execute_result"
    }
   ],
   "source": [
    "np.sum(pred_y)"
   ]
  },
  {
   "cell_type": "markdown",
   "metadata": {
    "id": "scPJmq2beDZE"
   },
   "source": [
    "# 소프트맥스 함수 튜닝\n",
    "* 소프트맥스 함수는 자연상수 $e$의 지수 함수\n",
    "* 입력값이 조금만 커져도 굉장히 큰 값을 연산을 한다.\n",
    "* 예시\n",
    "  * $e^{10}$만 되어도 20000이 넘는 수\n",
    "  * $e^{100}$은 0이 40개가 넘는 큰 숫자\n",
    "  * $e^{1000}$은 무한대를 의미하는 `inf`"
   ]
  },
  {
   "cell_type": "code",
   "execution_count": 4,
   "metadata": {
    "executionInfo": {
     "elapsed": 447,
     "status": "ok",
     "timestamp": 1725847394629,
     "user": {
      "displayName": "소민호",
      "userId": "13788803923072454204"
     },
     "user_tz": -540
    },
    "id": "_mDUQt0ehNh0"
   },
   "outputs": [],
   "source": [
    "def softmax(z):\n",
    "  exp_z = np.exp(z) # 분자\n",
    "  sum_exp_z = np.sum(exp_z) # 분모\n",
    "  pred_y = exp_z / sum_exp_z\n",
    "\n",
    "  return pred_y"
   ]
  },
  {
   "cell_type": "code",
   "execution_count": 5,
   "metadata": {
    "colab": {
     "base_uri": "https://localhost:8080/"
    },
    "executionInfo": {
     "elapsed": 417,
     "status": "ok",
     "timestamp": 1725847453058,
     "user": {
      "displayName": "소민호",
      "userId": "13788803923072454204"
     },
     "user_tz": -540
    },
    "id": "mc3g2-rKgnva",
    "outputId": "4c9aef4b-aa6d-4cf5-d5b3-d640743368e0"
   },
   "outputs": [
    {
     "name": "stderr",
     "output_type": "stream",
     "text": [
      "<ipython-input-4-1531da26a3c4>:2: RuntimeWarning: overflow encountered in exp\n",
      "  exp_z = np.exp(z) # 분자\n",
      "<ipython-input-4-1531da26a3c4>:4: RuntimeWarning: invalid value encountered in divide\n",
      "  pred_y = exp_z / sum_exp_z\n"
     ]
    },
    {
     "data": {
      "text/plain": [
       "array([nan, nan, nan])"
      ]
     },
     "execution_count": 5,
     "metadata": {},
     "output_type": "execute_result"
    }
   ],
   "source": [
    "big_z = [1000, 900, 1100]\n",
    "\n",
    "softmax(big_z)"
   ]
  },
  {
   "cell_type": "markdown",
   "metadata": {
    "id": "guZoDsCLhjnB"
   },
   "source": [
    "수학적인 기교로 튜닝이 가능하다.\n",
    "$$\n",
    "y_k = \\frac{exp(a_k)}{\\sum_{i=1}^n exp(a_i)} = \\frac{C\\,exp(a_k)}{C\\,\\sum_{i=1}^n exp(a_i)} = \\frac{exp(a_k+logC)}{\\sum_{i=1}^n exp(a_i+logC)} = \\frac{exp(a_k+C^\\prime)}{\\sum_{i=1}^n exp(a_i+C^\\prime)}\n",
    "$$"
   ]
  },
  {
   "cell_type": "code",
   "execution_count": 6,
   "metadata": {
    "colab": {
     "base_uri": "https://localhost:8080/"
    },
    "executionInfo": {
     "elapsed": 429,
     "status": "ok",
     "timestamp": 1725847668589,
     "user": {
      "displayName": "소민호",
      "userId": "13788803923072454204"
     },
     "user_tz": -540
    },
    "id": "_A4wVI4Jh59s",
    "outputId": "5a30c67b-59c0-4e76-9973-cc3e44d74ece"
   },
   "outputs": [
    {
     "data": {
      "text/plain": [
       "array([-100, -200,    0])"
      ]
     },
     "execution_count": 6,
     "metadata": {},
     "output_type": "execute_result"
    }
   ],
   "source": [
    "# C^prime 이라는 상수는 보통 제일 큰 값에 -1을 곱한 값\n",
    "c = np.max(big_z)\n",
    "big_z + (-c) # -c가 c^prime"
   ]
  },
  {
   "cell_type": "code",
   "execution_count": 51,
   "metadata": {
    "colab": {
     "base_uri": "https://localhost:8080/"
    },
    "executionInfo": {
     "elapsed": 552,
     "status": "ok",
     "timestamp": 1725858894259,
     "user": {
      "displayName": "소민호",
      "userId": "13788803923072454204"
     },
     "user_tz": -540
    },
    "id": "NG6GRW7fiYNw",
    "outputId": "c682fe07-fb13-448f-e9e9-680d7c7bf3b2"
   },
   "outputs": [
    {
     "data": {
      "text/plain": [
       "array([3.72007598e-44, 1.38389653e-87, 1.00000000e+00])"
      ]
     },
     "execution_count": 51,
     "metadata": {},
     "output_type": "execute_result"
    }
   ],
   "source": [
    "# 튜닝된 소프트맥스\n",
    "def softmax(z):\n",
    "  c = np.max(z)\n",
    "\n",
    "  exp_z = np.exp(z - c)\n",
    "  sum_exp_z = np.sum(exp_z)\n",
    "\n",
    "  pred_y = exp_z / sum_exp_z\n",
    "  return pred_y\n",
    "\n",
    "softmax(big_z)"
   ]
  },
  {
   "cell_type": "markdown",
   "metadata": {
    "id": "Heu-JIqXioQM"
   },
   "source": [
    "# 텐서플로우 MNIST 데이터 불러오기 & Shape 다루기"
   ]
  },
  {
   "cell_type": "code",
   "execution_count": 52,
   "metadata": {
    "executionInfo": {
     "elapsed": 1,
     "status": "ok",
     "timestamp": 1725858894801,
     "user": {
      "displayName": "소민호",
      "userId": "13788803923072454204"
     },
     "user_tz": -540
    },
    "id": "YPPqiEWvjF8X"
   },
   "outputs": [],
   "source": [
    "import tensorflow as tf\n",
    "import matplotlib.pyplot as plt"
   ]
  },
  {
   "cell_type": "code",
   "execution_count": 53,
   "metadata": {
    "executionInfo": {
     "elapsed": 3,
     "status": "ok",
     "timestamp": 1725858895363,
     "user": {
      "displayName": "소민호",
      "userId": "13788803923072454204"
     },
     "user_tz": -540
    },
    "id": "bdZlQ1l7jNCT"
   },
   "outputs": [],
   "source": [
    "# mnist 데이터 세트 로딩\n",
    "from tensorflow.keras import datasets\n",
    "\n",
    "mnist = datasets.mnist"
   ]
  },
  {
   "cell_type": "code",
   "execution_count": 54,
   "metadata": {
    "executionInfo": {
     "elapsed": 3,
     "status": "ok",
     "timestamp": 1725858895363,
     "user": {
      "displayName": "소민호",
      "userId": "13788803923072454204"
     },
     "user_tz": -540
    },
    "id": "hSsbJQJcjs9p"
   },
   "outputs": [],
   "source": [
    "(X_train, y_train), (X_test, y_test) = mnist.load_data()"
   ]
  },
  {
   "cell_type": "code",
   "execution_count": 55,
   "metadata": {
    "colab": {
     "base_uri": "https://localhost:8080/"
    },
    "executionInfo": {
     "elapsed": 3,
     "status": "ok",
     "timestamp": 1725858895363,
     "user": {
      "displayName": "소민호",
      "userId": "13788803923072454204"
     },
     "user_tz": -540
    },
    "id": "GaGalNV_jw-n",
    "outputId": "650daaeb-622d-4e03-c6a1-8bbb7cefe068"
   },
   "outputs": [
    {
     "data": {
      "text/plain": [
       "(60000, 28, 28)"
      ]
     },
     "execution_count": 55,
     "metadata": {},
     "output_type": "execute_result"
    }
   ],
   "source": [
    "# shape 확인\n",
    "X_train.shape"
   ]
  },
  {
   "cell_type": "code",
   "execution_count": 56,
   "metadata": {
    "colab": {
     "base_uri": "https://localhost:8080/"
    },
    "executionInfo": {
     "elapsed": 2,
     "status": "ok",
     "timestamp": 1725858895363,
     "user": {
      "displayName": "소민호",
      "userId": "13788803923072454204"
     },
     "user_tz": -540
    },
    "id": "y7OKeVCJkAkv",
    "outputId": "d1fc697c-ec6f-4789-8cd5-0cea97b1518f"
   },
   "outputs": [
    {
     "data": {
      "text/plain": [
       "(28, 28)"
      ]
     },
     "execution_count": 56,
     "metadata": {},
     "output_type": "execute_result"
    }
   ],
   "source": [
    "test_image = X_train[0]\n",
    "test_image.shape"
   ]
  },
  {
   "cell_type": "code",
   "execution_count": 57,
   "metadata": {
    "colab": {
     "base_uri": "https://localhost:8080/",
     "height": 452
    },
    "executionInfo": {
     "elapsed": 593,
     "status": "ok",
     "timestamp": 1725858895954,
     "user": {
      "displayName": "소민호",
      "userId": "13788803923072454204"
     },
     "user_tz": -540
    },
    "id": "KLJtN5HzkfzC",
    "outputId": "7135802f-5220-4236-a512-3a1bde9f658e"
   },
   "outputs": [
    {
     "data": {
      "image/png": "[encoded data removed]",
      "text/plain": [
       "<Figure size 640x480 with 1 Axes>"
      ]
     },
     "metadata": {},
     "output_type": "display_data"
    }
   ],
   "source": [
    "plt.imshow(test_image, 'gray') # 채널에 대한 정보가 없으면 흑백\n",
    "plt.title(y_train[1])\n",
    "plt.show()"
   ]
  },
  {
   "cell_type": "markdown",
   "metadata": {
    "id": "Op9uKM-vkm6c"
   },
   "source": [
    "데이터를 신경망에 넣을 준비 - 훈련, 테스트 모두 동일한 데이터의 feature의 개수를 가져야 한다.\n",
    "* 신경망은 평평하게 펴진 1차원 배열을 입력으로 받고 있다.\n",
    "* 즉 지금 우리가 사용할 신경망에 집어 넣을 데이터 1개의 형상은 1차원 배열 형태로 들어가야 한다.\n",
    "* 평평하게 펴진 데이터를 기반으로 예측을 수행하는 레이어\n",
    "  * 신경망 - Dense(Linear) Layer\n",
    "  * 기하학 - Affine Layer\n",
    "  * 통합적 - F.C Layer ( Fully Connected Layer ) - 전결합( 완전 연결 계층 )\n",
    "------\n",
    "신경망에 이미지 데이터를 입력할 수 있는 경우 확인하기\n",
    "* 장수에 대한 정보 없이 가로 세로 픽셀에 대한 정보만 있는 상황 : `(28, 28)` -> X\n",
    "* 장수에 대한 정보 없이 평탄화 시킨 상황 : `(784, )` -> O(일단은 허용. Tensorflow나 Pytorch 같은 머신러닝 라이브러리에서는 허용 X)\n",
    "-----\n",
    "`60000`장의 이미지 데이터가 `(28, 28)`인 경우. 즉 `(60000, 28, 28)`\n",
    "* 장수 데이터가 있는 상태에서 가로 세로 픽셀에 대한 정보만 있는 상황 : `(60000, 28, 28)` -> X\n",
    "* 장수 데이터가 있는 상태에서 평탄화 시킨 상황 : `(60000, 784)` -> O\n",
    "------\n",
    "입력되는 데이터의 차원이 `(N, M)`이면 신경망 F.C 레이어에 집어 넣을 수 있다.\n",
    "* `N` : BATCH_SIZE( 데이터의 개수 )\n",
    "* `M` : 데이터 스칼라의 개수\n",
    "  * 배치를 이야기 하지 않는 경우 : `(M, )`\n",
    "  * 배치를 이야기 하면 : `(N, M)`\n",
    "  \n",
    "**참고로 CNN은 Fully Connected Layer가 아니고, 2차원 배치 데이터를 사용하지 않기 때문에 (N, H, W, C)가 됩니다.**"
   ]
  },
  {
   "cell_type": "code",
   "execution_count": 58,
   "metadata": {
    "colab": {
     "base_uri": "https://localhost:8080/"
    },
    "executionInfo": {
     "elapsed": 4,
     "status": "ok",
     "timestamp": 1725858895954,
     "user": {
      "displayName": "소민호",
      "userId": "13788803923072454204"
     },
     "user_tz": -540
    },
    "id": "BinNOPqglXGv",
    "outputId": "29f5d4d7-3a2c-4f50-f24a-1208a5d9316c"
   },
   "outputs": [
    {
     "data": {
      "text/plain": [
       "(784,)"
      ]
     },
     "execution_count": 58,
     "metadata": {},
     "output_type": "execute_result"
    }
   ],
   "source": [
    "test_image.flatten().shape"
   ]
  },
  {
   "cell_type": "code",
   "execution_count": 59,
   "metadata": {
    "colab": {
     "base_uri": "https://localhost:8080/"
    },
    "executionInfo": {
     "elapsed": 4,
     "status": "ok",
     "timestamp": 1725858895954,
     "user": {
      "displayName": "소민호",
      "userId": "13788803923072454204"
     },
     "user_tz": -540
    },
    "id": "mtGl2Z_pq4RA",
    "outputId": "05b180f0-8bce-4c06-e51e-e314bc116514"
   },
   "outputs": [
    {
     "data": {
      "text/plain": [
       "(784,)"
      ]
     },
     "execution_count": 59,
     "metadata": {},
     "output_type": "execute_result"
    }
   ],
   "source": [
    "test_image.reshape(-1).shape"
   ]
  },
  {
   "cell_type": "code",
   "execution_count": 60,
   "metadata": {
    "colab": {
     "base_uri": "https://localhost:8080/"
    },
    "executionInfo": {
     "elapsed": 3,
     "status": "ok",
     "timestamp": 1725858895954,
     "user": {
      "displayName": "소민호",
      "userId": "13788803923072454204"
     },
     "user_tz": -540
    },
    "id": "rS8-GMx0rAwh",
    "outputId": "618a93c8-c5aa-4268-8535-e61e14f34076"
   },
   "outputs": [
    {
     "data": {
      "text/plain": [
       "(1, 784)"
      ]
     },
     "execution_count": 60,
     "metadata": {},
     "output_type": "execute_result"
    }
   ],
   "source": [
    "test_image.reshape(1, -1).shape"
   ]
  },
  {
   "cell_type": "markdown",
   "metadata": {
    "id": "DxyoqCVOrYnY"
   },
   "source": [
    "# Fully Connected Layer 구현\n"
   ]
  },
  {
   "cell_type": "code",
   "execution_count": 61,
   "metadata": {
    "executionInfo": {
     "elapsed": 3,
     "status": "ok",
     "timestamp": 1725858895954,
     "user": {
      "displayName": "소민호",
      "userId": "13788803923072454204"
     },
     "user_tz": -540
    },
    "id": "JDsNsWQeAIhI"
   },
   "outputs": [],
   "source": [
    "def sigmoid(x):\n",
    "  return 1 / (1 + np.exp(-x))\n",
    "\n",
    "# 테스트 데이터만 가져오기\n",
    "def get_test_data():\n",
    "  _, (X_test, t_test) = mnist.load_data()\n",
    "\n",
    "  # YOUR CODE HERE\n",
    "  # 단순히 X_test로 리턴하는게 아닌 (N, M) 형태로 리턴하기\n",
    "\n",
    "  IMAGE_COUNT = X_test.shape[0] # shape[0] : 이미지개수 (X_test.shape -> (10000,28,28))\n",
    "\n",
    "  X_test_reshaped = X_test.reshape(IMAGE_COUNT, -1)\n",
    "\n",
    "  return X_test_reshaped, t_test\n",
    "\n",
    "# 이미 학습이 완료된 신경망 데이터 가져오기(sample_weight.pkl)\n",
    "def init_network():\n",
    "  import pickle\n",
    "  with open(\"./sample_weight.pkl\", \"rb\") as f:\n",
    "    network = pickle.load(f)\n",
    "\n",
    "  return network"
   ]
  },
  {
   "cell_type": "code",
   "execution_count": 62,
   "metadata": {
    "colab": {
     "base_uri": "https://localhost:8080/"
    },
    "executionInfo": {
     "elapsed": 3,
     "status": "ok",
     "timestamp": 1725858895954,
     "user": {
      "displayName": "소민호",
      "userId": "13788803923072454204"
     },
     "user_tz": -540
    },
    "id": "ssCJlZ05BjkB",
    "outputId": "42d491ff-0f57-4997-aae9-b405d8d77584"
   },
   "outputs": [
    {
     "data": {
      "text/plain": [
       "(100, 10)"
      ]
     },
     "execution_count": 62,
     "metadata": {},
     "output_type": "execute_result"
    }
   ],
   "source": [
    "network = init_network()\n",
    "network[\"W3\"].shape"
   ]
  },
  {
   "cell_type": "code",
   "execution_count": 63,
   "metadata": {
    "executionInfo": {
     "elapsed": 2,
     "status": "ok",
     "timestamp": 1725858896489,
     "user": {
      "displayName": "소민호",
      "userId": "13788803923072454204"
     },
     "user_tz": -540
    },
    "id": "ECa6UGQRBHNp"
   },
   "outputs": [],
   "source": [
    "def predict(network, x):\n",
    "  W1, W2, W3 = network[\"W1\"], network[\"W2\"], network[\"W3\"]\n",
    "  b1, b2, b3 = network[\"b1\"], network[\"b2\"], network[\"b3\"]\n",
    "\n",
    "  # x : 원래 28 x 28 형식의 이미지. 이것을 평탄화 시켜 784차원 벡터로 만듦\n",
    "  # W1 : 뉴런의 개수가 몇 개인지는 몰라도\n",
    "  #      입력되는 데이터의 개수인 784개의 입력을 각각 받는다는 것은 알 수 있다.\n",
    "\n",
    "  #  1층 구현\n",
    "  z1 = x @ W1 + b1 # 선형 연산\n",
    "  a1 = sigmoid(z1) # 활성화 함수 적용을 통한 비선형성 부여\n",
    "\n",
    "  # 2층 구현\n",
    "  z2 = a1 @ W2 + b2\n",
    "  a2 = sigmoid(z2)\n",
    "\n",
    "  # 출력층 ( 3층 )\n",
    "  z3 =a2 @ W3 + b3\n",
    "  pred = softmax(z3)\n",
    "\n",
    "  return pred"
   ]
  },
  {
   "cell_type": "markdown",
   "metadata": {
    "id": "ReZ_RqUKKAyA"
   },
   "source": [
    "# 추론 과정\n",
    "입력 데이터 -> 은닉층 -> 출력층\n",
    "- $(N, 784) -> 은닉층 -> (?, 10)$\n",
    "- 결국, 레이어를 모두 통과하면 (N, 10)\n"
   ]
  },
  {
   "cell_type": "code",
   "execution_count": 64,
   "metadata": {
    "executionInfo": {
     "elapsed": 2,
     "status": "ok",
     "timestamp": 1725858896489,
     "user": {
      "displayName": "소민호",
      "userId": "13788803923072454204"
     },
     "user_tz": -540
    },
    "id": "fcHdvOIwKIr0"
   },
   "outputs": [],
   "source": [
    "X, y = get_test_data()\n",
    "\n",
    "# 한장의 이미지만 가져와서 테스트\n",
    "test_image, test_target = X[0], y[0]"
   ]
  },
  {
   "cell_type": "code",
   "execution_count": 69,
   "metadata": {
    "colab": {
     "base_uri": "https://localhost:8080/"
    },
    "executionInfo": {
     "elapsed": 474,
     "status": "ok",
     "timestamp": 1725859024762,
     "user": {
      "displayName": "소민호",
      "userId": "13788803923072454204"
     },
     "user_tz": -540
    },
    "id": "95GOBml2LeeV",
    "outputId": "b8acd227-8f7d-45a4-bf6c-c7f23bd193c2"
   },
   "outputs": [
    {
     "name": "stderr",
     "output_type": "stream",
     "text": [
      "<ipython-input-61-0ba8dc3a6f02>:2: RuntimeWarning: overflow encountered in exp\n",
      "  return 1 / (1 + np.exp(-x))\n"
     ]
    }
   ],
   "source": [
    "net = init_network()\n",
    "\n",
    "test_result = predict(net, test_image)"
   ]
  },
  {
   "cell_type": "code",
   "execution_count": 70,
   "metadata": {
    "colab": {
     "base_uri": "https://localhost:8080/"
    },
    "executionInfo": {
     "elapsed": 2,
     "status": "ok",
     "timestamp": 1725859025197,
     "user": {
      "displayName": "소민호",
      "userId": "13788803923072454204"
     },
     "user_tz": -540
    },
    "id": "qTcwONs8Lnhq",
    "outputId": "867c2561-71e8-481f-a0ed-6f5fef332c7d"
   },
   "outputs": [
    {
     "data": {
      "text/plain": [
       "array([4.2879005e-06, 4.5729317e-07, 1.8486280e-04, 8.3605024e-05,\n",
       "       1.5084674e-07, 6.3182205e-07, 4.5782045e-10, 9.9919468e-01,\n",
       "       3.8066935e-07, 5.3083024e-04], dtype=float32)"
      ]
     },
     "execution_count": 70,
     "metadata": {},
     "output_type": "execute_result"
    }
   ],
   "source": [
    "# test_result는 한장의 이미지가 모델을 통과한 결과\n",
    "#  이 모델의 결과는 softmax의 결과물임!\n",
    "test_result"
   ]
  },
  {
   "cell_type": "code",
   "execution_count": 71,
   "metadata": {
    "colab": {
     "base_uri": "https://localhost:8080/"
    },
    "executionInfo": {
     "elapsed": 2,
     "status": "ok",
     "timestamp": 1725859025198,
     "user": {
      "displayName": "소민호",
      "userId": "13788803923072454204"
     },
     "user_tz": -540
    },
    "id": "IKSsZ-NoLrrc",
    "outputId": "92a7c217-0b2c-4747-822a-4e9a434f9fbb"
   },
   "outputs": [
    {
     "data": {
      "text/plain": [
       "0.9999999"
      ]
     },
     "execution_count": 71,
     "metadata": {},
     "output_type": "execute_result"
    }
   ],
   "source": [
    "test_result.sum()"
   ]
  },
  {
   "cell_type": "code",
   "execution_count": 72,
   "metadata": {
    "colab": {
     "base_uri": "https://localhost:8080/"
    },
    "executionInfo": {
     "elapsed": 417,
     "status": "ok",
     "timestamp": 1725859031998,
     "user": {
      "displayName": "소민호",
      "userId": "13788803923072454204"
     },
     "user_tz": -540
    },
    "id": "2qRmH4ZIMZ7C",
    "outputId": "e928311b-f004-4ff5-925a-239fe366e8d2"
   },
   "outputs": [
    {
     "data": {
      "text/plain": [
       "7"
      ]
     },
     "execution_count": 72,
     "metadata": {},
     "output_type": "execute_result"
    }
   ],
   "source": [
    "# 가장 확률 값이 높은 인덱스(클래스) 구해내기\n",
    "np.argmax(test_result)"
   ]
  },
  {
   "cell_type": "code",
   "execution_count": 75,
   "metadata": {
    "colab": {
     "base_uri": "https://localhost:8080/",
     "height": 447
    },
    "executionInfo": {
     "elapsed": 769,
     "status": "ok",
     "timestamp": 1725859094053,
     "user": {
      "displayName": "소민호",
      "userId": "13788803923072454204"
     },
     "user_tz": -540
    },
    "id": "83rwjlFQNgNJ",
    "outputId": "c05b549f-e3b5-4f22-a083-05378f64eb8b"
   },
   "outputs": [
    {
     "data": {
      "text/plain": [
       "<matplotlib.image.AxesImage at 0x7f6e9cb94490>"
      ]
     },
     "execution_count": 75,
     "metadata": {},
     "output_type": "execute_result"
    },
    {
     "data": {
      "image/png": "[encoded data removed]",
      "text/plain": [
       "<Figure size 640x480 with 1 Axes>"
      ]
     },
     "metadata": {},
     "output_type": "display_data"
    }
   ],
   "source": [
    "plt.imshow(test_image.reshape(28, 28), 'gray')"
   ]
  },
  {
   "cell_type": "markdown",
   "metadata": {
    "id": "Y_jobPAxN1n-"
   },
   "source": [
    "# 모델의 예측 정확도 확인\n",
    "- 한 장씩 예측해서 정확도 확인"
   ]
  },
  {
   "cell_type": "code",
   "execution_count": 77,
   "metadata": {
    "colab": {
     "base_uri": "https://localhost:8080/"
    },
    "executionInfo": {
     "elapsed": 2,
     "status": "ok",
     "timestamp": 1725859314093,
     "user": {
      "displayName": "소민호",
      "userId": "13788803923072454204"
     },
     "user_tz": -540
    },
    "id": "YkEG61jGOxvA",
    "outputId": "90d47fd2-f414-4d07-ab3f-8dd8dcffa8a7"
   },
   "outputs": [
    {
     "data": {
      "text/plain": [
       "array([7, 2, 1, ..., 4, 5, 6], dtype=uint8)"
      ]
     },
     "execution_count": 77,
     "metadata": {},
     "output_type": "execute_result"
    }
   ],
   "source": [
    "y"
   ]
  },
  {
   "cell_type": "code",
   "execution_count": 78,
   "metadata": {
    "colab": {
     "base_uri": "https://localhost:8080/"
    },
    "executionInfo": {
     "elapsed": 2196,
     "status": "ok",
     "timestamp": 1725859519308,
     "user": {
      "displayName": "소민호",
      "userId": "13788803923072454204"
     },
     "user_tz": -540
    },
    "id": "mBw8c6Z4OM5K",
    "outputId": "3a476c7d-b8b6-49e3-fe09-3fbac2906478"
   },
   "outputs": [
    {
     "name": "stderr",
     "output_type": "stream",
     "text": [
      "<ipython-input-61-0ba8dc3a6f02>:2: RuntimeWarning: overflow encountered in exp\n",
      "  return 1 / (1 + np.exp(-x))\n"
     ]
    },
    {
     "data": {
      "text/plain": [
       "0.9207"
      ]
     },
     "execution_count": 78,
     "metadata": {},
     "output_type": "execute_result"
    }
   ],
   "source": [
    "X, y = get_test_data()\n",
    "\n",
    "net = init_network()\n",
    "acc_count = 0 # 정답을 맞춘 개수를 저장(예를 들어 1만장 중에 500장 맞았으면 500)\n",
    "\n",
    "# 이미지를 한 장씩 꺼내서 테스트\n",
    "for i in range(len(X)):\n",
    "  image = X[i]\n",
    "\n",
    "  pred = predict(net, image) # 이미지 한 장 마다의 소프트맥스 결과물 (10, )\n",
    "  pred = np.argmax(pred) # 확률이 가장 높은 원소의 인덱스 ( 예측 클래스 )\n",
    "\n",
    "  acc_count += (pred == y[i]) # 맞췄으면 acc_count에 1 더하기\n",
    "\n",
    "float(acc_count / len(X)) # 맞춘 데이터 개수 / 전체 데이터 개수"
   ]
  },
  {
   "cell_type": "markdown",
   "metadata": {
    "id": "ks7as5B0PlCo"
   },
   "source": [
    "위 코드의 단점\n",
    "  * 10,000장의 이미지를 한장식 예측을 하고 있다.\n",
    "  * 시간이 오래걸린다는 이야기이다.\n",
    "\n",
    "어떻게 해결할 수 있을까?\n",
    "  * **BATCH**를 사용해서 한장씩이 아닌 데이터의 묶음으로 예측을 하게 하겠다.\n",
    "  * 배치 : 데이터의 뭉터기"
   ]
  },
  {
   "cell_type": "code",
   "execution_count": 80,
   "metadata": {
    "colab": {
     "base_uri": "https://localhost:8080/"
    },
    "executionInfo": {
     "elapsed": 1517,
     "status": "ok",
     "timestamp": 1725860761462,
     "user": {
      "displayName": "소민호",
      "userId": "13788803923072454204"
     },
     "user_tz": -540
    },
    "id": "GRhCxcWRPwro",
    "outputId": "6fb3c9d2-a3b5-4d53-c6b8-a5b903af9939"
   },
   "outputs": [
    {
     "name": "stderr",
     "output_type": "stream",
     "text": [
      "<ipython-input-61-0ba8dc3a6f02>:2: RuntimeWarning: overflow encountered in exp\n",
      "  return 1 / (1 + np.exp(-x))\n"
     ]
    },
    {
     "data": {
      "text/plain": [
       "0.9207"
      ]
     },
     "execution_count": 80,
     "metadata": {},
     "output_type": "execute_result"
    }
   ],
   "source": [
    "# 배치를 이용한 예측\n",
    "X, y = get_test_data()\n",
    "\n",
    "net = init_network()\n",
    "\n",
    "# 배치란? 데이터의 묶음. 정확한 명칭으로는 미니 배치\n",
    "#   원래 데이터 엔지니어링 관점에서의 배치는 가지고 있는 모든 데이터를 의미\n",
    "#   딥러닝 같은 머신러닝 모델링에서의 배치는 전체 데이터를 배치 사이즈 단위로 쪼갠 미니 배치를 그냥 배치라고 함\n",
    "\n",
    "batch_size = 100\n",
    "acc_count = 0\n",
    "\n",
    "for i in range(0, len(X), batch_size):\n",
    "\n",
    "  X_batch = X[i : i + batch_size] # X[0 : 100] -> X[100 : 200] -> X[200 : 300]\n",
    "\n",
    "  pred_batch = predict(net, X_batch)\n",
    "  pred_batch = np.argmax(pred_batch, axis=1) # (100, 10) -> (100, 1)\n",
    "\n",
    "                    # p->(100, 1) == y-> (100, 1)\n",
    "  acc_count += np.sum( pred_batch == y[i : i + batch_size])\n",
    "float(acc_count / len(X))"
   ]
  },
  {
   "cell_type": "code",
   "execution_count": null,
   "metadata": {
    "id": "-KeomU1MTi5b"
   },
   "outputs": [],
   "source": []
  }
 ],
 "metadata": {
  "colab": {
   "authorship_tag": "ABX9TyNRKFIHxQ9Hfr6AbMRLY9pl",
   "provenance": []
  },
  "kernelspec": {
   "display_name": "Python 3 (ipykernel)",
   "language": "python",
   "name": "python3"
  },
  "language_info": {
   "codemirror_mode": {
    "name": "ipython",
    "version": 3
   },
   "file_extension": ".py",
   "mimetype": "text/x-python",
   "name": "python",
   "nbconvert_exporter": "python",
   "pygments_lexer": "ipython3",
   "version": "3.8.18"
  }
 },
 "nbformat": 4,
 "nbformat_minor": 4
}
