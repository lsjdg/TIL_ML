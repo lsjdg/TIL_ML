{
 "cells": [
  {
   "cell_type": "markdown",
   "metadata": {},
   "source": [
    "# 곱셈 계층 구현\n",
    "* `forward`(순전파) : `x * y`\n",
    "* `backward`(역전파) : `dx = 미분값 * y`, `dy = 미분값 * x`\n",
    "* 비고 : forward시에 입력되었던 `x, y`를 저장하고 있어야 한다. 그래야 Backward 할 때 반대방향으로 곱해줄 수 있다."
   ]
  },
  {
   "cell_type": "code",
   "execution_count": 5,
   "metadata": {},
   "outputs": [],
   "source": [
    "class MulLayer:\n",
    "\n",
    "    # 레이어에서 사용할 변수를 생성자에서 준비\n",
    "    def __init__(self):\n",
    "        self.x = None\n",
    "        self.y = None\n",
    "\n",
    "    # 곱셈 레이어에서의 순전파 : x 와 y 를 곱하고 각 값을 저장\n",
    "    def forward(self, x, y):\n",
    "        self.x = x\n",
    "        self.y = y\n",
    "\n",
    "        # 순전파에서 진행되는 연산\n",
    "        out = x * y\n",
    "        return out\n",
    "\n",
    "    # 곱셈 레이어의 역전파 : 들어온 미분 값을 x에는 y를 곱하고, y에는 x를 곱함\n",
    "    def backward(self, dout):\n",
    "        # dout : 다음 층에서 흘러 들어오는 미분값\n",
    "        dx = dout * self.y\n",
    "        dy = dout * self.x\n",
    "\n",
    "        return dx, dy"
   ]
  },
  {
   "cell_type": "code",
   "execution_count": 6,
   "metadata": {},
   "outputs": [],
   "source": [
    "# 곱셈 레이어 테스트\n",
    "apple_per_cost = 100\n",
    "apple_cnt = 2\n",
    "tax = 1.1\n",
    "\n",
    "mul_apple_layer = MulLayer()  # 사과의 총 가격을 구하는 레이어\n",
    "mul_tax_layer = MulLayer()  # 소비세까지 적용시킨 가격을 구하는 레이어"
   ]
  },
  {
   "cell_type": "code",
   "execution_count": 8,
   "metadata": {},
   "outputs": [
    {
     "name": "stdout",
     "output_type": "stream",
     "text": [
      "사과의 최종 가격 : 220\n"
     ]
    }
   ],
   "source": [
    "# 순전파 수행\n",
    "#  - 순서를 반드시 잘 지켜야 한다.\n",
    "#  계획한 순서 그대로 레이어를 배치해서 입력값을 흘려보내야 한다.\n",
    "#  순전파 수행 시에 A - B - C 순으로 계산을 했다면,\n",
    "#  역전파 수행 시에는 C - B- A 순으로 미분값을 전달해야 한다.\n",
    "\n",
    "apple_price = mul_apple_layer.forward(apple_per_cost, apple_cnt)\n",
    "total_price = mul_tax_layer.forward(apple_price, tax)\n",
    "\n",
    "print(\"사과의 최종 가격 : {:.0f}\".format(total_price))"
   ]
  },
  {
   "cell_type": "code",
   "execution_count": 12,
   "metadata": {},
   "outputs": [
    {
     "name": "stdout",
     "output_type": "stream",
     "text": [
      "사과 전체 가격에 대한 미분값 d돈통/d사과전체가격 : 1.1\n",
      "사과 1개 가격에 대한 미분값 d돈통/d사과1개가격 : 2.2\n",
      "사과 개수에 대한 미분값 d돈통/d사과개수 : 110.00000000000001\n",
      "소비세에 대한 미분값 d돈통/d소비세 : 200\n"
     ]
    }
   ],
   "source": [
    "# 역전파\n",
    "# 가장 마지막 값에 대한 미분값 생각하기\n",
    "# d돈통 / d포스기 = 1\n",
    "\n",
    "dprice = 1\n",
    "\n",
    "dapple_price, dtax = mul_tax_layer.backward(dprice)\n",
    "dapple_per_cost, dapple_cnt = mul_apple_layer.backward(dapple_price)\n",
    "\n",
    "print(\"사과 전체 가격에 대한 미분값 d돈통/d사과전체가격 : {}\".format(dapple_price))\n",
    "print(\"사과 1개 가격에 대한 미분값 d돈통/d사과1개가격 : {}\".format(dapple_per_cost))\n",
    "print(\"사과 개수에 대한 미분값 d돈통/d사과개수 : {}\".format(dapple_cnt))\n",
    "print(\"소비세에 대한 미분값 d돈통/d소비세 : {}\".format(dtax))"
   ]
  },
  {
   "cell_type": "markdown",
   "metadata": {},
   "source": [
    "# 덧셈 레이어 구현\n",
    "* `forward` : `x + y`\n",
    "* `backward` : 뒷층에서 보낸 미분값에 *1만 하면 된다. `dx = dout * 1`, `dy = dout * 1`\n",
    "  * `dx = dout * dforward/dx`\n",
    "  * `dy = dout * dforward/dy`\n",
    "* 비고 : 곱셈 계층과는 다르게 `forward`시에 입력된 값을 가지고 있지 않아도 된다. 역전파 시에는 미분값만 리턴하면 되니까"
   ]
  },
  {
   "cell_type": "code",
   "execution_count": 13,
   "metadata": {},
   "outputs": [],
   "source": [
    "class AddLayer:\n",
    "    def __init__(self):\n",
    "        pass\n",
    "\n",
    "    def forward(self, x, y):\n",
    "        out = x + y\n",
    "        return out\n",
    "\n",
    "    def backward(self, dout):\n",
    "        dx = dout * 1\n",
    "        dy = dout * 1\n",
    "\n",
    "        return dx, dy"
   ]
  },
  {
   "cell_type": "code",
   "execution_count": 16,
   "metadata": {},
   "outputs": [],
   "source": [
    "apple_per_cost = 100\n",
    "apple_cnt = 2\n",
    "\n",
    "orange_per_cost = 150\n",
    "orange_cnt = 3\n",
    "\n",
    "tax = 1.1"
   ]
  },
  {
   "cell_type": "code",
   "execution_count": 14,
   "metadata": {},
   "outputs": [],
   "source": [
    "# 1 계층 : 사과/오렌지에 대한 국소적 계산\n",
    "\n",
    "apple_layer = MulLayer()\n",
    "orange_layer = MulLayer()\n",
    "\n",
    "# 2 계층 : 과일의 전체 가격\n",
    "fruit_layer = AddLayer()\n",
    "\n",
    "# 3 계층 : 세금을 적용\n",
    "tax_layer = MulLayer()"
   ]
  },
  {
   "cell_type": "code",
   "execution_count": 17,
   "metadata": {},
   "outputs": [],
   "source": [
    "# 순전파\n",
    "\n",
    "# 1 계층\n",
    "apple_price = apple_layer.forward(apple_per_cost, apple_cnt)\n",
    "orange_price = orange_layer.forward(orange_per_cost, orange_cnt)\n",
    "\n",
    "# 2 계층\n",
    "fruit_price = fruit_layer.forward(apple_price, orange_price)\n",
    "\n",
    "# 3 계층\n",
    "total_price = tax_layer.forward(fruit_price, tax)"
   ]
  },
  {
   "cell_type": "code",
   "execution_count": 19,
   "metadata": {},
   "outputs": [
    {
     "data": {
      "text/plain": [
       "715.0000000000001"
      ]
     },
     "execution_count": 19,
     "metadata": {},
     "output_type": "execute_result"
    }
   ],
   "source": [
    "total_price"
   ]
  },
  {
   "cell_type": "code",
   "execution_count": 20,
   "metadata": {},
   "outputs": [],
   "source": [
    "# 역전파\n",
    "d_total_price = 1\n",
    "\n",
    "# 3 계층\n",
    "d_fruit_price, d_tax = tax_layer.backward(d_total_price)\n",
    "\n",
    "# 2 계층\n",
    "d_apple_price, d_orange_price = fruit_layer.backward(d_fruit_price)\n",
    "\n",
    "# 1 계층\n",
    "d_apple_per_cost, d_apple_cnt = apple_layer.backward(d_apple_price)\n",
    "d_orange_per_cost, d_orange_cnt = orange_layer.backward(d_orange_price)"
   ]
  },
  {
   "cell_type": "code",
   "execution_count": 21,
   "metadata": {},
   "outputs": [
    {
     "name": "stdout",
     "output_type": "stream",
     "text": [
      "소비세 미분 : 650\n",
      "사과 전체 가격 미분 : 1.1\n",
      "사과 개수 미분 : 110.00000000000001\n",
      "사과 가격 미분 : 2.2\n",
      "오렌지 전체 가격 미분 : 1.1\n",
      "오렌지 개수 미분 : 165.0\n",
      "오렌지 가격 미분 : 3.3000000000000003\n"
     ]
    }
   ],
   "source": [
    "print(\"소비세 미분 : {}\".format(d_tax))\n",
    "\n",
    "print(\"사과 전체 가격 미분 : {}\".format(d_apple_price))\n",
    "print(\"사과 개수 미분 : {}\".format(d_apple_cnt))\n",
    "print(\"사과 가격 미분 : {}\".format(d_apple_per_cost))\n",
    "\n",
    "print(\"오렌지 전체 가격 미분 : {}\".format(d_orange_price))\n",
    "print(\"오렌지 개수 미분 : {}\".format(d_orange_cnt))\n",
    "print(\"오렌지 가격 미분 : {}\".format(d_orange_per_cost))"
   ]
  },
  {
   "cell_type": "code",
   "execution_count": null,
   "metadata": {},
   "outputs": [],
   "source": []
  }
 ],
 "metadata": {
  "kernelspec": {
   "display_name": "ml-env",
   "language": "python",
   "name": "python3"
  },
  "language_info": {
   "codemirror_mode": {
    "name": "ipython",
    "version": 3
   },
   "file_extension": ".py",
   "mimetype": "text/x-python",
   "name": "python",
   "nbconvert_exporter": "python",
   "pygments_lexer": "ipython3",
   "version": "3.8.19"
  }
 },
 "nbformat": 4,
 "nbformat_minor": 2
}
